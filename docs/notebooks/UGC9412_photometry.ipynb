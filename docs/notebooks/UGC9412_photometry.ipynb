{
 "cells": [
  {
   "cell_type": "code",
   "execution_count": null,
   "id": "d14e2d24",
   "metadata": {},
   "outputs": [],
   "source": [
    "import os\n",
    "from du_astro_utils import calibration, photometry, utils\n",
    "import matplotlib.pyplot as plt\n",
    "import numpy as np\n",
    "from astropy.io import fits\n",
    "from astropy.stats import sigma_clipped_stats\n",
    "from scipy.ndimage import median_filter\n",
    "from tqdm import tqdm"
   ]
  },
  {
   "cell_type": "code",
   "execution_count": null,
   "id": "ba3fec8b-e27d-4119-b026-29c84138c266",
   "metadata": {},
   "outputs": [],
   "source": [
    "data_dir = os.path.join(utils.C2PU_RES_DIR, utils.DIR_PHOTOM, utils.DIR_GALCLUST)"
   ]
  },
  {
   "cell_type": "code",
   "execution_count": null,
   "id": "154b1a61-e7cc-4568-99d1-08a44b8dac72",
   "metadata": {},
   "outputs": [],
   "source": [
    "reduced = True\n",
    "aligned = False\n",
    "for ix, ddir in enumerate(os.listdir(data_dir)):\n",
    "    subdata_dir = os.path.join(data_dir, ddir)\n",
    "    if reduced:\n",
    "        subdata_dir = os.path.join(subdata_dir, \"REDUCED\")\n",
    "    if aligned:\n",
    "        subdata_dir = os.path.join(subdata_dir, \"aligned\")\n",
    "    if os.path.isdir(subdata_dir):\n",
    "        list_fits = [im for im in sorted(os.listdir(subdata_dir)) if \"REDUCED.fits\" in im]\n",
    "        list_fits = sorted(list_fits)\n",
    "        print(f\"{ix} - {subdata_dir} : {len(list_fits)} files\")\n",
    "    else:\n",
    "        print(f\"{subdata_dir} : not a directory.\")"
   ]
  },
  {
   "cell_type": "code",
   "execution_count": null,
   "id": "d913c5a9-5619-4bc0-aa58-7ea0eacbf726",
   "metadata": {},
   "outputs": [],
   "source": [
    "if True:\n",
    "    combtype = \"MEDIAN\"  # 'AVERAGE', 'SUM'\n",
    "    center_type = \"MOST\"\n",
    "    for filt in tqdm([\"g\", \"r\", \"i\"]):  # tqdm(['g', 'r', 'i', 'z']):\n",
    "        exp = 60 if filt == \"z\" else 30 if filt == \"i\" else 15  # 10\n",
    "        os.listdir(data_dir)[9] if filt == \"z\" else os.listdir(data_dir)[8]\n",
    "        with fits.open(f\"coadd_{dirchoice}_SDSS{filt}p_{exp:04d}s_RED_SW_{combtype}_{center_type}.fits\") as stack_ip:\n",
    "            hdr = stack_ip[0].header\n",
    "            data = stack_ip[0].data\n",
    "        mean, med, sigma = sigma_clipped_stats(data, sigma=3)\n",
    "        plt.imshow(data, cmap=\"gray\", vmin=med, vmax=med + 12 * sigma)\n",
    "        # plt.colorbar()\n",
    "        plt.title(f\"SDSS{filt}p_{exp:04d}s_RED_SW_{combtype}\")\n",
    "        plt.show()"
   ]
  },
  {
   "cell_type": "markdown",
   "id": "5db10b68-d79c-48d1-829b-07d0704f9b93",
   "metadata": {},
   "source": [
    "## References in PANSTARRS"
   ]
  },
  {
   "cell_type": "code",
   "execution_count": null,
   "id": "c03b8f7a-5114-42bd-82cd-ffe9a0effb8d",
   "metadata": {},
   "outputs": [],
   "source": [
    "from du_astro_utils import query_panstarrs"
   ]
  },
  {
   "cell_type": "code",
   "execution_count": null,
   "id": "d5c340d4-5102-48fa-8150-045ced2828c1",
   "metadata": {},
   "outputs": [],
   "source": [
    "manual_stack = True\n",
    "combtype = \"MEDIAN\"  # SUM ou AVERAGE ou MEDIAN\n",
    "center_type = \"MOST\"\n",
    "filt = \"g\"  # , 'r', 'i', 'z']:\n",
    "exp = 60 if filt == \"z\" else 30 if filt == \"i\" else 15  # 10\n",
    "os.listdir(data_dir)[9] if filt == \"z\" else os.listdir(data_dir)[8]\n",
    "refname = f\"coadd_{dirchoice}_SDSS{filt}p_{exp:04d}s_RED_np{combtype}.fits\" if manual_stack else f\"coadd_{dirchoice}_SDSS{filt}p_{exp:04d}s_RED_SW_{combtype}_{center_type}.fits\"\n",
    "ref_ps = query_panstarrs(refname)"
   ]
  },
  {
   "cell_type": "code",
   "execution_count": null,
   "id": "bbdaa117-a8b5-42df-bce5-607fd50f3e57",
   "metadata": {},
   "outputs": [],
   "source": [
    "ref_ps"
   ]
  },
  {
   "cell_type": "code",
   "execution_count": null,
   "id": "86904257-3f3c-4f8a-8a1d-ae41b4077d53",
   "metadata": {},
   "outputs": [],
   "source": [
    "from astropy.wcs import WCS\n",
    "from astropy.wcs.utils import skycoord_to_pixel\n",
    "from astropy.coordinates import Angle, SkyCoord\n",
    "\n",
    "coord_panstarrs = SkyCoord(ref_ps[\"RAJ2000\"], ref_ps[\"DEJ2000\"])"
   ]
  },
  {
   "cell_type": "markdown",
   "id": "32e5ee46",
   "metadata": {},
   "source": [
    "## Photometry"
   ]
  },
  {
   "cell_type": "code",
   "execution_count": null,
   "id": "b725257d-1e1f-4fb4-93db-26b4a12c7137",
   "metadata": {},
   "outputs": [],
   "source": [
    "manual_stack = False\n",
    "combtype = \"Sum\"  # SUM ou AVERAGE ou MEDIAN\n",
    "center_type = \"MOST\""
   ]
  },
  {
   "cell_type": "markdown",
   "id": "ee419aed-ff1d-4539-a921-a1081f392f65",
   "metadata": {},
   "source": [
    "### G-band"
   ]
  },
  {
   "cell_type": "code",
   "execution_count": null,
   "id": "41b4a1d9-450e-40dc-a75c-b5c4758b7f73",
   "metadata": {},
   "outputs": [],
   "source": [
    "from astropy.table import Table, vstack\n",
    "\n",
    "from astropy.time import Time\n",
    "import warnings\n",
    "from astropy.utils.exceptions import AstropyWarning\n",
    "from astropy.coordinates.name_resolve import NameResolveError\n",
    "\n",
    "use_sextractor = True\n",
    "\n",
    "filt = \"g\"  # , 'r', 'i', 'z']:\n",
    "exp = 60 if filt == \"z\" else 30 if filt == \"i\" else 15  # 10\n",
    "os.listdir(data_dir)[9] if filt == \"z\" else os.listdir(data_dir)[8]\n",
    "red_sci_image = f\"coadd_{dirchoice}_SDSS{filt}p_{exp:04d}s_RED_np{combtype}.fits\" if manual_stack else f\"coadd_{dirchoice}_SDSS{filt}p_{exp:04d}s_RED_SW_{combtype}_{center_type}.fits\"\n",
    "ref_ps = query_panstarrs(red_sci_image)\n",
    "coord_panstarrs = SkyCoord(ref_ps[\"RAJ2000\"], ref_ps[\"DEJ2000\"])\n",
    "im_dir = os.path.abspath(os.path.dirname(red_sci_image))\n",
    "im_name, im_ext = os.path.splitext(os.path.basename(red_sci_image))\n",
    "with fits.open(red_sci_image) as hdul:\n",
    "    hdu = hdul[0]\n",
    "    wcs = WCS(hdu.header)\n",
    "    epoch = Time(hdu.header.get(\"MJD-OBS\"), format=\"mjd\", scale=\"utc\")\n",
    "    if use_sextractor:\n",
    "        sex_cmd = f\"source-extractor -c default.sex {red_sci_image} -CATALOG_NAME {im_name}.cat -CATALOG_TYPE FITS_1.0 -VERBOSE_TYPE QUIET -FILTER_NAME gauss_5.0_9x9.conv\"\n",
    "        os.system(sex_cmd)\n",
    "        cat_tab_g = Table.read(f\"{im_name}.cat\")\n",
    "        cat_tab_g.rename_column(\"X_IMAGE\", \"xcentroid\")\n",
    "        cat_tab_g.rename_column(\"Y_IMAGE\", \"ycentroid\")\n",
    "        _, fwhm, _ = sigma_clipped_stats(cat_tab_g[\"FWHM_IMAGE\"], sigma=3)\n",
    "        source_coords_g = SkyCoord(ra=cat_tab_g[\"ALPHA_J2000\"], dec=cat_tab_g[\"DELTA_J2000\"], unit=\"deg\", obstime=epoch)\n",
    "    else:\n",
    "        sources_g = photometry.detect_sources(red_sci_image, detection_fwhm=10, verbose=False)\n",
    "        try:\n",
    "            fwhm = photometry.get_fwhm(red_sci_image, sources)\n",
    "        except RuntimeError:\n",
    "            fwhm = 10\n",
    "        cat_tab_g = photometry.apert_photometry(red_sci_image, sources_g, fwhm)\n",
    "        source_coords_g = SkyCoord.from_pixel(cat_tab_g[\"xcentroid\"], cat_tab_g[\"xcentroid\"], wcs)"
   ]
  },
  {
   "cell_type": "code",
   "execution_count": null,
   "id": "61bc20f9-cced-46c3-a172-4bf99b2621c4",
   "metadata": {},
   "outputs": [],
   "source": [
    "cat_tab_g"
   ]
  },
  {
   "cell_type": "code",
   "execution_count": null,
   "id": "b27a5996-33ec-4692-ab83-060debb379aa",
   "metadata": {},
   "outputs": [],
   "source": [
    "plt.scatter(cat_tab_g[\"CLASS_STAR\"], cat_tab_g[\"ELONGATION\"])\n",
    "plt.ylim(0.0, 5.0)"
   ]
  },
  {
   "cell_type": "code",
   "execution_count": null,
   "id": "f2a42658-eb9a-4aee-bdc5-44a79bd0fada",
   "metadata": {},
   "outputs": [],
   "source": [
    "plt.hist(cat_tab_g[\"CLASS_STAR\"], bins=50)"
   ]
  },
  {
   "cell_type": "code",
   "execution_count": null,
   "id": "0fd48809-17c0-4929-9058-85bc3040fd22",
   "metadata": {},
   "outputs": [],
   "source": [
    "cat_stars_g = cat_tab_g[cat_tab_g[\"CLASS_STAR\"] > 0.7]\n",
    "star_coords_g = source_coords_g[cat_tab_g[\"CLASS_STAR\"] > 0.7]"
   ]
  },
  {
   "cell_type": "code",
   "execution_count": null,
   "id": "25b630ba-fffe-4946-8b3a-13b31ad6b829",
   "metadata": {},
   "outputs": [],
   "source": [
    "cat_stars_g"
   ]
  },
  {
   "cell_type": "code",
   "execution_count": null,
   "id": "621fdf6a-aea5-45af-b406-c8eb964d8db0",
   "metadata": {},
   "outputs": [],
   "source": [
    "import astropy.units as u\n",
    "\n",
    "xm_id, xm_ang_distance, _ = star_coords_g.match_to_catalog_sky(coord_panstarrs, nthneighbor=1)\n",
    "# print(hdu.header.get('PIXSCALX') * fwhm)\n",
    "# max_sep = hdu.header.get('PIXSCALX') * fwhm * u.arcsec\n",
    "max_sep = 2.5 * u.arcsec\n",
    "sep_constraint = xm_ang_distance < max_sep\n",
    "coord_matches_g = star_coords_g[sep_constraint]\n",
    "catalog_matches_g = ref_ps[xm_id[sep_constraint]]\n",
    "coord_catalog_matches_g = coord_panstarrs[xm_id[sep_constraint]]"
   ]
  },
  {
   "cell_type": "code",
   "execution_count": null,
   "id": "408bba3a-4b6f-4ac2-9197-e2cae9841754",
   "metadata": {},
   "outputs": [],
   "source": [
    "# Compute instrumental magnitude\n",
    "if not use_sextractor:\n",
    "    exptime = hdu.header.get(\"EXPTIME\")\n",
    "    ins_mag_g = -2.5 * np.log10(cat_stars_g[sep_constraint][\"aper_sum_bkgsub\"] / exptime)\n",
    "    cat_mag_g = ref_ps[\"gmag\"][xm_id[sep_constraint]]\n",
    "\n",
    "    ins_err_g = ins_mag_g - -2.5 * np.log10((cat_stars_g[sep_constraint][\"aper_sum_bkgsub\"] + cat_stars_g[sep_constraint][\"noise\"]) / exptime)\n",
    "    cat_err_g = ref_ps[\"e_gmag\"][xm_id[sep_constraint]]\n",
    "\n",
    "    cat_stars_g[\"ins_mag\"] = 99\n",
    "    cat_stars_g[\"ins_mag\"][sep_constraint] = ins_mag_g\n",
    "else:\n",
    "    cat_mag_g = ref_ps[\"gmag\"][xm_id[sep_constraint]]\n",
    "    cat_err_g = ref_ps[\"e_gmag\"][xm_id[sep_constraint]]\n",
    "    ins_mag_g = cat_stars_g[sep_constraint][\"MAG_BEST\"]\n",
    "    ins_err_g = cat_stars_g[sep_constraint][\"MAGERR_BEST\"]"
   ]
  },
  {
   "cell_type": "code",
   "execution_count": null,
   "id": "9460de79-c23f-412b-8bbe-e398796a6b62",
   "metadata": {},
   "outputs": [],
   "source": [
    "sel = ins_mag_g < 99\n",
    "plt.scatter(ins_mag_g[sel], cat_mag_g[sel])"
   ]
  },
  {
   "cell_type": "code",
   "execution_count": null,
   "id": "3819060c-bb10-4749-9951-0a56118015a4",
   "metadata": {},
   "outputs": [],
   "source": [
    "plt.scatter(cat_mag_g[sel], ins_mag_g[sel] - cat_mag_g[sel])"
   ]
  },
  {
   "cell_type": "code",
   "execution_count": null,
   "id": "e378d1cf-505d-410a-98c6-a510d163c4e9",
   "metadata": {},
   "outputs": [],
   "source": [
    "from sklearn import linear_model\n",
    "\n",
    "# Selection from magnitude range\n",
    "mag_min, mag_max = 14, 18\n",
    "cond = (cat_mag_g > mag_min) & (cat_mag_g < mag_max) & (~cat_mag_g.mask) & (~np.isnan(ins_mag_g)) & (ins_mag_g < 99)\n",
    "\n",
    "# Create two mock arrays for linear regression\n",
    "X = ins_mag_g[cond].reshape(-1, 1)\n",
    "y = cat_mag_g[cond].reshape(-1, 1)\n",
    "\n",
    "\n",
    "# Simple linear regression\n",
    "linear = linear_model.LinearRegression()\n",
    "linear.fit(X, y)\n",
    "\n",
    "\n",
    "# sigma clipping pour choisir le threshold\n",
    "from scipy import stats\n",
    "\n",
    "MAD = stats.median_abs_deviation(X - y)\n",
    "_, _, sig = sigma_clipped_stats(X - y)\n",
    "\n",
    "print(MAD, sig)\n",
    "\n",
    "# RANSAC linear regressions\n",
    "ransac = linear_model.RANSACRegressor(residual_threshold=3 * MAD[0])\n",
    "# ransac = linear_model.RANSACRegressor()\n",
    "ransac.fit(X, y)\n",
    "\n",
    "# Results\n",
    "print(\"Photometric calibration:\")\n",
    "print(f\"  Linear Slope: {linear.coef_[0][0]:.3f}\")\n",
    "print(f\"  Linear ZP   : {linear.intercept_[0]:.3f}\\n\")\n",
    "print(f\"  RANSAC Slope: {ransac.estimator_.coef_[0][0]:.3f}\")\n",
    "print(f\"  RANSAC ZP   : {ransac.estimator_.intercept_[0]:.3f}\")"
   ]
  },
  {
   "cell_type": "code",
   "execution_count": null,
   "id": "b8e34dcc-01f4-4f0d-9bb9-157710c7b9da",
   "metadata": {},
   "outputs": [],
   "source": [
    "# Plotting regression\n",
    "# Outliers and Valid points\n",
    "inlier_mask = ransac.inlier_mask_\n",
    "outlier_mask = np.logical_not(inlier_mask)\n",
    "\n",
    "# Linear regressions (simple and RANSAC)\n",
    "line_X = np.arange(X.min(), X.max() + 1)[:, np.newaxis]\n",
    "line_y_simple = linear.predict(line_X)\n",
    "line_y_ransac = ransac.predict(line_X)\n",
    "\n",
    "fig, ax = plt.subplots(1, 2, figsize=(15, 5))\n",
    "\n",
    "# Plot data\n",
    "ax[0].scatter(X[inlier_mask], y[inlier_mask], color=\"yellowgreen\", marker=\".\", label=\"Inliers\")\n",
    "ax[0].scatter(X[outlier_mask], y[outlier_mask], color=\"gray\", marker=\".\", label=\"Outliers\")\n",
    "\n",
    "# Plot regressions\n",
    "ax[0].plot(line_X, line_y_simple, color=\"cornflowerblue\", label=\"Linear regressor\")\n",
    "ax[0].plot(line_X, line_y_ransac, color=\"navy\", label=\"RANSAC regressor\")\n",
    "\n",
    "# Axes...\n",
    "ax[0].legend(loc=\"lower right\")\n",
    "# ax[0].set_ylim([10,18])\n",
    "ax[0].set_xlabel(\"Instrument magnitude\")\n",
    "ax[0].set_ylabel(\"Catalog magnitude\")\n",
    "ax[0].set_aspect(\"equal\")\n",
    "\n",
    "_, zp_median, zp_sigma = sigma_clipped_stats(y - X, sigma=3)\n",
    "ax[1].scatter(y[inlier_mask], y[inlier_mask] - X[inlier_mask], color=\"yellowgreen\", marker=\".\", label=\"Inliers\")\n",
    "ax[1].scatter(y[outlier_mask], y[outlier_mask] - X[outlier_mask], color=\"gray\", marker=\".\", label=\"Outliers\")\n",
    "ax[1].set_xlabel(\"Catalog magnitude\")\n",
    "\n",
    "ax[1].axhline(zp_median, label=\"Median\")\n",
    "ax[1].axhline(zp_median + zp_sigma, linestyle=\"--\", label=\"Standard deviation\")\n",
    "ax[1].axhline(zp_median - zp_sigma, linestyle=\"--\")\n",
    "print(f\"  sigma  ZP   : {zp_sigma:.3f}\")\n",
    "\n",
    "ax[1].set_ylabel(\"Instrument - Catalog magnitude\")\n",
    "ax[1].legend(loc=\"best\")"
   ]
  },
  {
   "cell_type": "code",
   "execution_count": null,
   "id": "d3cac16f-2572-4d38-aa1e-8e5eebccb9a6",
   "metadata": {},
   "outputs": [],
   "source": [
    "# Compute calibrated mag\n",
    "cat_tab_g[\"AB_MAG\"] = 99.0\n",
    "\n",
    "# Positive values\n",
    "if not use_sextractor:\n",
    "    positive = np.where(cat_tab_g[\"aper_sum_bkgsub\"] > 0)\n",
    "    cat_tab_g[\"AB_MAG\"][positive] = ransac.predict((-2.5 * np.log10(cat_tab_g[positive][\"aper_sum_bkgsub\"] / exptime)).data.reshape(-1, 1)).flatten()\n",
    "else:\n",
    "    positive = np.where(cat_tab_g[\"FLUX_BEST\"] > 0)\n",
    "    cat_tab_g[\"AB_MAG\"][positive] = ransac.predict(cat_tab_g[positive][\"MAG_BEST\"].data.reshape(-1, 1)).flatten()\n",
    "cat_tab_g"
   ]
  },
  {
   "cell_type": "markdown",
   "id": "31ac9a22-d77d-4207-b302-e6ce78165bca",
   "metadata": {
    "jp-MarkdownHeadingCollapsed": true
   },
   "source": [
    "### R- band"
   ]
  },
  {
   "cell_type": "code",
   "execution_count": null,
   "id": "d81689f9-2bf4-4edb-b6a0-ba8c9129d417",
   "metadata": {},
   "outputs": [],
   "source": [
    "filt = \"r\"\n",
    "exp = 60 if filt == \"z\" else 30 if filt == \"i\" else 15  # 10\n",
    "os.listdir(data_dir)[9] if filt == \"z\" else os.listdir(data_dir)[8]\n",
    "red_sci_image = f\"coadd_{dirchoice}_SDSS{filt}p_{exp:04d}s_RED_np{combtype}.fits\" if manual_stack else f\"coadd_{dirchoice}_SDSS{filt}p_{exp:04d}s_RED_SW_{combtype}_{center_type}.fits\"\n",
    "ref_ps = query_panstarrs(red_sci_image)\n",
    "coord_panstarrs = SkyCoord(ref_ps[\"RAJ2000\"], ref_ps[\"DEJ2000\"])\n",
    "im_dir = os.path.abspath(os.path.dirname(red_sci_image))\n",
    "im_name, im_ext = os.path.splitext(os.path.basename(red_sci_image))\n",
    "with fits.open(red_sci_image) as hdul:\n",
    "    hdu = hdul[0]\n",
    "    wcs = WCS(hdu.header)\n",
    "    epoch = Time(hdu.header.get(\"MJD-OBS\"), format=\"mjd\")\n",
    "    if use_sextractor:\n",
    "        sex_cmd = f\"source-extractor -c default.sex {red_sci_image} -CATALOG_NAME {im_name}.cat -CATALOG_TYPE FITS_1.0 -VERBOSE_TYPE QUIET -FILTER_NAME gauss_5.0_9x9.conv\"\n",
    "        os.system(sex_cmd)\n",
    "        cat_tab_r = Table.read(f\"{im_name}.cat\")\n",
    "        cat_tab_r.rename_column(\"X_IMAGE\", \"xcentroid\")\n",
    "        cat_tab_r.rename_column(\"Y_IMAGE\", \"ycentroid\")\n",
    "        _, fwhm, _ = sigma_clipped_stats(cat_tab_r[\"FWHM_IMAGE\"], sigma=3)\n",
    "        source_coords_r = SkyCoord(ra=cat_tab_r[\"ALPHA_J2000\"], dec=cat_tab_r[\"DELTA_J2000\"], unit=\"deg\", obstime=epoch)\n",
    "    else:\n",
    "        sources_r = photometry.detect_sources(red_sci_image, detection_fwhm=10, verbose=False)\n",
    "        try:\n",
    "            fwhm = photometry.get_fwhm(red_sci_image, sources_r)\n",
    "        except RuntimeError:\n",
    "            fwhm = 10\n",
    "        cat_tab_r = photometry.apert_photometry(red_sci_image, sources_r, fwhm)\n",
    "        source_coords_r = SkyCoord.from_pixel(cat_tab_r[\"xcentroid\"], cat_tab_r[\"xcentroid\"], wcs)"
   ]
  },
  {
   "cell_type": "code",
   "execution_count": null,
   "id": "7a96a19b-b47d-4e03-8144-0a5f6ba464d0",
   "metadata": {},
   "outputs": [],
   "source": [
    "plt.scatter(cat_tab_r[\"CLASS_STAR\"], cat_tab_r[\"ELONGATION\"])\n",
    "plt.ylim(0.0, 5.0)"
   ]
  },
  {
   "cell_type": "code",
   "execution_count": null,
   "id": "f9637825-85e4-47d8-ab8b-b871b78fd7bb",
   "metadata": {},
   "outputs": [],
   "source": [
    "plt.hist(cat_tab_r[\"CLASS_STAR\"], bins=50)"
   ]
  },
  {
   "cell_type": "code",
   "execution_count": null,
   "id": "bfa8fe2b-b8ee-43aa-b3f2-c7ea75b9d8fc",
   "metadata": {},
   "outputs": [],
   "source": [
    "cat_stars_r = cat_tab_r[cat_tab_r[\"CLASS_STAR\"] > 0.8]\n",
    "star_coords_r = source_coords_r[cat_tab_r[\"CLASS_STAR\"] > 0.8]"
   ]
  },
  {
   "cell_type": "code",
   "execution_count": null,
   "id": "24a50c6a-0d39-4e9b-aafd-a1b08828d936",
   "metadata": {},
   "outputs": [],
   "source": [
    "xm_id, xm_ang_distance, _ = star_coords_r.match_to_catalog_sky(coord_panstarrs, nthneighbor=1)\n",
    "# print(hdu.header.get('PIXSCALX') * fwhm)\n",
    "# max_sep = hdu.header.get('PIXSCALX') * fwhm * u.arcsec\n",
    "max_sep = 2.5 * u.arcsec\n",
    "sep_constraint = xm_ang_distance < max_sep\n",
    "coord_matches_r = star_coords_r[sep_constraint]\n",
    "catalog_matches_r = ref_ps[xm_id[sep_constraint]]\n",
    "coord_catalog_matches_r = coord_panstarrs[xm_id[sep_constraint]]"
   ]
  },
  {
   "cell_type": "code",
   "execution_count": null,
   "id": "05d1bee3-6878-4a08-816c-3171a4a3432f",
   "metadata": {},
   "outputs": [],
   "source": [
    "# Compute instrumental magnitude\n",
    "if not use_sextractor:\n",
    "    exptime = hdu.header.get(\"EXPTIME\")\n",
    "    ins_mag_r = -2.5 * np.log10(cat_stars_r[sep_constraint][\"aper_sum_bkgsub\"] / exptime)\n",
    "    cat_mag_r = ref_ps[\"rmag\"][xm_id[sep_constraint]]\n",
    "\n",
    "    ins_err_r = ins_mag_r - -2.5 * np.log10((cat_stars_r[sep_constraint][\"aper_sum_bkgsub\"] + cat_stars_r[sep_constraint][\"noise\"]) / exptime)\n",
    "    cat_err_r = ref_ps[\"e_rmag\"][xm_id[sep_constraint]]\n",
    "\n",
    "    cat_stars_r[\"ins_mag\"] = 99\n",
    "    cat_stars_r[\"ins_mag\"][sep_constraint] = ins_mag_r\n",
    "else:\n",
    "    cat_mag_r = ref_ps[\"rmag\"][xm_id[sep_constraint]]\n",
    "    cat_err_r = ref_ps[\"e_rmag\"][xm_id[sep_constraint]]\n",
    "    ins_mag_r = cat_stars_r[sep_constraint][\"MAG_BEST\"]\n",
    "    ins_err_r = cat_stars_r[sep_constraint][\"MAGERR_BEST\"]\n",
    "\n",
    "sel = ins_mag_r < 99\n",
    "plt.scatter(ins_mag_r[sel], cat_mag_r[sel])"
   ]
  },
  {
   "cell_type": "code",
   "execution_count": null,
   "id": "9bd220f3-9851-4cf0-b58a-29936e48d9b9",
   "metadata": {},
   "outputs": [],
   "source": [
    "# Selection from magnitude range\n",
    "mag_min, mag_max = 14, 18\n",
    "cond = (cat_mag_r > mag_min) & (cat_mag_r < mag_max) & (~cat_mag_r.mask) & (~np.isnan(ins_mag_r)) & (ins_mag_r < 99)\n",
    "\n",
    "# Create two mock arrays for linear regression\n",
    "X = ins_mag_r[cond].reshape(-1, 1)\n",
    "y = cat_mag_r[cond].reshape(-1, 1)\n",
    "\n",
    "\n",
    "# Simple linear regression\n",
    "linear = linear_model.LinearRegression()\n",
    "linear.fit(X, y)\n",
    "\n",
    "\n",
    "# sigma clipping pour choisir le threshold\n",
    "from scipy import stats\n",
    "\n",
    "MAD = stats.median_abs_deviation(X - y)\n",
    "_, _, sig = sigma_clipped_stats(X - y)\n",
    "\n",
    "print(MAD, sig)\n",
    "\n",
    "# RANSAC linear regressions\n",
    "ransac = linear_model.RANSACRegressor(residual_threshold=3 * MAD[0])\n",
    "# ransac = linear_model.RANSACRegressor()\n",
    "ransac.fit(X, y)\n",
    "\n",
    "# Results\n",
    "print(\"Photometric calibration:\")\n",
    "print(f\"  Linear Slope: {linear.coef_[0][0]:.3f}\")\n",
    "print(f\"  Linear ZP   : {linear.intercept_[0]:.3f}\\n\")\n",
    "print(f\"  RANSAC Slope: {ransac.estimator_.coef_[0][0]:.3f}\")\n",
    "print(f\"  RANSAC ZP   : {ransac.estimator_.intercept_[0]:.3f}\")\n",
    "\n",
    "# Plotting regression\n",
    "# Outliers and Valid points\n",
    "inlier_mask = ransac.inlier_mask_\n",
    "outlier_mask = np.logical_not(inlier_mask)\n",
    "\n",
    "# Linear regressions (simple and RANSAC)\n",
    "line_X = np.arange(X.min(), X.max() + 1)[:, np.newaxis]\n",
    "line_y_simple = linear.predict(line_X)\n",
    "line_y_ransac = ransac.predict(line_X)\n",
    "\n",
    "fig, ax = plt.subplots(1, 2, figsize=(15, 5))\n",
    "\n",
    "# Plot data\n",
    "ax[0].scatter(X[inlier_mask], y[inlier_mask], color=\"yellowgreen\", marker=\".\", label=\"Inliers\")\n",
    "ax[0].scatter(X[outlier_mask], y[outlier_mask], color=\"gray\", marker=\".\", label=\"Outliers\")\n",
    "\n",
    "# Plot regressions\n",
    "ax[0].plot(line_X, line_y_simple, color=\"cornflowerblue\", label=\"Linear regressor\")\n",
    "ax[0].plot(line_X, line_y_ransac, color=\"navy\", label=\"RANSAC regressor\")\n",
    "\n",
    "# Axes...\n",
    "ax[0].legend(loc=\"lower right\")\n",
    "# ax[0].set_ylim([10,18])\n",
    "ax[0].set_xlabel(\"Instrument magnitude\")\n",
    "ax[0].set_ylabel(\"Catalog magnitude\")\n",
    "ax[0].set_aspect(\"equal\")\n",
    "\n",
    "_, zp_median, zp_sigma = sigma_clipped_stats(y - X, sigma=3)\n",
    "ax[1].scatter(y[inlier_mask], y[inlier_mask] - X[inlier_mask], color=\"yellowgreen\", marker=\".\", label=\"Inliers\")\n",
    "ax[1].scatter(y[outlier_mask], y[outlier_mask] - X[outlier_mask], color=\"gray\", marker=\".\", label=\"Outliers\")\n",
    "ax[1].set_xlabel(\"Catalog magnitude\")\n",
    "\n",
    "ax[1].axhline(zp_median, label=\"Median\")\n",
    "ax[1].axhline(zp_median + zp_sigma, linestyle=\"--\", label=\"Standard deviation\")\n",
    "ax[1].axhline(zp_median - zp_sigma, linestyle=\"--\")\n",
    "print(f\"  sigma  ZP   : {zp_sigma:.3f}\")\n",
    "\n",
    "ax[1].set_ylabel(\"Instrument - Catalog magnitude\")\n",
    "ax[1].legend(loc=\"best\")"
   ]
  },
  {
   "cell_type": "code",
   "execution_count": null,
   "id": "82eabfa2-4144-431d-aad8-3bf52ad9c024",
   "metadata": {},
   "outputs": [],
   "source": [
    "# Compute calibrated mag\n",
    "cat_tab_r[\"AB_MAG\"] = 99.0\n",
    "\n",
    "# Positive values\n",
    "if not use_sextractor:\n",
    "    positive = np.where(cat_tab_r[\"aper_sum_bkgsub\"] > 0)\n",
    "    cat_tab_r[\"AB_MAG\"][positive] = ransac.predict((-2.5 * np.log10(cat_tab_r[positive][\"aper_sum_bkgsub\"] / exptime)).data.reshape(-1, 1)).flatten()\n",
    "else:\n",
    "    positive = np.where(cat_tab_r[\"FLUX_BEST\"] > 0)\n",
    "    cat_tab_r[\"AB_MAG\"][positive] = ransac.predict(cat_tab_r[positive][\"MAG_BEST\"].data.reshape(-1, 1)).flatten()\n",
    "cat_tab_r"
   ]
  },
  {
   "cell_type": "markdown",
   "id": "05799426-3181-4ebd-aa1a-111a106ea95a",
   "metadata": {
    "jp-MarkdownHeadingCollapsed": true
   },
   "source": [
    "### I- band"
   ]
  },
  {
   "cell_type": "code",
   "execution_count": null,
   "id": "3dc3630f-cb43-4600-8d61-b791ec26e74b",
   "metadata": {},
   "outputs": [],
   "source": [
    "filt = \"i\"\n",
    "exp = 60 if filt == \"z\" else 30 if filt == \"i\" else 15  # 10\n",
    "os.listdir(data_dir)[9] if filt == \"z\" else os.listdir(data_dir)[8]\n",
    "red_sci_image = f\"coadd_{dirchoice}_SDSS{filt}p_{exp:04d}s_RED_np{combtype}.fits\" if manual_stack else f\"coadd_{dirchoice}_SDSS{filt}p_{exp:04d}s_RED_SW_{combtype}_{center_type}.fits\"\n",
    "ref_ps = query_panstarrs(red_sci_image)\n",
    "coord_panstarrs = SkyCoord(ref_ps[\"RAJ2000\"], ref_ps[\"DEJ2000\"])\n",
    "im_dir = os.path.abspath(os.path.dirname(red_sci_image))\n",
    "im_name, im_ext = os.path.splitext(os.path.basename(red_sci_image))\n",
    "with fits.open(red_sci_image) as hdul:\n",
    "    hdu = hdul[0]\n",
    "    wcs = WCS(hdu.header)\n",
    "    epoch = Time(hdu.header.get(\"MJD-OBS\"), format=\"mjd\")\n",
    "    if use_sextractor:\n",
    "        sex_cmd = f\"source-extractor -c default.sex {red_sci_image} -CATALOG_NAME {im_name}.cat -CATALOG_TYPE FITS_1.0 -VERBOSE_TYPE QUIET -FILTER_NAME gauss_5.0_9x9.conv\"\n",
    "        os.system(sex_cmd)\n",
    "        cat_tab_i = Table.read(f\"{im_name}.cat\")\n",
    "        cat_tab_i.rename_column(\"X_IMAGE\", \"xcentroid\")\n",
    "        cat_tab_i.rename_column(\"Y_IMAGE\", \"ycentroid\")\n",
    "        _, fwhm, _ = sigma_clipped_stats(cat_tab_i[\"FWHM_IMAGE\"], sigma=3)\n",
    "        source_coords_i = SkyCoord(ra=cat_tab_i[\"ALPHA_J2000\"], dec=cat_tab_i[\"DELTA_J2000\"], unit=\"deg\", obstime=epoch)\n",
    "    else:\n",
    "        sources_i = photometry.detect_sources(red_sci_image, detection_fwhm=10, verbose=False)\n",
    "        try:\n",
    "            fwhm = photometry.get_fwhm(red_sci_image, sources_i)\n",
    "        except RuntimeError:\n",
    "            fwhm = 10\n",
    "        cat_tab_i = photometry.apert_photometry(red_sci_image, sources_i, fwhm)\n",
    "        source_coords_i = SkyCoord.from_pixel(cat_tab_i[\"xcentroid\"], cat_tab_i[\"xcentroid\"], wcs)"
   ]
  },
  {
   "cell_type": "code",
   "execution_count": null,
   "id": "a03bed42-8336-4760-b918-b5bc706df1d4",
   "metadata": {},
   "outputs": [],
   "source": [
    "plt.scatter(cat_tab_i[\"CLASS_STAR\"], cat_tab_i[\"ELONGATION\"])\n",
    "plt.ylim(0.0, 5.0)"
   ]
  },
  {
   "cell_type": "code",
   "execution_count": null,
   "id": "c21eb7c1-4fd4-4888-9633-f389d19ebf6c",
   "metadata": {},
   "outputs": [],
   "source": [
    "plt.hist(cat_tab_i[\"CLASS_STAR\"], bins=50)"
   ]
  },
  {
   "cell_type": "code",
   "execution_count": null,
   "id": "142840d2-3cd5-41ea-ac3d-6671bcc8f572",
   "metadata": {},
   "outputs": [],
   "source": [
    "cat_stars_i = cat_tab_i[cat_tab_i[\"CLASS_STAR\"] > 0.8]\n",
    "star_coords_i = source_coords_i[cat_tab_i[\"CLASS_STAR\"] > 0.8]\n",
    "xm_id, xm_ang_distance, _ = star_coords_i.match_to_catalog_sky(coord_panstarrs, nthneighbor=1)\n",
    "# print(hdu.header.get('PIXSCALX') * fwhm)\n",
    "# max_sep = hdu.header.get('PIXSCALX') * fwhm * u.arcsec\n",
    "max_sep = 2.5 * u.arcsec\n",
    "sep_constraint = xm_ang_distance < max_sep\n",
    "coord_matches_i = star_coords_i[sep_constraint]\n",
    "catalog_matches_i = ref_ps[xm_id[sep_constraint]]\n",
    "coord_catalog_matches_i = coord_panstarrs[xm_id[sep_constraint]]\n",
    "# Compute instrumental magnitude\n",
    "if not use_sextractor:\n",
    "    exptime = hdu.header.get(\"EXPTIME\")\n",
    "    ins_mag_i = -2.5 * np.log10(cat_stars_i[sep_constraint][\"aper_sum_bkgsub\"] / exptime)\n",
    "    cat_mag_i = ref_ps[\"imag\"][xm_id[sep_constraint]]\n",
    "\n",
    "    ins_err_i = ins_mag_i - -2.5 * np.log10((cat_stars_i[sep_constraint][\"aper_sum_bkgsub\"] + cat_stars_i[sep_constraint][\"noise\"]) / exptime)\n",
    "    cat_err_i = ref_ps[\"e_imag\"][xm_id[sep_constraint]]\n",
    "\n",
    "    cat_stars_i[\"ins_mag\"] = 99\n",
    "    cat_stars_i[\"ins_mag\"][sep_constraint] = ins_mag_i\n",
    "else:\n",
    "    cat_mag_i = ref_ps[\"imag\"][xm_id[sep_constraint]]\n",
    "    cat_err_i = ref_ps[\"e_imag\"][xm_id[sep_constraint]]\n",
    "    ins_mag_i = cat_stars_i[sep_constraint][\"MAG_BEST\"]\n",
    "    ins_err_i = cat_stars_i[sep_constraint][\"MAGERR_BEST\"]\n",
    "\n",
    "sel = ins_mag_i < 99\n",
    "plt.scatter(ins_mag_i[sel], cat_mag_i[sel])"
   ]
  },
  {
   "cell_type": "code",
   "execution_count": null,
   "id": "d73d345e-f1b9-4b9f-9353-8a5e1559a2fa",
   "metadata": {},
   "outputs": [],
   "source": [
    "# Selection from magnitude range\n",
    "mag_min, mag_max = 13, 19\n",
    "cond = (cat_mag_i > mag_min) & (cat_mag_i < mag_max) & (~cat_mag_i.mask) & (~np.isnan(ins_mag_i)) & (ins_mag_i < 99)\n",
    "\n",
    "# Create two mock arrays for linear regression\n",
    "X = ins_mag_i[cond].reshape(-1, 1)\n",
    "y = cat_mag_i[cond].reshape(-1, 1)\n",
    "\n",
    "\n",
    "# Simple linear regression\n",
    "linear = linear_model.LinearRegression()\n",
    "linear.fit(X, y)\n",
    "\n",
    "\n",
    "# sigma clipping pour choisir le threshold\n",
    "from scipy import stats\n",
    "\n",
    "MAD = stats.median_abs_deviation(X - y)\n",
    "_, _, sig = sigma_clipped_stats(X - y)\n",
    "\n",
    "print(MAD, sig)\n",
    "\n",
    "# RANSAC linear regressions\n",
    "ransac = linear_model.RANSACRegressor(residual_threshold=3 * MAD[0])\n",
    "# ransac = linear_model.RANSACRegressor()\n",
    "ransac.fit(X, y)\n",
    "\n",
    "# Results\n",
    "print(\"Photometric calibration:\")\n",
    "print(f\"  Linear Slope: {linear.coef_[0][0]:.3f}\")\n",
    "print(f\"  Linear ZP   : {linear.intercept_[0]:.3f}\\n\")\n",
    "print(f\"  RANSAC Slope: {ransac.estimator_.coef_[0][0]:.3f}\")\n",
    "print(f\"  RANSAC ZP   : {ransac.estimator_.intercept_[0]:.3f}\")\n",
    "\n",
    "# Plotting regression\n",
    "# Outliers and Valid points\n",
    "inlier_mask = ransac.inlier_mask_\n",
    "outlier_mask = np.logical_not(inlier_mask)\n",
    "\n",
    "# Linear regressions (simple and RANSAC)\n",
    "line_X = np.arange(X.min(), X.max() + 1)[:, np.newaxis]\n",
    "line_y_simple = linear.predict(line_X)\n",
    "line_y_ransac = ransac.predict(line_X)\n",
    "\n",
    "fig, ax = plt.subplots(1, 2, figsize=(15, 5))\n",
    "\n",
    "# Plot data\n",
    "ax[0].scatter(X[inlier_mask], y[inlier_mask], color=\"yellowgreen\", marker=\".\", label=\"Inliers\")\n",
    "ax[0].scatter(X[outlier_mask], y[outlier_mask], color=\"gray\", marker=\".\", label=\"Outliers\")\n",
    "\n",
    "# Plot regressions\n",
    "ax[0].plot(line_X, line_y_simple, color=\"cornflowerblue\", label=\"Linear regressor\")\n",
    "ax[0].plot(line_X, line_y_ransac, color=\"navy\", label=\"RANSAC regressor\")\n",
    "\n",
    "# Axes...\n",
    "ax[0].legend(loc=\"lower right\")\n",
    "# ax[0].set_ylim([10,18])\n",
    "ax[0].set_xlabel(\"Instrument magnitude\")\n",
    "ax[0].set_ylabel(\"Catalog magnitude\")\n",
    "ax[0].set_aspect(\"equal\")\n",
    "\n",
    "_, zp_median, zp_sigma = sigma_clipped_stats(y - X, sigma=3)\n",
    "ax[1].scatter(y[inlier_mask], y[inlier_mask] - X[inlier_mask], color=\"yellowgreen\", marker=\".\", label=\"Inliers\")\n",
    "ax[1].scatter(y[outlier_mask], y[outlier_mask] - X[outlier_mask], color=\"gray\", marker=\".\", label=\"Outliers\")\n",
    "ax[1].set_xlabel(\"Catalog magnitude\")\n",
    "\n",
    "ax[1].axhline(zp_median, label=\"Median\")\n",
    "ax[1].axhline(zp_median + zp_sigma, linestyle=\"--\", label=\"Standard deviation\")\n",
    "ax[1].axhline(zp_median - zp_sigma, linestyle=\"--\")\n",
    "print(f\"  sigma  ZP   : {zp_sigma:.3f}\")\n",
    "\n",
    "ax[1].set_ylabel(\"Instrument - Catalog magnitude\")\n",
    "ax[1].legend(loc=\"best\")"
   ]
  },
  {
   "cell_type": "code",
   "execution_count": null,
   "id": "177eae6d-fb00-4069-a589-73f9e565e04e",
   "metadata": {},
   "outputs": [],
   "source": [
    "# Compute calibrated mag\n",
    "cat_tab_i[\"AB_MAG\"] = 99.0\n",
    "\n",
    "# Positive values\n",
    "if not use_sextractor:\n",
    "    positive = np.where(cat_tab_i[\"aper_sum_bkgsub\"] > 0)\n",
    "    cat_tab_i[\"AB_MAG\"][positive] = ransac.predict((-2.5 * np.log10(cat_tab_i[positive][\"aper_sum_bkgsub\"] / exptime)).data.reshape(-1, 1)).flatten()\n",
    "else:\n",
    "    positive = np.where(cat_tab_i[\"FLUX_BEST\"] > 0)\n",
    "    cat_tab_i[\"AB_MAG\"][positive] = ransac.predict(cat_tab_i[positive][\"MAG_BEST\"].data.reshape(-1, 1)).flatten()\n",
    "cat_tab_i"
   ]
  },
  {
   "cell_type": "markdown",
   "id": "095f768e-034c-4607-abea-61f6144cc09f",
   "metadata": {
    "jp-MarkdownHeadingCollapsed": true
   },
   "source": [
    "### Z-mag"
   ]
  },
  {
   "cell_type": "code",
   "execution_count": null,
   "id": "284092a9-7bfe-47d2-88ab-a5b15f38daf1",
   "metadata": {},
   "outputs": [],
   "source": [
    "filt = \"z\"\n",
    "exp = 30 if filt == \"i\" else 60 if filt == \"z\" else 15  # 5\n",
    "dirchoice = os.listdir(data_dir)[9] if filt == \"z\" else os.listdir(data_dir)[8]\n",
    "red_sci_image = f\"coadd_{dirchoice}_SDSS{filt}p_{exp:04d}s_RED_np{combtype}.fits\" if manual_stack else f\"coadd_{dirchoice}_SDSS{filt}p_{exp:04d}s_RED_SW_{combtype}_{center_type}.fits\"\n",
    "ref_ps = query_panstarrs(red_sci_image)\n",
    "coord_panstarrs = SkyCoord(ref_ps[\"RAJ2000\"], ref_ps[\"DEJ2000\"])\n",
    "im_dir = os.path.abspath(os.path.dirname(red_sci_image))\n",
    "im_name, im_ext = os.path.splitext(os.path.basename(red_sci_image))\n",
    "with fits.open(red_sci_image) as hdul:\n",
    "    hdu = hdul[0]\n",
    "    wcs = WCS(hdu.header)\n",
    "    epoch = Time(hdu.header.get(\"MJD-OBS\"), format=\"mjd\")\n",
    "    if use_sextractor:\n",
    "        sex_cmd = f\"source-extractor -c default.sex {red_sci_image} -CATALOG_NAME {im_name}.cat -CATALOG_TYPE FITS_1.0 -VERBOSE_TYPE QUIET -FILTER_NAME gauss_5.0_9x9.conv\"\n",
    "        os.system(sex_cmd)\n",
    "        cat_tab_z = Table.read(f\"{im_name}.cat\")\n",
    "        cat_tab_z.rename_column(\"X_IMAGE\", \"xcentroid\")\n",
    "        cat_tab_z.rename_column(\"Y_IMAGE\", \"ycentroid\")\n",
    "        _, fwhm, _ = sigma_clipped_stats(cat_tab_z[\"FWHM_IMAGE\"], sigma=3)\n",
    "        source_coords_z = SkyCoord(ra=cat_tab_z[\"ALPHA_J2000\"], dec=cat_tab_z[\"DELTA_J2000\"], unit=\"deg\", obstime=epoch)\n",
    "    else:\n",
    "        sources_z = photometry.detect_sources(red_sci_image, detection_fwhm=10, verbose=False)\n",
    "        try:\n",
    "            fwhm = photometry.get_fwhm(red_sci_image, sources_z)\n",
    "        except RuntimeError:\n",
    "            fwhm = 10\n",
    "        cat_tab_z = photometry.apert_photometry(red_sci_image, sources_z, fwhm)\n",
    "        source_coords_z = SkyCoord.from_pixel(cat_tab_z[\"xcentroid\"], cat_tab_z[\"xcentroid\"], wcs)"
   ]
  },
  {
   "cell_type": "code",
   "execution_count": null,
   "id": "273b3c09-a576-439c-8eb9-20232cd12224",
   "metadata": {},
   "outputs": [],
   "source": [
    "plt.scatter(cat_tab_z[\"CLASS_STAR\"], cat_tab_z[\"ELONGATION\"])\n",
    "plt.ylim(0.0, 5.0)"
   ]
  },
  {
   "cell_type": "code",
   "execution_count": null,
   "id": "5ac34dc5-078e-441a-8092-1f23b86007d6",
   "metadata": {},
   "outputs": [],
   "source": [
    "plt.hist(cat_tab_z[\"CLASS_STAR\"], bins=50)"
   ]
  },
  {
   "cell_type": "code",
   "execution_count": null,
   "id": "87ed73d8-9e15-4ac4-b4f6-d020bda6d11f",
   "metadata": {},
   "outputs": [],
   "source": [
    "cat_stars_z = cat_tab_z[cat_tab_z[\"CLASS_STAR\"] > 0.8]\n",
    "star_coords_z = source_coords_z[cat_tab_z[\"CLASS_STAR\"] > 0.8]\n",
    "xm_id, xm_ang_distance, _ = star_coords_z.match_to_catalog_sky(coord_panstarrs, nthneighbor=1)\n",
    "# print(hdu.header.get('PIXSCALX') * fwhm)\n",
    "# max_sep = hdu.header.get('PIXSCALX') * fwhm * u.arcsec\n",
    "max_sep = 2.5 * u.arcsec\n",
    "sep_constraint = xm_ang_distance < max_sep\n",
    "coord_matches_z = star_coords_z[sep_constraint]\n",
    "catalog_matches_z = ref_ps[xm_id[sep_constraint]]\n",
    "coord_catalog_matches_z = coord_panstarrs[xm_id[sep_constraint]]\n",
    "# Compute instrumental magnitude\n",
    "if not use_sextractor:\n",
    "    exptime = hdu.header.get(\"EXPTIME\")\n",
    "    ins_mag_z = -2.5 * np.log10(cat_stars_z[sep_constraint][\"aper_sum_bkgsub\"] / exptime)\n",
    "    cat_mag_z = ref_ps[\"zmag\"][xm_id[sep_constraint]]\n",
    "\n",
    "    ins_err_z = ins_mag_z - -2.5 * np.log10((cat_stars_z[sep_constraint][\"aper_sum_bkgsub\"] + cat_stars_z[sep_constraint][\"noise\"]) / exptime)\n",
    "    cat_err_z = ref_ps[\"e_zmag\"][xm_id[sep_constraint]]\n",
    "\n",
    "    cat_stars_z[\"ins_mag\"] = 99\n",
    "    cat_stars_z[\"ins_mag\"][sep_constraint] = ins_mag_z\n",
    "else:\n",
    "    cat_mag_z = ref_ps[\"zmag\"][xm_id[sep_constraint]]\n",
    "    cat_err_z = ref_ps[\"e_zmag\"][xm_id[sep_constraint]]\n",
    "    ins_mag_z = cat_stars_z[sep_constraint][\"MAG_BEST\"]\n",
    "    ins_err_z = cat_stars_z[sep_constraint][\"MAGERR_BEST\"]\n",
    "\n",
    "sel = ins_mag_z < 99\n",
    "plt.scatter(ins_mag_z[sel], cat_mag_z[sel])"
   ]
  },
  {
   "cell_type": "code",
   "execution_count": null,
   "id": "5eeba317-1163-4d43-919d-2b4153be726d",
   "metadata": {},
   "outputs": [],
   "source": [
    "# Selection from magnitude range\n",
    "mag_min, mag_max = 12, 18\n",
    "cond = (cat_mag_z > mag_min) & (cat_mag_z < mag_max) & (~cat_mag_z.mask) & (~np.isnan(ins_mag_z)) & (ins_mag_z < 99)\n",
    "\n",
    "# Create two mock arrays for linear regression\n",
    "X = ins_mag_z[cond].reshape(-1, 1)\n",
    "y = cat_mag_z[cond].reshape(-1, 1)\n",
    "\n",
    "\n",
    "# Simple linear regression\n",
    "linear = linear_model.LinearRegression()\n",
    "linear.fit(X, y)\n",
    "\n",
    "\n",
    "# sigma clipping pour choisir le threshold\n",
    "from scipy import stats\n",
    "\n",
    "MAD = stats.median_abs_deviation(X - y)\n",
    "_, _, sig = sigma_clipped_stats(X - y)\n",
    "\n",
    "print(MAD, sig)\n",
    "\n",
    "# RANSAC linear regressions\n",
    "ransac = linear_model.RANSACRegressor(residual_threshold=3 * MAD[0])\n",
    "# ransac = linear_model.RANSACRegressor()\n",
    "ransac.fit(X, y)\n",
    "\n",
    "# Results\n",
    "print(\"Photometric calibration:\")\n",
    "print(f\"  Linear Slope: {linear.coef_[0][0]:.3f}\")\n",
    "print(f\"  Linear ZP   : {linear.intercept_[0]:.3f}\\n\")\n",
    "print(f\"  RANSAC Slope: {ransac.estimator_.coef_[0][0]:.3f}\")\n",
    "print(f\"  RANSAC ZP   : {ransac.estimator_.intercept_[0]:.3f}\")\n",
    "\n",
    "# Plotting regression\n",
    "# Outliers and Valid points\n",
    "inlier_mask = ransac.inlier_mask_\n",
    "outlier_mask = np.logical_not(inlier_mask)\n",
    "\n",
    "# Linear regressions (simple and RANSAC)\n",
    "line_X = np.arange(X.min(), X.max() + 1)[:, np.newaxis]\n",
    "line_y_simple = linear.predict(line_X)\n",
    "line_y_ransac = ransac.predict(line_X)\n",
    "\n",
    "fig, ax = plt.subplots(1, 2, figsize=(15, 5))\n",
    "\n",
    "# Plot data\n",
    "ax[0].scatter(X[inlier_mask], y[inlier_mask], color=\"yellowgreen\", marker=\".\", label=\"Inliers\")\n",
    "ax[0].scatter(X[outlier_mask], y[outlier_mask], color=\"gray\", marker=\".\", label=\"Outliers\")\n",
    "\n",
    "# Plot regressions\n",
    "ax[0].plot(line_X, line_y_simple, color=\"cornflowerblue\", label=\"Linear regressor\")\n",
    "ax[0].plot(line_X, line_y_ransac, color=\"navy\", label=\"RANSAC regressor\")\n",
    "\n",
    "# Axes...\n",
    "ax[0].legend(loc=\"lower right\")\n",
    "# ax[0].set_ylim([10,18])\n",
    "ax[0].set_xlabel(\"Instrument magnitude\")\n",
    "ax[0].set_ylabel(\"Catalog magnitude\")\n",
    "ax[0].set_aspect(\"equal\")\n",
    "\n",
    "_, zp_median, zp_sigma = sigma_clipped_stats(y - X, sigma=3)\n",
    "ax[1].scatter(y[inlier_mask], y[inlier_mask] - X[inlier_mask], color=\"yellowgreen\", marker=\".\", label=\"Inliers\")\n",
    "ax[1].scatter(y[outlier_mask], y[outlier_mask] - X[outlier_mask], color=\"gray\", marker=\".\", label=\"Outliers\")\n",
    "ax[1].set_xlabel(\"Catalog magnitude\")\n",
    "\n",
    "ax[1].axhline(zp_median, label=\"Median\")\n",
    "ax[1].axhline(zp_median + zp_sigma, linestyle=\"--\", label=\"Standard deviation\")\n",
    "ax[1].axhline(zp_median - zp_sigma, linestyle=\"--\")\n",
    "print(f\"  sigma  ZP   : {zp_sigma:.3f}\")\n",
    "\n",
    "ax[1].set_ylabel(\"Instrument - Catalog magnitude\")\n",
    "ax[1].legend(loc=\"best\")"
   ]
  },
  {
   "cell_type": "code",
   "execution_count": null,
   "id": "8ec26cb8-9284-4bb8-bf23-b4ad571ad329",
   "metadata": {},
   "outputs": [],
   "source": [
    "# Compute calibrated mag\n",
    "cat_tab_z[\"AB_MAG\"] = 99.0\n",
    "\n",
    "# Positive values\n",
    "if not use_sextractor:\n",
    "    positive = np.where(cat_tab_z[\"aper_sum_bkgsub\"] > 0)\n",
    "    cat_tab_z[\"AB_MAG\"][positive] = ransac.predict((-2.5 * np.log10(cat_tab_z[positive][\"aper_sum_bkgsub\"] / exptime)).data.reshape(-1, 1)).flatten()\n",
    "else:\n",
    "    positive = np.where(cat_tab_z[\"FLUX_BEST\"] > 0)\n",
    "    cat_tab_z[\"AB_MAG\"][positive] = ransac.predict(cat_tab_z[positive][\"MAG_BEST\"].data.reshape(-1, 1)).flatten()\n",
    "cat_tab_z"
   ]
  },
  {
   "cell_type": "markdown",
   "id": "edcb598c-8c2b-4f34-a445-c8d6d95315a2",
   "metadata": {},
   "source": [
    "## Cross-match G, R, I et Z"
   ]
  },
  {
   "cell_type": "code",
   "execution_count": null,
   "id": "f7d5c3ab-6a23-4acc-9b02-9ddc861f628d",
   "metadata": {},
   "outputs": [],
   "source": [
    "xm_id, xm_ang_distance, _ = source_coords_r.match_to_catalog_sky(source_coords_g, nthneighbor=1)\n",
    "# print(hdu.header.get('PIXSCALX') * fwhm)\n",
    "max_sep = 2.5 * u.arcsec\n",
    "sep_constraint = xm_ang_distance < max_sep\n",
    "coord_matches = source_coords_r[sep_constraint]\n",
    "catalog_matches = cat_tab_g[xm_id[sep_constraint]]\n",
    "coord_catalog_matches = source_coords_g[xm_id[sep_constraint]]"
   ]
  },
  {
   "cell_type": "code",
   "execution_count": null,
   "id": "b2f12af0-5da0-47bb-b7f6-d9b905d77949",
   "metadata": {},
   "outputs": [],
   "source": [
    "g_cat = catalog_matches\n",
    "r_cat = cat_tab_r[sep_constraint]\n",
    "\n",
    "sel = np.logical_and(g_cat[\"AB_MAG\"] < 99.0, r_cat[\"AB_MAG\"] < 99.0)\n",
    "plt.scatter(g_cat[sel][\"AB_MAG\"] - r_cat[sel][\"AB_MAG\"], g_cat[sel][\"AB_MAG\"], marker=\".\")"
   ]
  },
  {
   "cell_type": "code",
   "execution_count": null,
   "id": "98c7d391-0f7b-49e6-8e7a-0868beb31950",
   "metadata": {},
   "outputs": [],
   "source": [
    "rg_cat = g_cat.copy()"
   ]
  },
  {
   "cell_type": "code",
   "execution_count": null,
   "id": "fc0c2d47-4a18-4977-8aaf-cb9802f2584c",
   "metadata": {},
   "outputs": [],
   "source": [
    "rg_cat.columns"
   ]
  },
  {
   "cell_type": "code",
   "execution_count": null,
   "id": "b9599c55-6809-4913-86fc-60cee2771d07",
   "metadata": {},
   "outputs": [],
   "source": [
    "rg_cat.rename_column(\"FLUX_BEST\", \"FLUX_BEST_G\")\n",
    "rg_cat.rename_column(\"FLUXERR_BEST\", \"FLUXERR_BEST_G\")\n",
    "rg_cat.rename_column(\"MAG_BEST\", \"MAG_BEST_G\")\n",
    "rg_cat.rename_column(\"MAGERR_BEST\", \"MAGERR_BEST_G\")\n",
    "rg_cat.rename_column(\"AB_MAG\", \"AB_MAG_G\")"
   ]
  },
  {
   "cell_type": "code",
   "execution_count": null,
   "id": "e24735f4-3dc5-43aa-8885-eb0912ea26d1",
   "metadata": {},
   "outputs": [],
   "source": [
    "rg_cat[\"FLUX_BEST_R\"] = r_cat[\"FLUX_BEST\"]\n",
    "rg_cat[\"FLUXERR_BEST_R\"] = r_cat[\"FLUXERR_BEST\"]\n",
    "rg_cat[\"MAG_BEST_R\"] = r_cat[\"MAG_BEST\"]\n",
    "rg_cat[\"MAGERR_BEST_R\"] = r_cat[\"MAGERR_BEST\"]\n",
    "rg_cat[\"AB_MAG_R\"] = r_cat[\"AB_MAG\"]"
   ]
  },
  {
   "cell_type": "code",
   "execution_count": null,
   "id": "02767e8d-bd61-4a3f-ab4b-d83a20624bb7",
   "metadata": {},
   "outputs": [],
   "source": [
    "rg_cat"
   ]
  },
  {
   "cell_type": "code",
   "execution_count": null,
   "id": "5d8165b6-ab3d-42ba-9670-d55e2d73f823",
   "metadata": {},
   "outputs": [],
   "source": [
    "# joined_coords = SkyCoord(ra=rg_cat[\"ALPHA_J2000\"], dec=rg_cat[\"DELTA_J2000\"], unit=\"deg\", obstime=epoch)\n",
    "xm_id, xm_ang_distance, _ = source_coords_i.match_to_catalog_sky(coord_catalog_matches, nthneighbor=1)\n",
    "# print(hdu.header.get('PIXSCALX') * fwhm)\n",
    "max_sep = 2.5 * u.arcsec\n",
    "sep_constraint = xm_ang_distance < max_sep\n",
    "coord_matches = source_coords_i[sep_constraint]\n",
    "catalog_matches = rg_cat[xm_id[sep_constraint]]\n",
    "coord_catalog_matches = coord_catalog_matches[xm_id[sep_constraint]]\n",
    "\n",
    "i_cat = cat_tab_i[sep_constraint]\n",
    "sel = np.logical_and(catalog_matches[\"AB_MAG_R\"] < 99.0, np.logical_and(catalog_matches[\"AB_MAG_G\"] < 99.0, i_cat[\"AB_MAG\"] < 99.0))\n",
    "plt.scatter(catalog_matches[sel][\"AB_MAG_R\"] - i_cat[sel][\"AB_MAG\"], i_cat[sel][\"AB_MAG\"], marker=\".\")\n",
    "\n",
    "rgi_cat = catalog_matches.copy()\n",
    "\n",
    "rgi_cat[\"FLUX_BEST_I\"] = i_cat[\"FLUX_BEST\"]\n",
    "rgi_cat[\"FLUXERR_BEST_I\"] = i_cat[\"FLUXERR_BEST\"]\n",
    "rgi_cat[\"MAG_BEST_I\"] = i_cat[\"MAG_BEST\"]\n",
    "rgi_cat[\"MAGERR_BEST_I\"] = i_cat[\"MAGERR_BEST\"]\n",
    "rgi_cat[\"AB_MAG_I\"] = i_cat[\"AB_MAG\"]\n",
    "\n",
    "rgi_cat"
   ]
  },
  {
   "cell_type": "code",
   "execution_count": null,
   "id": "7d06d3d1-10b7-4200-85d5-b22c8f123580",
   "metadata": {},
   "outputs": [],
   "source": [
    "xm_id, xm_ang_distance, _ = source_coords_z.match_to_catalog_sky(coord_catalog_matches, nthneighbor=1)\n",
    "# print(hdu.header.get('PIXSCALX') * fwhm)\n",
    "max_sep = 2.5 * u.arcsec\n",
    "sep_constraint = xm_ang_distance < max_sep\n",
    "coord_matches = source_coords_z[sep_constraint]\n",
    "catalog_matches = rgi_cat[xm_id[sep_constraint]]\n",
    "coord_catalog_matches = coord_catalog_matches[xm_id[sep_constraint]]\n",
    "\n",
    "z_cat = cat_tab_z[sep_constraint]\n",
    "sel = np.logical_and(catalog_matches[\"AB_MAG_I\"] < 99.0, z_cat[\"AB_MAG\"] < 99.0)\n",
    "plt.scatter(catalog_matches[sel][\"AB_MAG_I\"] - z_cat[sel][\"AB_MAG\"], z_cat[sel][\"AB_MAG\"], marker=\".\")\n",
    "\n",
    "rgiz_cat = catalog_matches.copy()\n",
    "\n",
    "rgiz_cat[\"FLUX_BEST_Z\"] = z_cat[\"FLUX_BEST\"]\n",
    "rgiz_cat[\"FLUXERR_BEST_Z\"] = z_cat[\"FLUXERR_BEST\"]\n",
    "rgiz_cat[\"MAG_BEST_Z\"] = z_cat[\"MAG_BEST\"]\n",
    "rgiz_cat[\"MAGERR_BEST_Z\"] = z_cat[\"MAGERR_BEST\"]\n",
    "rgiz_cat[\"AB_MAG_Z\"] = z_cat[\"AB_MAG\"]\n",
    "\n",
    "rgiz_cat"
   ]
  },
  {
   "cell_type": "markdown",
   "id": "ff6e3f0d-d47a-4fc7-982f-cbee8d0b6e1e",
   "metadata": {},
   "source": [
    "On a ici un mélange d'étoiles et de galaxies. Il faut construire le catalogue de galaxies pour la suite."
   ]
  },
  {
   "cell_type": "code",
   "execution_count": null,
   "id": "78cb8898-4ac7-4e0b-99d0-bead7bbad6f8",
   "metadata": {},
   "outputs": [],
   "source": [
    "plt.scatter(g_cat[\"CLASS_STAR\"], g_cat[\"ELONGATION\"], marker=\".\", alpha=0.2)\n",
    "plt.scatter(r_cat[\"CLASS_STAR\"], r_cat[\"ELONGATION\"], marker=\"x\", alpha=0.2)\n",
    "plt.scatter(i_cat[\"CLASS_STAR\"], i_cat[\"ELONGATION\"], marker=\"+\", alpha=0.2)\n",
    "plt.scatter(z_cat[\"CLASS_STAR\"], z_cat[\"ELONGATION\"], marker=\"s\", alpha=0.2)\n",
    "plt.scatter(rgiz_cat[\"CLASS_STAR\"], rgiz_cat[\"ELONGATION\"], marker=\"v\", alpha=0.4)\n",
    "plt.xlabel(\"CLASS_STAR\")\n",
    "plt.ylabel(\"ELONGATION\")\n",
    "plt.ylim(0.0, 5.0)"
   ]
  },
  {
   "cell_type": "code",
   "execution_count": null,
   "id": "337feadf-f165-4531-a1c4-5672c47ebd88",
   "metadata": {},
   "outputs": [],
   "source": [
    "plt.hist(g_cat[\"ELONGATION\"], range=(1, 2), bins=50, alpha=0.2)\n",
    "plt.hist(r_cat[\"ELONGATION\"], range=(1, 2), bins=50, alpha=0.2)\n",
    "plt.hist(i_cat[\"ELONGATION\"], range=(1, 2), bins=50, alpha=0.2)\n",
    "plt.hist(z_cat[\"ELONGATION\"], range=(1, 2), bins=50, alpha=0.2)\n",
    "plt.hist(rgiz_cat[\"ELONGATION\"], range=(1, 2), bins=50, alpha=0.4)\n",
    "plt.xlabel(\"ELONGATION\")"
   ]
  },
  {
   "cell_type": "code",
   "execution_count": null,
   "id": "d000c4e4-9445-4a8a-af3b-2a5df5d2b02b",
   "metadata": {},
   "outputs": [],
   "source": [
    "plt.hist(g_cat[\"CLASS_STAR\"], bins=50, alpha=0.2)\n",
    "plt.hist(r_cat[\"CLASS_STAR\"], bins=50, alpha=0.2)\n",
    "plt.hist(i_cat[\"CLASS_STAR\"], bins=50, alpha=0.2)\n",
    "plt.hist(z_cat[\"CLASS_STAR\"], bins=50, alpha=0.2)\n",
    "plt.hist(rgiz_cat[\"CLASS_STAR\"], bins=50, alpha=0.4)\n",
    "plt.xlabel(\"CLASS_STAR\")"
   ]
  },
  {
   "cell_type": "code",
   "execution_count": null,
   "id": "158ad4f6-e9f0-48b4-9c86-39f8b01ac011",
   "metadata": {},
   "outputs": [],
   "source": [
    "gal_sel = np.logical_or(rgiz_cat[\"CLASS_STAR\"] <= 0.6, rgiz_cat[\"ELONGATION\"] > 1.1)\n",
    "rgiz_gal_cat = rgiz_cat[gal_sel]\n",
    "sel = np.logical_and(rgiz_gal_cat[\"AB_MAG_G\"] < 99.0, np.logical_and(rgiz_gal_cat[\"AB_MAG_R\"] < 99.0, np.logical_and(rgiz_gal_cat[\"AB_MAG_I\"] < 99.0, rgiz_gal_cat[\"AB_MAG_Z\"] < 99.0)))\n",
    "rgiz_gal_cat = rgiz_gal_cat[sel]"
   ]
  },
  {
   "cell_type": "code",
   "execution_count": null,
   "id": "2d11552a-f898-48c9-846b-2f3001d55bc0",
   "metadata": {},
   "outputs": [],
   "source": [
    "rgiz_gal_cat"
   ]
  },
  {
   "cell_type": "code",
   "execution_count": null,
   "id": "819d9bd1-1625-42ef-92d0-0b3aa3240c78",
   "metadata": {},
   "outputs": [],
   "source": [
    "plt.scatter(rgiz_gal_cat[\"AB_MAG_G\"] - rgiz_gal_cat[\"AB_MAG_R\"], rgiz_gal_cat[\"AB_MAG_G\"])"
   ]
  },
  {
   "cell_type": "code",
   "execution_count": null,
   "id": "abd0eb20-d339-476c-9819-c171e1a0b715",
   "metadata": {},
   "outputs": [],
   "source": [
    "plt.hist(rgiz_gal_cat[\"AB_MAG_G\"] - rgiz_gal_cat[\"AB_MAG_R\"])"
   ]
  },
  {
   "cell_type": "code",
   "execution_count": null,
   "id": "be041924-2264-47c0-971a-288da5039a09",
   "metadata": {},
   "outputs": [],
   "source": [
    "if True:\n",
    "    rgiz_cat.write(f\"UGC9412_GRIZ_CAT_{'np' if manual_stack else 'SW_'}{combtype}.fits\", format=\"fits\", overwrite=True)"
   ]
  },
  {
   "cell_type": "markdown",
   "id": "87799c99-348d-4549-bd57-2602c6e9d3d5",
   "metadata": {},
   "source": [
    "## Photométrie de la cible"
   ]
  },
  {
   "cell_type": "code",
   "execution_count": null,
   "id": "9ee1f9f8-abdd-424c-9144-d1a9a85044b5",
   "metadata": {},
   "outputs": [],
   "source": [
    "# Get the target position\n",
    "target = hdr.get(\"OBJECT\")\n",
    "print(target)\n",
    "# if not target_type == \"asteroid\":\n",
    "try:\n",
    "    target_coords = SkyCoord.from_name(target)\n",
    "except NameResolveError:\n",
    "    target = \" \".join(target.split(\"-\"))  # Quick fix for the case 'UGC-9412' and similar.\n",
    "    target_coords = SkyCoord.from_name(target)\n",
    "try:\n",
    "    target_x, target_y = skycoord_to_pixel(target_coords, wcs=wcs)\n",
    "except NoConvergence:\n",
    "    pass\n",
    "target_coords"
   ]
  },
  {
   "cell_type": "code",
   "execution_count": null,
   "id": "60eb415b-521a-4d83-a5bb-64166e9e428b",
   "metadata": {},
   "outputs": [],
   "source": [
    "wcs = WCS(hdr)\n",
    "epoch = Time(hdr.get(\"MJD-OBS\"), format=\"mjd\", scale=\"utc\")\n",
    "sex_coords = SkyCoord(ra=rgiz_cat[\"ALPHA_J2000\"], dec=rgiz_cat[\"DELTA_J2000\"], unit=\"deg\", obstime=epoch)\n",
    "# dist_to_target = np.power(cat_tab[\"xcentroid\"]-target_x, 2) + np.power(cat_tab[\"ycentroid\"]-target_y, 2)\n",
    "dist_to_target = sex_coords.separation(target_coords)\n",
    "id_target = np.nanargmin(dist_to_target)\n",
    "sex_target_table = rgiz_cat[id_target]\n",
    "sex_target_table"
   ]
  },
  {
   "cell_type": "code",
   "execution_count": null,
   "id": "39571a63-f479-4cc3-b3e5-16003913ad00",
   "metadata": {},
   "outputs": [],
   "source": [
    "from astropy.nddata import Cutout2D\n",
    "from astropy.visualization.wcsaxes import Quadrangle\n",
    "from astropy.coordinates import Angle\n",
    "from regions import PixCoord, EllipsePixelRegion\n",
    "\n",
    "filt = \"r\"  # , 'r', 'i', 'z']:\n",
    "exp = 30 if filt == \"i\" else 60 if filt == \"z\" else 15  # 5\n",
    "dirchoice = os.listdir(data_dir)[9] if filt == \"z\" else os.listdir(data_dir)[8]\n",
    "for manual_stack in [True, False]:\n",
    "    for combtype in [\"AVERAGE\", \"MEDIAN\", \"SUM\"]:\n",
    "        rgiz_cat = Table.read(f\"UGC9412_GRIZ_CAT_{'np' if manual_stack else 'SW_'}{combtype}.fits\", format=\"fits\")\n",
    "        gal_sel = np.logical_or(rgiz_cat[\"CLASS_STAR\"] <= 0.6, rgiz_cat[\"ELONGATION\"] > 1.1)\n",
    "        rgiz_gal_cat = rgiz_cat[gal_sel]\n",
    "        sel = np.logical_and(rgiz_gal_cat[\"AB_MAG_G\"] < 99.0, np.logical_and(rgiz_gal_cat[\"AB_MAG_R\"] < 99.0, np.logical_and(rgiz_gal_cat[\"AB_MAG_I\"] < 99.0, rgiz_gal_cat[\"AB_MAG_Z\"] < 99.0)))\n",
    "        rgiz_gal_cat = rgiz_gal_cat[sel]\n",
    "\n",
    "        red_sci_image = f\"coadd_{dirchoice}_SDSS{filt}p_{exp:04d}s_RED_np{combtype}.fits\" if manual_stack else f\"coadd_{dirchoice}_SDSS{filt}p_{exp:04d}s_RED_SW_{combtype}_{center_type}.fits\"\n",
    "        lab = f\"SDSS{filt}p_{exp:04d}s_RED_np{combtype}\" if manual_stack else f\"SDSS{filt}p_{exp:04d}s_RED_SW_{combtype}\"\n",
    "        with fits.open(red_sci_image) as stack_gp:\n",
    "            hdr = stack_gp[0].header\n",
    "            data = stack_gp[0].data\n",
    "        wcs = WCS(hdr)\n",
    "\n",
    "        epoch = Time(hdr.get(\"MJD-OBS\"), format=\"mjd\", scale=\"utc\")\n",
    "        sex_coords = SkyCoord(ra=rgiz_cat[\"ALPHA_J2000\"], dec=rgiz_cat[\"DELTA_J2000\"], unit=\"deg\", obstime=epoch)\n",
    "        # dist_to_target = np.power(cat_tab[\"xcentroid\"]-target_x, 2) + np.power(cat_tab[\"ycentroid\"]-target_y, 2)\n",
    "        dist_to_target = sex_coords.separation(target_coords)\n",
    "        id_target = np.nanargmin(dist_to_target)\n",
    "        sex_target_table = rgiz_cat[id_target]\n",
    "\n",
    "        mean, med, sigma = sigma_clipped_stats(data, sigma=3)\n",
    "\n",
    "        f = plt.figure(figsize=(10, 5))\n",
    "\n",
    "        ax0 = f.add_subplot(1, 2, 1, projection=wcs)\n",
    "        ax0.imshow(data, cmap=\"gray\", vmin=med - 3 * sigma, vmax=med + 17 * sigma)\n",
    "        # plt.colorbar()\n",
    "        ax0.scatter(rgiz_cat[\"xcentroid\"], rgiz_cat[\"ycentroid\"], color=\"y\", alpha=0.2, transform=ax0.get_transform(\"pixel\"))\n",
    "        ax0.scatter(rgiz_gal_cat[\"xcentroid\"], rgiz_gal_cat[\"ycentroid\"], color=\"r\", alpha=0.3, transform=ax0.get_transform(\"pixel\"))\n",
    "        ax0.scatter(sex_target_table[\"xcentroid\"], sex_target_table[\"ycentroid\"], color=\"g\", alpha=0.5, transform=ax0.get_transform(\"pixel\"))\n",
    "        ax0.set_title(lab)\n",
    "\n",
    "        size = 45 * u.arcsec\n",
    "        orig = (sex_target_table[\"ALPHA_J2000\"] * u.deg - size / 2, sex_target_table[\"DELTA_J2000\"] * u.deg - size / 2)\n",
    "        center_sky = SkyCoord(ra=(orig[0] + size / 2).to(u.deg), dec=(orig[1] + size / 2).to(u.deg), unit=u.deg)\n",
    "        center_pix = center_sky.to_pixel(wcs=wcs)\n",
    "        r = Quadrangle(orig, size, size, edgecolor=\"yellow\", facecolor=\"none\", transform=ax0.get_transform(\"icrs\"))\n",
    "        ax0.add_patch(r)\n",
    "        ax0.coords.grid(color=\"white\", linestyle=\"solid\", alpha=0.5)\n",
    "\n",
    "        zoom = Cutout2D(data, position=(sex_target_table[\"xcentroid\"], sex_target_table[\"ycentroid\"]), size=size, wcs=wcs)\n",
    "        ax1 = f.add_subplot(1, 2, 2, projection=zoom.wcs)\n",
    "        ax1.imshow(zoom.data, vmin=med - 5 * sigma, vmax=med + 77 * sigma)\n",
    "        ax1.coords.grid(color=\"yellow\", linestyle=\"solid\", alpha=0.5)\n",
    "\n",
    "        center = PixCoord.from_sky(target_coords, wcs=zoom.wcs)\n",
    "        reg = EllipsePixelRegion(center, width=sex_target_table[\"A_IMAGE\"], height=sex_target_table[\"B_IMAGE\"], angle=Angle(sex_target_table[\"THETA_IMAGE\"], \"deg\"))\n",
    "        patch = reg.plot(ax=ax1, facecolor=\"none\", edgecolor=\"red\", lw=1, label=\"Source\")\n",
    "\n",
    "        z_target = 0.031328\n",
    "        context = 0\n",
    "        photom_table = np.array([(sex_target_table[f\"AB_MAG_{F}\"], sex_target_table[f\"MAGERR_BEST_{F}\"]) for F in (\"G\", \"R\", \"I\", \"Z\")])\n",
    "        photom_table = photom_table.flatten()\n",
    "        lp_input = np.array([[sex_target_table[\"NUMBER\"], *photom_table, context, z_target]])\n",
    "        fmt_list = (\"%.1i\", \"%.6g\", \"%.6g\", \"%.6g\", \"%.6g\", \"%.6g\", \"%.6g\", \"%.6g\", \"%.6g\", \"%.1i\", \"%.6f\")\n",
    "        np.savetxt(f\"UGC9412_GRIZ_CAT_{'np' if manual_stack else 'SW_'}{combtype}.in\", lp_input, fmt=fmt_list, delimiter=\"  \")\n",
    "# f.add_axes(ax1)"
   ]
  },
  {
   "cell_type": "code",
   "execution_count": null,
   "id": "0aeff153-82c8-4949-9c00-664873925929",
   "metadata": {},
   "outputs": [],
   "source": [
    "dist_to_target[id_target]"
   ]
  },
  {
   "cell_type": "code",
   "execution_count": null,
   "id": "255b0654-5d26-4924-8312-440587d45701",
   "metadata": {},
   "outputs": [],
   "source": [
    "sex_target_table[\"CLASS_STAR\"]"
   ]
  },
  {
   "cell_type": "code",
   "execution_count": null,
   "id": "50405c53-ea92-494c-a4ac-6d0f6cd63331",
   "metadata": {},
   "outputs": [],
   "source": [
    "sex_target_table[\"ELONGATION\"]"
   ]
  },
  {
   "cell_type": "markdown",
   "id": "696c5b67-b3ec-49a2-ae9d-27d3a27152a7",
   "metadata": {},
   "source": [
    "Alors que la cible est bonne... on est bien en présence d'une galaxie !"
   ]
  },
  {
   "cell_type": "code",
   "execution_count": null,
   "id": "47996789-0628-4691-bb3e-3ba1df355abb",
   "metadata": {},
   "outputs": [],
   "source": [
    "z_target = 0.031328\n",
    "context = 0"
   ]
  },
  {
   "cell_type": "code",
   "execution_count": null,
   "id": "66145139-fc63-4506-87ed-4247930ad344",
   "metadata": {},
   "outputs": [],
   "source": [
    "photom_table = np.array([(sex_target_table[f\"AB_MAG_{F}\"], sex_target_table[f\"MAGERR_BEST_{F}\"]) for F in (\"G\", \"R\", \"I\", \"Z\")])\n",
    "photom_table = photom_table.flatten()\n",
    "photom_table"
   ]
  },
  {
   "cell_type": "code",
   "execution_count": null,
   "id": "21bcbc7b-6e8d-40b6-8d44-513c270f9d4a",
   "metadata": {},
   "outputs": [],
   "source": [
    "lp_input = np.array([[sex_target_table[\"NUMBER\"], *photom_table, context, z_target]])\n",
    "lp_input.shape"
   ]
  },
  {
   "cell_type": "code",
   "execution_count": null,
   "id": "48519251-7602-4b01-b824-11a72a072dbe",
   "metadata": {},
   "outputs": [],
   "source": [
    "fmt_list = (\"%.1i\", \"%.6g\", \"%.6g\", \"%.6g\", \"%.6g\", \"%.6g\", \"%.6g\", \"%.6g\", \"%.6g\", \"%.1i\", \"%.6f\")\n",
    "print(len(fmt_list))\n",
    "np.savetxt(f\"UGC9412_GRIZ_CAT_{'np' if manual_stack else 'SW_'}{combtype}.in\", lp_input, fmt=fmt_list, delimiter=\"  \")"
   ]
  },
  {
   "cell_type": "code",
   "execution_count": null,
   "id": "525b94e8-36d5-454d-a162-01a5aebf1f61",
   "metadata": {},
   "outputs": [],
   "source": [
    "check_cat_arr = np.loadtxt(f\"UGC9412_GRIZ_CAT_{'np' if manual_stack else 'SW_'}{combtype}.in\")"
   ]
  },
  {
   "cell_type": "code",
   "execution_count": null,
   "id": "4f97e527-4e5a-459e-84bc-cd792d5a710d",
   "metadata": {},
   "outputs": [],
   "source": [
    "check_cat_arr"
   ]
  },
  {
   "cell_type": "code",
   "execution_count": null,
   "id": "eda52933-958f-4d67-ac5c-23753d6b24c1",
   "metadata": {},
   "outputs": [],
   "source": []
  }
 ],
 "metadata": {
  "kernelspec": {
   "display_name": "Python - DUAO",
   "language": "python",
   "name": "duao"
  },
  "language_info": {
   "codemirror_mode": {
    "name": "ipython",
    "version": 3
   },
   "file_extension": ".py",
   "mimetype": "text/x-python",
   "name": "python",
   "nbconvert_exporter": "python",
   "pygments_lexer": "ipython3",
   "version": "3.11.9"
  }
 },
 "nbformat": 4,
 "nbformat_minor": 5
}
