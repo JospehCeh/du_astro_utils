{
 "cells": [
  {
   "cell_type": "code",
   "execution_count": null,
   "id": "eaeeb538-484d-447c-8925-6476d73cc206",
   "metadata": {},
   "outputs": [],
   "source": [
    "import requests\n",
    "import pandas as pd\n",
    "import io\n",
    "import matplotlib.pyplot as plt\n",
    "import seaborn as sns\n",
    "import numpy as np"
   ]
  },
  {
   "cell_type": "code",
   "execution_count": null,
   "id": "d1eefa9b-a731-45f8-af04-e72998107160",
   "metadata": {},
   "outputs": [],
   "source": [
    "# Get latests 10 Early SN Ia candidates\n",
    "r = requests.post(\"https://fink-portal.org/api/v1/latests\", json={\"class\": \"Early SN Ia candidate\", \"n\": \"10\"})\n",
    "\n",
    "# Format output in a DataFrame\n",
    "pdf_earlySNIa = pd.read_json(io.BytesIO(r.content))"
   ]
  },
  {
   "cell_type": "code",
   "execution_count": null,
   "id": "1eb3cfba-0f85-4368-8abf-dacc85f68cf7",
   "metadata": {},
   "outputs": [],
   "source": [
    "pdf_earlySNIa"
   ]
  },
  {
   "cell_type": "code",
   "execution_count": null,
   "id": "3e88a192-422f-4208-a59f-e01eb1eaf9a2",
   "metadata": {},
   "outputs": [],
   "source": [
    "pdf_earlySNIa.columns"
   ]
  },
  {
   "cell_type": "code",
   "execution_count": null,
   "id": "167b3cd5-a423-4de2-a31e-566b5a44eb50",
   "metadata": {},
   "outputs": [],
   "source": [
    "# Get latests 10 SN candidates\n",
    "r = requests.post(\"https://fink-portal.org/api/v1/latests\", json={\"class\": \"SN candidate\", \"n\": \"10\"})\n",
    "\n",
    "# Format output in a DataFrame\n",
    "pdf_SN = pd.read_json(io.BytesIO(r.content))\n",
    "pdf_SN"
   ]
  },
  {
   "cell_type": "code",
   "execution_count": null,
   "id": "80e1e9c6-37cc-4436-9260-62da5029eea3",
   "metadata": {},
   "outputs": [],
   "source": [
    "f, a = plt.subplots(1, 1)\n",
    "sns.scatterplot(data=pdf_SN, x=\"i:ra\", y=\"i:dec\", ax=a, label=\"SN candidate\")\n",
    "sns.scatterplot(data=pdf_earlySNIa, x=\"i:ra\", y=\"i:dec\", ax=a, label=\"Early SNIa\")"
   ]
  },
  {
   "cell_type": "code",
   "execution_count": null,
   "id": "386af367-e1fb-4b9e-859c-cb242750b63e",
   "metadata": {},
   "outputs": [],
   "source": [
    "for col in pdf_SN.columns:\n",
    "    print(f\"{col}: {pdf_SN.loc[0, col]}\")"
   ]
  },
  {
   "cell_type": "code",
   "execution_count": null,
   "id": "59b5c88d-01f4-47b2-baa1-2461273144c7",
   "metadata": {},
   "outputs": [],
   "source": [
    "# get data for every SN candidate\n",
    "obj_list = [obj for obj in np.unique(pdf_SN[\"i:objectId\"])]\n",
    "print(obj_list)"
   ]
  },
  {
   "cell_type": "code",
   "execution_count": null,
   "id": "f7e6f31a-8e8d-47d8-ba96-b762712e0415",
   "metadata": {},
   "outputs": [],
   "source": [
    "query = \", \".join(obj_list)\n",
    "print(query)"
   ]
  },
  {
   "cell_type": "code",
   "execution_count": null,
   "id": "5583ede3-7a12-4869-ab29-b96b7aef0011",
   "metadata": {},
   "outputs": [],
   "source": [
    "r = requests.post(\"https://fink-portal.org/api/v1/objects\", json={\"objectId\": query, \"output-format\": \"json\"})\n",
    "\n",
    "# Format output in a DataFrame\n",
    "pdf_obj = pd.read_json(io.BytesIO(r.content))"
   ]
  },
  {
   "cell_type": "code",
   "execution_count": null,
   "id": "5b7a1bc9-691e-4bcc-b564-bf671f928f2c",
   "metadata": {},
   "outputs": [],
   "source": [
    "pdf_obj"
   ]
  },
  {
   "cell_type": "code",
   "execution_count": null,
   "id": "e7f143b4-13e2-4311-9dda-08a4ec4d9cc3",
   "metadata": {},
   "outputs": [],
   "source": []
  }
 ],
 "metadata": {
  "kernelspec": {
   "display_name": "Python 3 (ipykernel)",
   "language": "python",
   "name": "python3"
  },
  "language_info": {
   "codemirror_mode": {
    "name": "ipython",
    "version": 3
   },
   "file_extension": ".py",
   "mimetype": "text/x-python",
   "name": "python",
   "nbconvert_exporter": "python",
   "pygments_lexer": "ipython3",
   "version": "3.11.0rc1"
  }
 },
 "nbformat": 4,
 "nbformat_minor": 5
}
