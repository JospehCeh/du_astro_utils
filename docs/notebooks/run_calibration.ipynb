{
 "cells": [
  {
   "cell_type": "code",
   "execution_count": null,
   "id": "d14e2d24",
   "metadata": {},
   "outputs": [],
   "source": [
    "import os\n",
    "from DUAO.src import calibration, photometry, utils\n",
    "import matplotlib.pyplot as plt\n",
    "import numpy as np\n",
    "from astropy.io import fits\n",
    "from astropy.stats import sigma_clipped_stats\n",
    "from scipy.ndimage import median_filter"
   ]
  },
  {
   "cell_type": "markdown",
   "id": "045400ab",
   "metadata": {},
   "source": [
    "# Data reduction"
   ]
  },
  {
   "cell_type": "code",
   "execution_count": null,
   "id": "59513ff1",
   "metadata": {},
   "outputs": [],
   "source": [
    "asteroids_dir = os.path.join(utils.C2PU_DATA_DIR, utils.DIR_PHOTOM, utils.DIR_ASTER)\n",
    "asteroids_dir = os.path.join(asteroids_dir, os.listdir(asteroids_dir)[0])\n",
    "sorted(os.listdir(asteroids_dir))"
   ]
  },
  {
   "cell_type": "code",
   "execution_count": null,
   "id": "ac26c26e",
   "metadata": {},
   "outputs": [],
   "source": [
    "fits_sci_image = os.path.join(asteroids_dir, sorted(os.listdir(asteroids_dir))[0])\n",
    "fits_sci_image = os.path.abspath(fits_sci_image)\n",
    "os.path.isfile(fits_sci_image)"
   ]
  },
  {
   "cell_type": "code",
   "execution_count": null,
   "id": "8e9b3d31",
   "metadata": {},
   "outputs": [],
   "source": [
    "calibration.get_infos_from_image(fits_sci_image)"
   ]
  },
  {
   "cell_type": "code",
   "execution_count": null,
   "id": "b775709d",
   "metadata": {},
   "outputs": [],
   "source": [
    "bias_dir, darks_dir, flats_dir = utils.get_calib_dirs_photometry(fits_sci_image)\n",
    "print(bias_dir, darks_dir, flats_dir)"
   ]
  },
  {
   "cell_type": "code",
   "execution_count": null,
   "id": "473db1b1",
   "metadata": {},
   "outputs": [],
   "source": [
    "# Get image directory, failename and extension\n",
    "sc_im_dir = os.path.abspath(os.path.dirname(fits_sci_image))\n",
    "sc_im_name, sc_im_ext = os.path.splitext(os.path.basename(fits_sci_image))\n",
    "print(sc_im_dir, sc_im_name, sc_im_ext)"
   ]
  },
  {
   "cell_type": "code",
   "execution_count": null,
   "id": "21263441",
   "metadata": {},
   "outputs": [],
   "source": [
    "# Get information from FITS header\n",
    "sc_date, sc_scope, sc_cam, sc_filter, sc_expos, sc_x, sc_y = calibration.get_infos_from_image(fits_sci_image)"
   ]
  },
  {
   "cell_type": "code",
   "execution_count": null,
   "id": "dbd847ba",
   "metadata": {},
   "outputs": [],
   "source": [
    "bias_list = calibration.load_bias_frames(bias_dir, sc_date, sc_cam, sc_x, sc_y)\n",
    "print(bias_list)\n",
    "MASTER_BIAS = calibration.master_bias(bias_list)"
   ]
  },
  {
   "cell_type": "code",
   "execution_count": null,
   "id": "d2173fa5",
   "metadata": {},
   "outputs": [],
   "source": [
    "bkg_mean, bkg_median, bkg_sigma = sigma_clipped_stats(MASTER_BIAS[\"data\"], sigma=3.0)\n",
    "\n",
    "plt.imshow(MASTER_BIAS[\"data\"], cmap=\"Greys\", vmin=bkg_median - 5 * bkg_sigma, vmax=bkg_median + 5 * bkg_sigma)\n",
    "plt.colorbar()"
   ]
  },
  {
   "cell_type": "code",
   "execution_count": null,
   "id": "495a693f",
   "metadata": {},
   "outputs": [],
   "source": [
    "# Master dark\n",
    "# TBD: check if there is already one that works\n",
    "darks_list = calibration.load_dark_frames(darks_dir, sc_date, sc_cam, sc_expos, sc_x, sc_y)"
   ]
  },
  {
   "cell_type": "code",
   "execution_count": null,
   "id": "b89a1d02",
   "metadata": {},
   "outputs": [],
   "source": [
    "MASTER_DARK, HOT_PIXELS = calibration.master_dark(darks_list, use_bias=False, master_bias=MASTER_BIAS[\"path\"])"
   ]
  },
  {
   "cell_type": "code",
   "execution_count": null,
   "id": "be4dde1d",
   "metadata": {},
   "outputs": [],
   "source": [
    "bkg_mean, bkg_median, bkg_sigma = sigma_clipped_stats(MASTER_DARK[\"data\"], sigma=3.0)\n",
    "\n",
    "plt.imshow(MASTER_DARK[\"data\"], cmap=\"Greys\", vmin=bkg_median - 5 * bkg_sigma, vmax=bkg_median + 5 * bkg_sigma)\n",
    "plt.colorbar()"
   ]
  },
  {
   "cell_type": "code",
   "execution_count": null,
   "id": "2f67a7d2",
   "metadata": {},
   "outputs": [],
   "source": [
    "# Master flat\n",
    "# TBD: check if there is already one that works\n",
    "flats_list = calibration.load_flat_frames(flats_dir, sc_date, sc_cam, sc_filter, sc_x, sc_y, override_date_check=True)\n",
    "MASTER_FLAT, DEAD_PIXELS = calibration.master_flat(flats_list, MASTER_DARK[\"path\"])"
   ]
  },
  {
   "cell_type": "code",
   "execution_count": null,
   "id": "20ff3d69",
   "metadata": {},
   "outputs": [],
   "source": [
    "bkg_mean, bkg_median, bkg_sigma = sigma_clipped_stats(MASTER_FLAT[\"data\"], sigma=3.0)\n",
    "\n",
    "plt.imshow(MASTER_FLAT[\"data\"], cmap=\"Greys\", vmin=bkg_median - 5 * bkg_sigma, vmax=bkg_median + 5 * bkg_sigma)\n",
    "plt.colorbar()"
   ]
  },
  {
   "cell_type": "code",
   "execution_count": null,
   "id": "c316d179",
   "metadata": {},
   "outputs": [],
   "source": [
    "additive_corr = MASTER_DARK[\"data\"]  # -MASTER_BIAS[\"data\"]\n",
    "\n",
    "sc_hdu = fits.open(fits_sci_image)[0]\n",
    "try:\n",
    "    RED_SCIENCE = (sc_hdu.data - additive_corr) / MASTER_FLAT[\"data\"]\n",
    "except ValueError:\n",
    "    RED_SCIENCE = (np.transpose(sc_hdu.data) - additive_corr) / MASTER_FLAT[\"data\"]\n",
    "\n",
    "# Clean bad pixels\n",
    "smoothed = median_filter(RED_SCIENCE, size=(5, 5))\n",
    "\n",
    "# Hot pixels\n",
    "try:\n",
    "    hot_pixel = np.where(HOT_PIXELS[\"data\"] == 1)\n",
    "    RED_SCIENCE[hot_pixel] = smoothed[hot_pixel]\n",
    "except:\n",
    "    print(\"Cannot clean hot pixels\")\n",
    "\n",
    "# Dead pixels\n",
    "try:\n",
    "    dead_pixel = np.where(DEAD_PIXELS[\"data\"] == 1)\n",
    "    RED_SCIENCE[dead_pixel] = smoothed[dead_pixel]\n",
    "except:\n",
    "    print(\"Cannot clean dead pixels\")"
   ]
  },
  {
   "cell_type": "code",
   "execution_count": null,
   "id": "55700570",
   "metadata": {},
   "outputs": [],
   "source": [
    "bkg_mean, bkg_median, bkg_sigma = sigma_clipped_stats(sc_hdu.data, sigma=3.0)\n",
    "\n",
    "plt.imshow(sc_hdu.data, cmap=\"Greys\", vmin=bkg_median - 5 * bkg_sigma, vmax=bkg_median + 5 * bkg_sigma)\n",
    "plt.colorbar()"
   ]
  },
  {
   "cell_type": "code",
   "execution_count": null,
   "id": "2c689a77",
   "metadata": {},
   "outputs": [],
   "source": [
    "bkg_mean, bkg_median, bkg_sigma = sigma_clipped_stats(RED_SCIENCE, sigma=3.0)\n",
    "\n",
    "plt.imshow(RED_SCIENCE, cmap=\"Greys\", vmin=bkg_median - 5 * bkg_sigma, vmax=bkg_median + 5 * bkg_sigma)\n",
    "plt.colorbar()"
   ]
  },
  {
   "cell_type": "code",
   "execution_count": null,
   "id": "ad21d358",
   "metadata": {},
   "outputs": [],
   "source": [
    "# Write appropriate FITS files\n",
    "new_fn = f\"{sc_im_name}_REDUCED{sc_im_ext}\"\n",
    "red_hdu = sc_hdu.copy()\n",
    "red_hdu.data = RED_SCIENCE\n",
    "red_hdu.header[\"PROCTYPE\"] = \"RED     \"\n",
    "red_hdu.header[\"FILENAME\"] = new_fn\n",
    "red_hdu.header[\"CREATOR\"] = \"JOCHEVAL\"\n",
    "red_hdu.header[\"MDARK\"] = MASTER_DARK[\"path\"]\n",
    "red_hdu.header[\"MFLAT\"] = MASTER_FLAT[\"path\"]\n",
    "red_hdu.header[\"HPIXELS\"] = HOT_PIXELS[\"path\"]\n",
    "red_hdu.header[\"DPIXELS\"] = DEAD_PIXELS[\"path\"]\n",
    "\n",
    "redim_dir = os.path.join(os.path.abspath(sc_im_dir), \"REDUCED\")\n",
    "if not os.path.isdir(redim_dir):\n",
    "    os.makedirs(redim_dir)\n",
    "write_path = os.path.join(redim_dir, new_fn)\n",
    "red_hdu.writeto(write_path, overwrite=True)\n",
    "print(f\"Calibrated image written to {write_path}.\")\n",
    "\n",
    "dic_to_return = {\"path\": write_path, \"data\": RED_SCIENCE, \"MASTER DARK\": MASTER_DARK, \"MASTER FLAT\": MASTER_FLAT, \"HOT PIXELS\": HOT_PIXELS, \"DEAD PIXELS\": DEAD_PIXELS}"
   ]
  },
  {
   "cell_type": "markdown",
   "id": "32e5ee46",
   "metadata": {},
   "source": [
    "# Photometry"
   ]
  },
  {
   "cell_type": "code",
   "execution_count": null,
   "id": "354669c0",
   "metadata": {},
   "outputs": [],
   "source": [
    "# fits_sci_image = os.path.join('TD_Photometry_python', 'data', 'test_image.fits')\n",
    "# fits_sci_image = os.path.abspath(fits_sci_image)\n",
    "\n",
    "fits_sci_image = dic_to_return[\"path\"]\n",
    "sources = photometry.detect_sources(fits_sci_image)"
   ]
  },
  {
   "cell_type": "code",
   "execution_count": null,
   "id": "a4d6050a",
   "metadata": {},
   "outputs": [],
   "source": [
    "sources"
   ]
  },
  {
   "cell_type": "code",
   "execution_count": null,
   "id": "a7ec942b",
   "metadata": {},
   "outputs": [],
   "source": [
    "fwhm = photometry.get_fwhm(fits_sci_image, sources)"
   ]
  },
  {
   "cell_type": "code",
   "execution_count": null,
   "id": "0eb6b038",
   "metadata": {},
   "outputs": [],
   "source": [
    "phot_table = photometry.apert_photometry(fits_sci_image, sources, fwhm)"
   ]
  },
  {
   "cell_type": "code",
   "execution_count": null,
   "id": "715ac878",
   "metadata": {},
   "outputs": [],
   "source": [
    "phot_table"
   ]
  },
  {
   "cell_type": "code",
   "execution_count": null,
   "id": "9142a708",
   "metadata": {},
   "outputs": [],
   "source": [
    "phot_sso_table = photometry.query_sso_photometry(fits_sci_image, fwhm)"
   ]
  },
  {
   "cell_type": "code",
   "execution_count": null,
   "id": "77f5aac8",
   "metadata": {},
   "outputs": [],
   "source": [
    "phot_sso_table"
   ]
  },
  {
   "cell_type": "code",
   "execution_count": null,
   "id": "a639da08",
   "metadata": {},
   "outputs": [],
   "source": []
  }
 ],
 "metadata": {
  "kernelspec": {
   "display_name": "Python 3 (ipykernel)",
   "language": "python",
   "name": "python3"
  },
  "language_info": {
   "codemirror_mode": {
    "name": "ipython",
    "version": 3
   },
   "file_extension": ".py",
   "mimetype": "text/x-python",
   "name": "python",
   "nbconvert_exporter": "python",
   "pygments_lexer": "ipython3",
   "version": "3.9.12"
  }
 },
 "nbformat": 4,
 "nbformat_minor": 5
}
