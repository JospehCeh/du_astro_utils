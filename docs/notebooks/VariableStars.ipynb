{
 "cells": [
  {
   "cell_type": "markdown",
   "id": "634e8394-820a-4189-8c4b-27f5e49263c1",
   "metadata": {},
   "source": [
    "## Calibration loop"
   ]
  },
  {
   "cell_type": "code",
   "execution_count": null,
   "id": "27999699-76cc-41d2-a61b-47f8e9cea83d",
   "metadata": {},
   "outputs": [],
   "source": [
    "import os\n",
    "from du_astro_utils import calibration, photometry, utils\n",
    "from tqdm import tqdm"
   ]
  },
  {
   "cell_type": "code",
   "execution_count": null,
   "id": "1547f184-e28a-42f5-809a-f49e1b09cdf4",
   "metadata": {},
   "outputs": [],
   "source": [
    "target_type = \"variable_star\"\n",
    "if target_type == \"asteroid\":\n",
    "    data_dir = os.path.join(utils.C2PU_DATA_DIR, utils.DIR_PHOTOM, utils.DIR_ASTER)\n",
    "elif target_type == \"exoplanet\":\n",
    "    data_dir = os.path.join(utils.C2PU_DATA_DIR, utils.DIR_PHOTOM, utils.DIR_EXPLTS)\n",
    "elif target_type == \"variable_star\":\n",
    "    data_dir = os.path.join(utils.C2PU_DATA_DIR, utils.DIR_PHOTOM, utils.DIR_VARSTARS)\n",
    "elif target_type == \"galaxy_cluster\":\n",
    "    data_dir = os.path.join(utils.C2PU_DATA_DIR, utils.DIR_PHOTOM, utils.DIR_GALCLUST)\n",
    "elif target_type == \"cluster\":\n",
    "    data_dir = os.path.join(utils.C2PU_DATA_DIR, utils.DIR_PHOTOM, utils.DIR_CLUSTERS)\n",
    "os.listdir(data_dir)"
   ]
  },
  {
   "cell_type": "code",
   "execution_count": null,
   "id": "0016df87-59f4-4f49-ab36-24980ceefef9",
   "metadata": {},
   "outputs": [],
   "source": [
    "for ddir in os.listdir(data_dir):\n",
    "    subdata_dir = os.path.join(data_dir, ddir)\n",
    "    if os.path.isdir(subdata_dir):\n",
    "        list_fits = [im for im in sorted(os.listdir(subdata_dir)) if \".fits\" in im]\n",
    "        list_fits = sorted(list_fits)\n",
    "        print(subdata_dir, len(list_fits))"
   ]
  },
  {
   "cell_type": "code",
   "execution_count": null,
   "id": "d8f8ad97-f8da-482f-b2c8-268ed8d69395",
   "metadata": {},
   "outputs": [],
   "source": [
    "achoice = os.listdir(data_dir)[2]\n",
    "subdata_dir = os.path.join(data_dir, achoice)\n",
    "list_fits = [im for im in sorted(os.listdir(subdata_dir)) if \".fits\" in im]\n",
    "list_fits = sorted(list_fits)"
   ]
  },
  {
   "cell_type": "code",
   "execution_count": null,
   "id": "499f1944-7dab-47da-92e9-4992d2ffaa83",
   "metadata": {},
   "outputs": [],
   "source": [
    "rerun = False\n",
    "test_mode = False  # Only runs on a few images, prints the tables at each step and does not write files.\n",
    "dict_of_dict = {}\n",
    "\n",
    "if test_mode:\n",
    "    list_fits = list_fits[:10]\n",
    "if rerun:\n",
    "    for loc, scimage in enumerate(tqdm(list_fits)):\n",
    "        fits_sci_image = os.path.join(subdata_dir, scimage)\n",
    "        fits_sci_image = os.path.abspath(fits_sci_image)\n",
    "        if os.path.isfile(fits_sci_image):\n",
    "            # Get image directory, failename and extension\n",
    "            sc_im_dir = os.path.abspath(os.path.dirname(fits_sci_image))\n",
    "            sc_im_name, sc_im_ext = os.path.splitext(os.path.basename(fits_sci_image))\n",
    "\n",
    "            bias_dir, darks_dir, flats_dir = utils.get_calib_dirs_photometry(fits_sci_image)\n",
    "\n",
    "            # Get information from FITS header\n",
    "            sc_date, sc_scope, sc_cam, sc_filter, sc_expos, sc_x, sc_y = calibration.get_infos_from_image(fits_sci_image, verbose=False)\n",
    "            # print(sc_date, sc_scope, sc_cam, sc_filter, sc_expos, sc_x, sc_y)\n",
    "\n",
    "            # Run calibration\n",
    "            dico_calib = calibration.dedark_sci_image(fits_sci_image, override_date_check=True, max_days=7, overwrite=rerun, verbose=test_mode, write_tmp=test_mode, overwrite_calibs=False)\n",
    "            dict_of_dict.update({sc_im_name: dico_calib[\"path\"]})"
   ]
  },
  {
   "cell_type": "markdown",
   "id": "b5750888-e672-4f15-9f6e-a36e160ef085",
   "metadata": {},
   "source": [
    "**Plate-solve and align images and perform multi-aperture astrometry with AIJ !**\n",
    "1. Plate-solve all images from the virtual stack\n",
    "2. Align using WCS\n",
    "3. Load the aligned images in a new virtual stack\n",
    "4. Plot aperture profile, save to apertures\n",
    "5. Multi-aperture photometry with auto-identified reference stars.\n",
    "6. Save all measurements and apertures in a `fits.fz` file. Save plot as `PNG`. Save measurements table as `fits`."
   ]
  },
  {
   "cell_type": "code",
   "execution_count": null,
   "id": "10d75cd5-14a3-489e-b550-5f7ca7819733",
   "metadata": {},
   "outputs": [],
   "source": [
    "from astropy.table import Table"
   ]
  },
  {
   "cell_type": "code",
   "execution_count": null,
   "id": "50392288-e867-4add-9f46-e3cba7aae2e8",
   "metadata": {},
   "outputs": [],
   "source": [
    "aperphot = Table.read(\"Cy-Aqr_Measurements.fits\")"
   ]
  },
  {
   "cell_type": "code",
   "execution_count": null,
   "id": "e7cdeab3-d130-46de-bb00-659f465304f4",
   "metadata": {},
   "outputs": [],
   "source": [
    "aperphot"
   ]
  },
  {
   "cell_type": "code",
   "execution_count": null,
   "id": "0d7f6e7c-70a8-4a1f-8145-3316618295e5",
   "metadata": {},
   "outputs": [],
   "source": [
    "import matplotlib.pyplot as plt\n",
    "import numpy as np\n",
    "from scipy.optimize import curve_fit\n",
    "from scipy.ndimage import gaussian_filter1d"
   ]
  },
  {
   "cell_type": "code",
   "execution_count": null,
   "id": "89f22952-7bef-4622-aa3b-f5c3c2621881",
   "metadata": {},
   "outputs": [],
   "source": [
    "aperphot[\"T_MIN\"] = (aperphot[\"J.D.-2400000\"] - aperphot[\"J.D.-2400000\"][0]) * 24 * 60"
   ]
  },
  {
   "cell_type": "code",
   "execution_count": null,
   "id": "84d89df6-850f-49a9-ac86-ccc8d79a733e",
   "metadata": {},
   "outputs": [],
   "source": [
    "signal = gaussian_filter1d(aperphot[\"rel_flux_T1\"], 7)\n",
    "plt.scatter(aperphot[\"T_MIN\"], aperphot[\"rel_flux_T1\"])\n",
    "plt.plot(aperphot[\"T_MIN\"], signal, c=\"r\")"
   ]
  },
  {
   "cell_type": "code",
   "execution_count": null,
   "id": "438866ab-3695-471a-a6e5-dac565891f48",
   "metadata": {},
   "outputs": [],
   "source": [
    "vmax, vmin = np.max(signal), np.min(signal)\n",
    "amp = 0.5 * (vmax - vmin)\n",
    "print(f\"$\\lambda_0 = ${amp:.4g}\")\n",
    "vmoy = np.mean(signal)\n",
    "print(f\"$\\mu_0 = ${vmoy:.4g}\")\n",
    "t_min, t_max = aperphot[\"T_MIN\"][np.argmin(signal)], aperphot[\"T_MIN\"][np.argmax(signal)]\n",
    "T = 2 * np.abs(t_min - t_max)\n",
    "print(f\"$\\\\tau_0 = ${T:.4g}\")\n",
    "\n",
    "\n",
    "def sin_to_fit(t, A, B, C, dt):\n",
    "    return vmoy + A + np.sin(2 * np.pi * (t + dt) / (C * T)) * amp * B"
   ]
  },
  {
   "cell_type": "code",
   "execution_count": null,
   "id": "9a78d30a-571f-4617-a96c-2b4b1e92acc3",
   "metadata": {},
   "outputs": [],
   "source": [
    "T_sel = np.logical_or(aperphot[\"T_MIN\"] < 30, np.logical_and(aperphot[\"T_MIN\"] > 80, aperphot[\"T_MIN\"] < 120))"
   ]
  },
  {
   "cell_type": "code",
   "execution_count": null,
   "id": "cd32719e-5cc0-4469-8923-a58beae16a1f",
   "metadata": {},
   "outputs": [],
   "source": [
    "sin_coeffs = curve_fit(sin_to_fit, aperphot[\"T_MIN\"][T_sel], aperphot[\"rel_flux_T1\"][T_sel], sigma=aperphot[\"rel_flux_err_T1\"][T_sel], maxfev=10000)[0]"
   ]
  },
  {
   "cell_type": "code",
   "execution_count": null,
   "id": "8358d5f4-bd70-4a33-9856-69b7ad59b38e",
   "metadata": {},
   "outputs": [],
   "source": [
    "plt.scatter(aperphot[\"T_MIN\"][T_sel], aperphot[\"rel_flux_T1\"][T_sel], alpha=0.4, label=\"AIJ aperture photometry-\\n selected points for fit\")\n",
    "plt.scatter(aperphot[\"T_MIN\"][np.logical_not(T_sel)], aperphot[\"rel_flux_T1\"][np.logical_not(T_sel)], alpha=0.4, label=\"AIJ aperture photometry-\\n other points\")\n",
    "plt.plot(aperphot[\"T_MIN\"], signal, c=\"r\", ls=\":\", label=\"Smoothed data\")\n",
    "PER_min = sin_coeffs[2] * T\n",
    "plt.plot(aperphot[\"T_MIN\"], sin_to_fit(aperphot[\"T_MIN\"], *sin_coeffs), c=\"g\", label=f\"Fitted sine : T={PER_min:.2f} min\")\n",
    "plt.legend()\n",
    "plt.xlabel(\"$\\Delta T$ [min]\")\n",
    "plt.ylabel(\"rel_flux_T1\")\n",
    "plt.grid()"
   ]
  },
  {
   "cell_type": "code",
   "execution_count": null,
   "id": "9e70b287-982e-4ad5-ab31-d0436a2ec5c0",
   "metadata": {},
   "outputs": [],
   "source": [
    "PER_min = sin_coeffs[2] * T * 2\n",
    "print(f\"Période estimée : {PER_min:.2f} minutes\")\n",
    "hh = PER_min // 60\n",
    "mm = PER_min % (hh * 60)\n",
    "print(f\"Période estimée : {hh:.0f}h{mm:.0f}m\")"
   ]
  },
  {
   "cell_type": "code",
   "execution_count": null,
   "id": "af208fcb-66fa-40e1-97d1-d95e2025837d",
   "metadata": {},
   "outputs": [],
   "source": [
    "print(\"A={:.4g}, B={:.4g}, C={:.4g}, dt={:.4g}\".format(*sin_coeffs))"
   ]
  },
  {
   "cell_type": "markdown",
   "id": "b3591eb9-b947-4e35-be03-07bb057cd69f",
   "metadata": {},
   "source": [
    "#### Cy-Aqr"
   ]
  },
  {
   "cell_type": "code",
   "execution_count": null,
   "id": "f969b128-943b-429d-a57d-da7cd2cfbe82",
   "metadata": {},
   "outputs": [],
   "source": [
    "PER_ref_min = 0.061038408 * 24 * 60\n",
    "print(f\"Période référence : {PER_ref_min:.2f} minutes\")\n",
    "hhref = PER_ref_min // 60\n",
    "mmref = PER_ref_min % (hhref * 60)\n",
    "print(f\"Période référence : {hhref:.0f}h{mmref:.0f}m\")"
   ]
  },
  {
   "cell_type": "code",
   "execution_count": null,
   "id": "f1980105-8892-434b-b450-1e4df962c661",
   "metadata": {},
   "outputs": [],
   "source": [
    "err = (PER_min - PER_ref_min) / PER_ref_min\n",
    "print(f\"Erreur : {err*100:.1f}%\")"
   ]
  },
  {
   "cell_type": "code",
   "execution_count": null,
   "id": "11fd5276-352b-4d41-9391-f62a81690bb9",
   "metadata": {},
   "outputs": [],
   "source": []
  }
 ],
 "metadata": {
  "kernelspec": {
   "display_name": "Python - DUAO",
   "language": "python",
   "name": "duao"
  },
  "language_info": {
   "codemirror_mode": {
    "name": "ipython",
    "version": 3
   },
   "file_extension": ".py",
   "mimetype": "text/x-python",
   "name": "python",
   "nbconvert_exporter": "python",
   "pygments_lexer": "ipython3",
   "version": "3.11.9"
  }
 },
 "nbformat": 4,
 "nbformat_minor": 5
}
