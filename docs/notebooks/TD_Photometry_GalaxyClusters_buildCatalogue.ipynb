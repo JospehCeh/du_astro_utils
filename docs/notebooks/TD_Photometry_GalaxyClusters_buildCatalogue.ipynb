{
 "cells": [
  {
   "cell_type": "code",
   "execution_count": null,
   "id": "d14e2d24",
   "metadata": {},
   "outputs": [],
   "source": [
    "import os\n",
    "from du_astro_utils import calibration, photometry, utils\n",
    "import matplotlib.pyplot as plt\n",
    "\n",
    "plt.rcParams[\"text.usetex\"] = True\n",
    "import numpy as np\n",
    "from astropy.io import fits\n",
    "from astropy.stats import sigma_clipped_stats\n",
    "from scipy.ndimage import median_filter\n",
    "from tqdm import tqdm"
   ]
  },
  {
   "cell_type": "markdown",
   "id": "9c3240a1-b8a4-45f6-98c9-b23b88101640",
   "metadata": {},
   "source": [
    "## Reduce Images"
   ]
  },
  {
   "cell_type": "code",
   "execution_count": null,
   "id": "e1c7f8ca-cf3a-4f4c-abd9-01c5b534b07a",
   "metadata": {},
   "outputs": [],
   "source": [
    "dedark = False\n",
    "if False:\n",
    "    target_type = \"galaxy_cluster\"\n",
    "    if target_type == \"asteroid\":\n",
    "        data_dir = os.path.join(utils.C2PU_DATA_DIR, utils.DIR_PHOTOM, utils.DIR_ASTER)\n",
    "    elif target_type == \"exoplanet\":\n",
    "        data_dir = os.path.join(utils.C2PU_DATA_DIR, utils.DIR_PHOTOM, utils.DIR_EXPLTS)\n",
    "    elif target_type == \"variable_star\":\n",
    "        data_dir = os.path.join(utils.C2PU_DATA_DIR, utils.DIR_PHOTOM, utils.DIR_VARSTARS)\n",
    "    elif target_type == \"galaxy_cluster\":\n",
    "        data_dir = os.path.join(utils.C2PU_DATA_DIR, utils.DIR_PHOTOM, utils.DIR_GALCLUST)\n",
    "    elif target_type == \"cluster\":\n",
    "        data_dir = os.path.join(utils.C2PU_DATA_DIR, utils.DIR_PHOTOM, utils.DIR_CLUSTERS)\n",
    "    print(os.listdir(data_dir))\n",
    "\n",
    "    for iddir, ddir in enumerate(os.listdir(data_dir)):\n",
    "        subdata_dir = os.path.join(data_dir, ddir)\n",
    "        if os.path.isdir(subdata_dir):\n",
    "            list_fits = [im for im in sorted(os.listdir(subdata_dir)) if \".fits\" in im]\n",
    "            list_fits = sorted(list_fits)\n",
    "            print(f\"{iddir} - {subdata_dir} : {len(list_fits)} files\")\n",
    "        else:\n",
    "            print(f\"{subdata_dir} : not a directory.\")\n",
    "\n",
    "    for idx in range(0, 3):\n",
    "        achoice = os.listdir(data_dir)[idx]\n",
    "        reduced = False\n",
    "        aligned = False\n",
    "        subdata_dir = os.path.join(data_dir, achoice)\n",
    "        if reduced:\n",
    "            subdata_dir = os.path.join(subdata_dir, \"REDUCED\")\n",
    "        if aligned:\n",
    "            subdata_dir = os.path.join(subdata_dir, \"aligned\")\n",
    "        list_fits = [im for im in sorted(os.listdir(subdata_dir)) if \".fits\" in im]\n",
    "        list_fits = sorted(list_fits)\n",
    "\n",
    "        rerun = True\n",
    "        test_mode = False  # Only runs on a few images, prints the tables at each step and does not write files.\n",
    "        dict_of_dict = {}\n",
    "\n",
    "        if rerun or test_mode:\n",
    "            if test_mode:\n",
    "                list_fits = list_fits[:10]\n",
    "            for loc, scimage in enumerate(tqdm(list_fits)):\n",
    "                fits_sci_image = os.path.join(subdata_dir, scimage)\n",
    "                fits_sci_image = os.path.abspath(fits_sci_image)\n",
    "                if os.path.isfile(fits_sci_image):\n",
    "                    # Get image directory, failename and extension\n",
    "                    sc_im_dir = os.path.abspath(os.path.dirname(fits_sci_image))\n",
    "                    sc_im_name, sc_im_ext = os.path.splitext(os.path.basename(fits_sci_image))\n",
    "\n",
    "                    bias_dir, darks_dir, flats_dir = utils.get_calib_dirs_photometry(fits_sci_image)\n",
    "                    # print(bias_dir, darks_dir, flats_dir)\n",
    "\n",
    "                    # Get information from FITS header\n",
    "                    sc_date, sc_scope, sc_cam, sc_filter, sc_focus, sc_expos, sc_x, sc_y = calibration.get_infos_from_image(fits_sci_image, verbose=False)\n",
    "                    # print(sc_date, sc_scope, sc_cam, sc_filter, sc_expos, sc_x, sc_y)\n",
    "\n",
    "                    # Run calibration\n",
    "                    if dedark:\n",
    "                        dico_calib = calibration.dedark_sci_image(fits_sci_image, override_date_check=True, max_days=7, overwrite=rerun, verbose=False, write_tmp=test_mode, overwrite_calibs=(loc == 0))\n",
    "                    else:\n",
    "                        dico_calib = calibration.reduce_sci_image(fits_sci_image, darks_dir, flats_dir, bias_dir, override_date_check=True, max_days=7, overwrite=rerun, verbose=False, write_tmp=test_mode, overwrite_calibs=(loc == 0))\n",
    "                    dict_of_dict.update({sc_im_name: dico_calib})"
   ]
  },
  {
   "cell_type": "markdown",
   "id": "d848778a-e370-4b56-bdcc-824c217329bf",
   "metadata": {},
   "source": [
    "__If not done, plate-solve and align within AIJ.__"
   ]
  },
  {
   "cell_type": "markdown",
   "id": "5a3a2b95-c44d-4667-acbe-99dee85037cf",
   "metadata": {},
   "source": [
    "## Stacking images"
   ]
  },
  {
   "cell_type": "code",
   "execution_count": null,
   "id": "59513ff1",
   "metadata": {
    "tags": []
   },
   "outputs": [],
   "source": [
    "data_dir = os.path.join(utils.C2PU_RES_DIR, utils.DIR_PHOTOM, utils.DIR_GALCLUST)"
   ]
  },
  {
   "cell_type": "code",
   "execution_count": null,
   "id": "68d38b79-31b0-42d5-a965-f25cbc835ad3",
   "metadata": {},
   "outputs": [],
   "source": [
    "reduced = True\n",
    "aligned = True\n",
    "extension = f\"{'DEDARK' if dedark else 'REDUCED'}.fits\"\n",
    "for iddir, ddir in enumerate(os.listdir(data_dir)):\n",
    "    subdata_dir = os.path.join(data_dir, ddir)\n",
    "    if reduced:\n",
    "        subdata_dir = os.path.join(subdata_dir, \"REDUCED\")\n",
    "    if aligned:\n",
    "        subdata_dir = os.path.join(subdata_dir, \"aligned\")\n",
    "    if os.path.isdir(subdata_dir):\n",
    "        list_fits = [im for im in sorted(os.listdir(subdata_dir)) if extension in im]\n",
    "        list_fits = sorted(list_fits)\n",
    "        print(f\"{iddir} - {subdata_dir} : {len(list_fits)} files\")\n",
    "    else:\n",
    "        print(f\"{subdata_dir} : not a directory.\")"
   ]
  },
  {
   "cell_type": "code",
   "execution_count": null,
   "id": "07bbb9b4-73a9-443c-a3d7-7af307abb100",
   "metadata": {},
   "outputs": [],
   "source": [
    "dirchoice = os.listdir(data_dir)[1]\n",
    "subdata_dir = os.path.join(data_dir, dirchoice)\n",
    "if reduced:\n",
    "    subdata_dir = os.path.join(subdata_dir, \"REDUCED\")\n",
    "if aligned:\n",
    "    subdata_dir = os.path.join(subdata_dir, \"aligned\")\n",
    "if os.path.isdir(subdata_dir):\n",
    "    list_fits = [im for im in sorted(os.listdir(subdata_dir)) if extension in im]\n",
    "    list_fits = sorted(list_fits)"
   ]
  },
  {
   "cell_type": "code",
   "execution_count": null,
   "id": "c76d98b4-acd4-49de-b1f9-811958fed70d",
   "metadata": {},
   "outputs": [],
   "source": [
    "list_fits"
   ]
  },
  {
   "cell_type": "code",
   "execution_count": null,
   "id": "af149302-1f0f-449f-988a-e58bfbd6abdc",
   "metadata": {},
   "outputs": [],
   "source": [
    "do_stack = True\n",
    "manual_stack = False\n",
    "combtype = \"MEDIAN\"  # SUM ou AVERAGE ou MEDIAN\n",
    "\n",
    "if do_stack and not manual_stack:\n",
    "    center_type = \"MOST\"\n",
    "    for combtype in [\"SUM\", \"MEDIAN\", \"AVERAGE\"]:\n",
    "        for filt in tqdm([\"g\", \"r\", \"i\"]):\n",
    "            outname = f\"coadd_{dirchoice}_SDSS{filt}p_{'DEDARK' if dedark else 'RED'}_SW_{combtype}_{center_type}.fits\"\n",
    "            rel_data_dir = os.path.relpath(subdata_dir)\n",
    "            if not os.path.isfile(outname):\n",
    "                swarp_cmd = f\"swarp {rel_data_dir}/*SDSS{filt}*{extension} -c default.swarp -IMAGEOUT_NAME {outname} -COMBINE_TYPE {combtype} -CENTER_TYPE {center_type}\"\n",
    "                os.system(swarp_cmd)\n",
    "            if os.path.isfile(outname):\n",
    "                with fits.open(outname) as hdul:\n",
    "                    img_data = hdul[0].data\n",
    "                mean, med, sigma = sigma_clipped_stats(img_data, sigma=3)\n",
    "                plt.imshow(img_data, cmap=\"gray\", vmin=med - 5 * sigma, vmax=med + 5 * sigma)\n",
    "                plt.colorbar()\n",
    "                plt.show()"
   ]
  },
  {
   "cell_type": "code",
   "execution_count": null,
   "id": "99f5a8d4-3df8-4172-8e11-7c4a351ee9d6",
   "metadata": {},
   "outputs": [],
   "source": [
    "manual_stack = True\n",
    "if do_stack and manual_stack:\n",
    "    for combtype in [\"SUM\", \"MEDIAN\", \"AVERAGE\"]:\n",
    "        for filt in tqdm([\"g\", \"r\", \"i\"]):\n",
    "            outname = f\"coadd_{dirchoice}_SDSS{filt}p_{'DEDARK' if dedark else 'RED'}_np{combtype}.fits\"\n",
    "            SDSS_imgs = [os.path.join(subdata_dir, im) for im in list_fits if f\"SDSS{filt}\" in im]\n",
    "            if len(SDSS_imgs) > 0:\n",
    "                if not os.path.isfile(outname):\n",
    "                    with fits.open(SDSS_imgs[0]) as hdul:\n",
    "                        ref_hdu = hdul[0].copy()\n",
    "                        SDSS_stack = np.empty((len(SDSS_imgs), *hdul[0].data.shape))\n",
    "                    for loc, fits_img in enumerate(tqdm(SDSS_imgs)):\n",
    "                        with fits.open(fits_img) as hdul:\n",
    "                            img_data = hdul[0].data\n",
    "                        SDSS_stack[loc, :, :] = img_data\n",
    "                        # mean, med, sigma = sigma_clipped_stats(img_data, sigma=3)\n",
    "                        # plt.imshow(img_data, cmap='gray', vmin=med-5*sigma, vmax=med+5*sigma)\n",
    "                        # plt.colorbar()\n",
    "                        # plt.show()\n",
    "                    if combtype == \"AVERAGE\":\n",
    "                        coadd_im = np.mean(SDSS_stack, axis=0)\n",
    "                    elif combtype == \"SUM\":\n",
    "                        coadd_im = np.sum(SDSS_stack, axis=0)\n",
    "                    else:  ## defaults to median\n",
    "                        coadd_im = np.median(SDSS_stack, axis=0)\n",
    "                    ref_hdu.data = coadd_im\n",
    "                    ref_hdu.writeto(outname, overwrite=True)\n",
    "                if os.path.isfile(outname):\n",
    "                    with fits.open(outname) as hdul:\n",
    "                        coadd_im = hdul[0].data\n",
    "                    mean, med, sigma = sigma_clipped_stats(coadd_im, sigma=3)\n",
    "                    plt.imshow(coadd_im, cmap=\"gray\", vmin=med - 5 * sigma, vmax=med + 5 * sigma)\n",
    "                    plt.colorbar()\n",
    "                    plt.show()"
   ]
  },
  {
   "cell_type": "markdown",
   "id": "5db10b68-d79c-48d1-829b-07d0704f9b93",
   "metadata": {},
   "source": [
    "## References in PANSTARRS"
   ]
  },
  {
   "cell_type": "code",
   "execution_count": null,
   "id": "c03b8f7a-5114-42bd-82cd-ffe9a0effb8d",
   "metadata": {},
   "outputs": [],
   "source": [
    "from du_astro_utils import query_panstarrs"
   ]
  },
  {
   "cell_type": "code",
   "execution_count": null,
   "id": "d5c340d4-5102-48fa-8150-045ced2828c1",
   "metadata": {},
   "outputs": [],
   "source": [
    "manual_stack = False\n",
    "combtype = \"SUM\"  # SUM ou AVERAGE ou MEDIAN\n",
    "dedark = False\n",
    "center_type = \"MOST\"\n",
    "refname = f\"coadd_{dirchoice}_SDSSgp_{'DEDARK'if dedark else 'RED'}_np{combtype}.fits\" if manual_stack else f\"coadd_{dirchoice}_SDSSgp_{'DEDARK'if dedark else 'RED'}_SW_{combtype}_{center_type}.fits\"\n",
    "ref_ps = query_panstarrs(refname)"
   ]
  },
  {
   "cell_type": "code",
   "execution_count": null,
   "id": "bbdaa117-a8b5-42df-bce5-607fd50f3e57",
   "metadata": {},
   "outputs": [],
   "source": [
    "ref_ps"
   ]
  },
  {
   "cell_type": "code",
   "execution_count": null,
   "id": "86904257-3f3c-4f8a-8a1d-ae41b4077d53",
   "metadata": {},
   "outputs": [],
   "source": [
    "from astropy.wcs import WCS\n",
    "from astropy.wcs.utils import skycoord_to_pixel\n",
    "from astropy.coordinates import Angle, SkyCoord\n",
    "\n",
    "coord_panstarrs = SkyCoord(ref_ps[\"RAJ2000\"], ref_ps[\"DEJ2000\"])"
   ]
  },
  {
   "cell_type": "markdown",
   "id": "32e5ee46",
   "metadata": {},
   "source": [
    "## Photometry"
   ]
  },
  {
   "cell_type": "markdown",
   "id": "ee419aed-ff1d-4539-a921-a1081f392f65",
   "metadata": {},
   "source": [
    "### G-band"
   ]
  },
  {
   "cell_type": "code",
   "execution_count": null,
   "id": "41b4a1d9-450e-40dc-a75c-b5c4758b7f73",
   "metadata": {},
   "outputs": [],
   "source": [
    "from astropy.table import Table, vstack\n",
    "\n",
    "from astropy.time import Time\n",
    "import warnings\n",
    "from astropy.utils.exceptions import AstropyWarning\n",
    "from astropy.coordinates.name_resolve import NameResolveError\n",
    "\n",
    "use_sextractor = True\n",
    "\n",
    "red_sci_image = f\"coadd_{dirchoice}_SDSSgp_{'DEDARK'if dedark else 'RED'}_np{combtype}.fits\" if manual_stack else f\"coadd_{dirchoice}_SDSSgp_{'DEDARK'if dedark else 'RED'}_SW_{combtype}_{center_type}.fits\"\n",
    "# red_sci_image = os.path.relpath(os.path.join(subdata_dir, 'aligned_NGC-7317_20211007T221309617_SC_SDSSgp+_0045s000_000000_REDUCED.fits'))\n",
    "im_dir = os.path.abspath(os.path.dirname(red_sci_image))\n",
    "im_name, im_ext = os.path.splitext(os.path.basename(red_sci_image))\n",
    "with fits.open(red_sci_image) as hdul:\n",
    "    hdu = hdul[0]\n",
    "    wcs = WCS(hdu.header)\n",
    "    epoch = Time(hdu.header.get(\"MJD-OBS\"), format=\"mjd\", scale=\"utc\")\n",
    "    if use_sextractor:\n",
    "        sex_cmd = f\"source-extractor -c default.sex {red_sci_image} -CATALOG_NAME {im_name}.cat -CATALOG_TYPE FITS_1.0 -VERBOSE_TYPE QUIET -FILTER_NAME gauss_5.0_9x9.conv\"\n",
    "        os.system(sex_cmd)\n",
    "        cat_tab_g = Table.read(f\"{im_name}.cat\")\n",
    "        cat_tab_g.rename_column(\"X_IMAGE\", \"xcentroid\")\n",
    "        cat_tab_g.rename_column(\"Y_IMAGE\", \"ycentroid\")\n",
    "        _, fwhm, _ = sigma_clipped_stats(cat_tab_g[\"FWHM_IMAGE\"], sigma=3)\n",
    "        source_coords_g = SkyCoord(ra=cat_tab_g[\"ALPHA_J2000\"], dec=cat_tab_g[\"DELTA_J2000\"], unit=\"deg\", obstime=epoch)\n",
    "    else:\n",
    "        sources_g = photometry.detect_sources(red_sci_image, detection_fwhm=10, verbose=False)\n",
    "        try:\n",
    "            fwhm = photometry.get_fwhm(red_sci_image, sources)\n",
    "        except RuntimeError:\n",
    "            fwhm = 10\n",
    "        cat_tab_g = photometry.apert_photometry(red_sci_image, sources_g, fwhm)\n",
    "        source_coords_g = SkyCoord.from_pixel(cat_tab_g[\"xcenter\"], cat_tab_g[\"xcenter\"], wcs)"
   ]
  },
  {
   "cell_type": "code",
   "execution_count": null,
   "id": "61bc20f9-cced-46c3-a172-4bf99b2621c4",
   "metadata": {},
   "outputs": [],
   "source": [
    "cat_tab_g"
   ]
  },
  {
   "cell_type": "code",
   "execution_count": null,
   "id": "b27a5996-33ec-4692-ab83-060debb379aa",
   "metadata": {},
   "outputs": [],
   "source": [
    "plt.scatter(cat_tab_g[\"CLASS_STAR\"], cat_tab_g[\"ELONGATION\"])\n",
    "plt.ylim(0.0, 5.0)\n",
    "plt.xlabel(\"CLASS_STAR\")\n",
    "plt.ylabel(\"ELONGATION\")\n",
    "plt.grid()"
   ]
  },
  {
   "cell_type": "code",
   "execution_count": null,
   "id": "f2a42658-eb9a-4aee-bdc5-44a79bd0fada",
   "metadata": {},
   "outputs": [],
   "source": [
    "plt.hist(cat_tab_g[\"CLASS_STAR\"], bins=50)\n",
    "plt.xlabel(\"CLASS_STAR\")"
   ]
  },
  {
   "cell_type": "code",
   "execution_count": null,
   "id": "f843e294-0e05-4b60-b998-f55b0d448588",
   "metadata": {},
   "outputs": [],
   "source": [
    "plt.hist(cat_tab_g[\"ELONGATION\"], range=(1, 5), bins=50)\n",
    "plt.xlabel(\"ELONGATION\")"
   ]
  },
  {
   "cell_type": "code",
   "execution_count": null,
   "id": "0fd48809-17c0-4929-9058-85bc3040fd22",
   "metadata": {},
   "outputs": [],
   "source": [
    "sel_stars = cat_tab_g[\"ELONGATION\"] < 1.2\n",
    "cat_stars_g = cat_tab_g[sel_stars]\n",
    "star_coords_g = source_coords_g[sel_stars]"
   ]
  },
  {
   "cell_type": "code",
   "execution_count": null,
   "id": "25b630ba-fffe-4946-8b3a-13b31ad6b829",
   "metadata": {},
   "outputs": [],
   "source": [
    "cat_stars_g"
   ]
  },
  {
   "cell_type": "code",
   "execution_count": null,
   "id": "621fdf6a-aea5-45af-b406-c8eb964d8db0",
   "metadata": {},
   "outputs": [],
   "source": [
    "import astropy.units as u\n",
    "\n",
    "xm_id, xm_ang_distance, _ = star_coords_g.match_to_catalog_sky(coord_panstarrs, nthneighbor=1)\n",
    "if manual_stack:\n",
    "    print(hdu.header.get(\"PIXSCALX\") * fwhm)\n",
    "    max_sep = hdu.header.get(\"PIXSCALX\") * fwhm * u.arcsec\n",
    "    if max_sep.value < 2.5:\n",
    "        max_sep = 2.5 * u.arcsec\n",
    "else:\n",
    "    max_sep = 2.5 * u.arcsec\n",
    "sep_constraint = xm_ang_distance < max_sep\n",
    "coord_matches_g = star_coords_g[sep_constraint]\n",
    "catalog_matches_g = ref_ps[xm_id[sep_constraint]]\n",
    "coord_catalog_matches_g = coord_panstarrs[xm_id[sep_constraint]]"
   ]
  },
  {
   "cell_type": "code",
   "execution_count": null,
   "id": "408bba3a-4b6f-4ac2-9197-e2cae9841754",
   "metadata": {},
   "outputs": [],
   "source": [
    "# Compute instrumental magnitude\n",
    "if not use_sextractor:\n",
    "    exptime = hdu.header.get(\"EXPTIME\")\n",
    "    ins_mag_g = -2.5 * np.log10(cat_stars_g[sep_constraint][\"aper_sum_bkgsub\"] / exptime)\n",
    "    cat_mag_g = ref_ps[\"gmag\"][xm_id[sep_constraint]]\n",
    "\n",
    "    ins_err_g = ins_mag_g - -2.5 * np.log10((cat_stars_g[sep_constraint][\"aper_sum_bkgsub\"] + cat_stars_g[sep_constraint][\"noise\"]) / exptime)\n",
    "    cat_err_g = ref_ps[\"e_gmag\"][xm_id[sep_constraint]]\n",
    "\n",
    "    cat_stars_g[\"ins_mag\"] = 99\n",
    "    cat_stars_g[\"ins_mag\"][sep_constraint] = ins_mag_g\n",
    "else:\n",
    "    cat_mag_g = ref_ps[\"gmag\"][xm_id[sep_constraint]]\n",
    "    cat_err_g = ref_ps[\"e_gmag\"][xm_id[sep_constraint]]\n",
    "    ins_mag_g = cat_stars_g[sep_constraint][\"MAG_AUTO\"]\n",
    "    ins_err_g = cat_stars_g[sep_constraint][\"MAGERR_AUTO\"]"
   ]
  },
  {
   "cell_type": "code",
   "execution_count": null,
   "id": "9460de79-c23f-412b-8bbe-e398796a6b62",
   "metadata": {},
   "outputs": [],
   "source": [
    "sel = ins_mag_g < 99\n",
    "plt.scatter(ins_mag_g[sel], cat_mag_g[sel])\n",
    "plt.grid()"
   ]
  },
  {
   "cell_type": "code",
   "execution_count": null,
   "id": "3819060c-bb10-4749-9951-0a56118015a4",
   "metadata": {},
   "outputs": [],
   "source": [
    "plt.scatter(cat_mag_g[sel], ins_mag_g[sel] - cat_mag_g[sel])\n",
    "plt.grid()"
   ]
  },
  {
   "cell_type": "code",
   "execution_count": null,
   "id": "e378d1cf-505d-410a-98c6-a510d163c4e9",
   "metadata": {},
   "outputs": [],
   "source": [
    "from sklearn import linear_model\n",
    "\n",
    "# Selection from magnitude range\n",
    "mag_min, mag_max = 14, 18\n",
    "cond = (cat_mag_g > mag_min) & (cat_mag_g < mag_max) & (~cat_mag_g.mask) & (~np.isnan(ins_mag_g)) & (ins_mag_g < 99)\n",
    "\n",
    "# Create two mock arrays for linear regression\n",
    "X = ins_mag_g[cond].reshape(-1, 1)\n",
    "y = cat_mag_g[cond].reshape(-1, 1)\n",
    "\n",
    "\n",
    "# Simple linear regression\n",
    "linear = linear_model.LinearRegression()\n",
    "linear.fit(X, y)\n",
    "\n",
    "\n",
    "# sigma clipping pour choisir le threshold\n",
    "from scipy import stats\n",
    "\n",
    "MAD = stats.median_abs_deviation(X - y)\n",
    "_, _, sig = sigma_clipped_stats(X - y)\n",
    "\n",
    "print(MAD, sig)\n",
    "\n",
    "# RANSAC linear regressions\n",
    "ransac = linear_model.RANSACRegressor(residual_threshold=3 * MAD[0])\n",
    "# ransac = linear_model.RANSACRegressor()\n",
    "ransac.fit(X, y)\n",
    "\n",
    "# Results\n",
    "print(\"Photometric calibration:\")\n",
    "print(f\"  Linear Slope: {linear.coef_[0][0]:.3f}\")\n",
    "print(f\"  Linear ZP   : {linear.intercept_[0]:.3f}\\n\")\n",
    "print(f\"  RANSAC Slope: {ransac.estimator_.coef_[0][0]:.3f}\")\n",
    "print(f\"  RANSAC ZP   : {ransac.estimator_.intercept_[0]:.3f}\")"
   ]
  },
  {
   "cell_type": "code",
   "execution_count": null,
   "id": "b8e34dcc-01f4-4f0d-9bb9-157710c7b9da",
   "metadata": {},
   "outputs": [],
   "source": [
    "# Plotting regression\n",
    "# Outliers and Valid points\n",
    "inlier_mask = ransac.inlier_mask_\n",
    "outlier_mask = np.logical_not(inlier_mask)\n",
    "\n",
    "# Linear regressions (simple and RANSAC)\n",
    "line_X = np.arange(X.min(), X.max() + 1)[:, np.newaxis]\n",
    "line_y_simple = linear.predict(line_X)\n",
    "line_y_ransac = ransac.predict(line_X)\n",
    "\n",
    "fig, ax = plt.subplots(1, 2, figsize=(15, 5))\n",
    "\n",
    "# Plot data\n",
    "ax[0].scatter(X[inlier_mask], y[inlier_mask], color=\"yellowgreen\", marker=\".\", label=\"Inliers\")\n",
    "ax[0].scatter(X[outlier_mask], y[outlier_mask], color=\"gray\", marker=\".\", label=\"Outliers\")\n",
    "\n",
    "# Plot regressions\n",
    "ax[0].plot(line_X, line_y_simple, color=\"cornflowerblue\", label=\"Linear regressor\")\n",
    "ax[0].plot(line_X, line_y_ransac, color=\"navy\", label=\"RANSAC regressor\")\n",
    "\n",
    "# Axes...\n",
    "ax[0].legend(loc=\"lower right\")\n",
    "# ax[0].set_ylim([10,18])\n",
    "ax[0].set_xlabel(\"Instrument magnitude\")\n",
    "ax[0].set_ylabel(\"Catalog magnitude\")\n",
    "ax[0].set_aspect(\"equal\")\n",
    "\n",
    "_, zp_median, zp_sigma = sigma_clipped_stats(y - X, sigma=3)\n",
    "ax[1].scatter(y[inlier_mask], y[inlier_mask] - X[inlier_mask], color=\"yellowgreen\", marker=\".\", label=\"Inliers\")\n",
    "ax[1].scatter(y[outlier_mask], y[outlier_mask] - X[outlier_mask], color=\"gray\", marker=\".\", label=\"Outliers\")\n",
    "ax[1].set_xlabel(\"Catalog magnitude\")\n",
    "\n",
    "ax[1].axhline(zp_median, label=\"Median\")\n",
    "ax[1].axhline(zp_median + zp_sigma, linestyle=\"--\", label=\"Standard deviation\")\n",
    "ax[1].axhline(zp_median - zp_sigma, linestyle=\"--\")\n",
    "print(f\"  sigma  ZP   : {zp_sigma:.3f}\")\n",
    "\n",
    "ax[1].set_ylabel(\"Instrument - Catalog magnitude\")\n",
    "ax[1].legend(loc=\"best\")"
   ]
  },
  {
   "cell_type": "code",
   "execution_count": null,
   "id": "d3cac16f-2572-4d38-aa1e-8e5eebccb9a6",
   "metadata": {},
   "outputs": [],
   "source": [
    "# Compute calibrated mag\n",
    "cat_tab_g[\"AB_MAG\"] = 99.0\n",
    "\n",
    "# Positive values\n",
    "if not use_sextractor:\n",
    "    positive = np.where(cat_tab_g[\"aper_sum_bkgsub\"] > 0)\n",
    "    cat_tab_g[\"AB_MAG\"][positive] = ransac.predict((-2.5 * np.log10(cat_tab_g[positive][\"aper_sum_bkgsub\"] / exptime)).data.reshape(-1, 1)).flatten()\n",
    "else:\n",
    "    positive = np.where(cat_tab_g[\"FLUX_AUTO\"] > 0)\n",
    "    cat_tab_g[\"AB_MAG\"][positive] = ransac.predict(cat_tab_g[positive][\"MAG_AUTO\"].data.reshape(-1, 1)).flatten()\n",
    "cat_tab_g"
   ]
  },
  {
   "cell_type": "markdown",
   "id": "31ac9a22-d77d-4207-b302-e6ce78165bca",
   "metadata": {},
   "source": [
    "### R- band"
   ]
  },
  {
   "cell_type": "code",
   "execution_count": null,
   "id": "d81689f9-2bf4-4edb-b6a0-ba8c9129d417",
   "metadata": {},
   "outputs": [],
   "source": [
    "red_sci_image = f\"coadd_{dirchoice}_SDSSrp_{'DEDARK'if dedark else 'RED'}_np{combtype}.fits\" if manual_stack else f\"coadd_{dirchoice}_SDSSrp_{'DEDARK'if dedark else 'RED'}_SW_{combtype}_{center_type}.fits\"\n",
    "# red_sci_image = os.path.relpath(os.path.join(subdata_dir, 'aligned_NGC-7317_20211007T215225971_SC_SDSSrp+_0060s000_000000_REDUCED.fits'))\n",
    "im_dir = os.path.abspath(os.path.dirname(red_sci_image))\n",
    "im_name, im_ext = os.path.splitext(os.path.basename(red_sci_image))\n",
    "with fits.open(red_sci_image) as hdul:\n",
    "    hdu = hdul[0]\n",
    "    wcs = WCS(hdu.header)\n",
    "    epoch = Time(hdu.header.get(\"MJD-OBS\"), format=\"mjd\")\n",
    "    if use_sextractor:\n",
    "        sex_cmd = f\"source-extractor -c default.sex {red_sci_image} -CATALOG_NAME {im_name}.cat -CATALOG_TYPE FITS_1.0 -VERBOSE_TYPE QUIET -FILTER_NAME gauss_5.0_9x9.conv\"\n",
    "        os.system(sex_cmd)\n",
    "        cat_tab_r = Table.read(f\"{im_name}.cat\")\n",
    "        cat_tab_r.rename_column(\"X_IMAGE\", \"xcentroid\")\n",
    "        cat_tab_r.rename_column(\"Y_IMAGE\", \"ycentroid\")\n",
    "        _, fwhm, _ = sigma_clipped_stats(cat_tab_r[\"FWHM_IMAGE\"], sigma=3)\n",
    "        source_coords_r = SkyCoord(ra=cat_tab_r[\"ALPHA_J2000\"], dec=cat_tab_r[\"DELTA_J2000\"], unit=\"deg\", obstime=epoch)\n",
    "    else:\n",
    "        sources_r = photometry.detect_sources(red_sci_image, detection_fwhm=10, verbose=False)\n",
    "        try:\n",
    "            fwhm = photometry.get_fwhm(red_sci_image, sources_r)\n",
    "        except RuntimeError:\n",
    "            fwhm = 10\n",
    "        cat_tab_r = photometry.apert_photometry(red_sci_image, sources_r, fwhm)\n",
    "        source_coords_r = SkyCoord.from_pixel(cat_tab_r[\"xcenter\"], cat_tab_r[\"xcenter\"], wcs)"
   ]
  },
  {
   "cell_type": "code",
   "execution_count": null,
   "id": "7a96a19b-b47d-4e03-8144-0a5f6ba464d0",
   "metadata": {},
   "outputs": [],
   "source": [
    "plt.scatter(cat_tab_r[\"CLASS_STAR\"], cat_tab_r[\"ELONGATION\"])\n",
    "plt.xlabel(\"CLASS_STAR\")\n",
    "plt.ylabel(\"ELONGATION\")\n",
    "plt.grid()\n",
    "plt.ylim(0.0, 5.0)"
   ]
  },
  {
   "cell_type": "code",
   "execution_count": null,
   "id": "f9637825-85e4-47d8-ab8b-b871b78fd7bb",
   "metadata": {},
   "outputs": [],
   "source": [
    "plt.hist(cat_tab_r[\"CLASS_STAR\"], bins=50)\n",
    "plt.xlabel(\"CLASS_STAR\")"
   ]
  },
  {
   "cell_type": "code",
   "execution_count": null,
   "id": "020ab779-5814-4f65-92f6-b7c802156468",
   "metadata": {},
   "outputs": [],
   "source": [
    "plt.hist(cat_tab_r[\"ELONGATION\"], range=(1, 5), bins=50)\n",
    "plt.xlabel(\"ELONGATION\")"
   ]
  },
  {
   "cell_type": "code",
   "execution_count": null,
   "id": "bfa8fe2b-b8ee-43aa-b3f2-c7ea75b9d8fc",
   "metadata": {},
   "outputs": [],
   "source": [
    "sel_stars = cat_tab_r[\"ELONGATION\"] < 1.2\n",
    "cat_stars_r = cat_tab_r[sel_stars]\n",
    "star_coords_r = source_coords_r[sel_stars]"
   ]
  },
  {
   "cell_type": "code",
   "execution_count": null,
   "id": "24a50c6a-0d39-4e9b-aafd-a1b08828d936",
   "metadata": {},
   "outputs": [],
   "source": [
    "xm_id, xm_ang_distance, _ = star_coords_r.match_to_catalog_sky(coord_panstarrs, nthneighbor=1)\n",
    "if manual_stack:\n",
    "    print(hdu.header.get(\"PIXSCALX\") * fwhm)\n",
    "    max_sep = hdu.header.get(\"PIXSCALX\") * fwhm * u.arcsec\n",
    "else:\n",
    "    max_sep = 2.5 * u.arcsec\n",
    "sep_constraint = xm_ang_distance < max_sep\n",
    "coord_matches_r = star_coords_r[sep_constraint]\n",
    "catalog_matches_r = ref_ps[xm_id[sep_constraint]]\n",
    "coord_catalog_matches_r = coord_panstarrs[xm_id[sep_constraint]]"
   ]
  },
  {
   "cell_type": "code",
   "execution_count": null,
   "id": "05d1bee3-6878-4a08-816c-3171a4a3432f",
   "metadata": {},
   "outputs": [],
   "source": [
    "# Compute instrumental magnitude\n",
    "f, a = plt.subplots(1, 1)\n",
    "if not use_sextractor:\n",
    "    exptime = hdu.header.get(\"EXPTIME\")\n",
    "    ins_mag_r = -2.5 * np.log10(cat_stars_r[sep_constraint][\"aper_sum_bkgsub\"] / exptime)\n",
    "    cat_mag_r = ref_ps[\"rmag\"][xm_id[sep_constraint]]\n",
    "\n",
    "    ins_err_r = ins_mag_r - -2.5 * np.log10((cat_stars_r[sep_constraint][\"aper_sum_bkgsub\"] + cat_stars_r[sep_constraint][\"noise\"]) / exptime)\n",
    "    cat_err_r = ref_ps[\"e_rmag\"][xm_id[sep_constraint]]\n",
    "\n",
    "    cat_stars_r[\"ins_mag\"] = 99\n",
    "    cat_stars_r[\"ins_mag\"][sep_constraint] = ins_mag_r\n",
    "else:\n",
    "    cat_mag_r = ref_ps[\"rmag\"][xm_id[sep_constraint]]\n",
    "    cat_err_r = ref_ps[\"e_rmag\"][xm_id[sep_constraint]]\n",
    "    ins_mag_r = cat_stars_r[sep_constraint][\"MAG_AUTO\"]\n",
    "    ins_err_r = cat_stars_r[sep_constraint][\"MAGERR_AUTO\"]\n",
    "\n",
    "sel = ins_mag_r < 99\n",
    "a.scatter(ins_mag_r[sel], cat_mag_r[sel])\n",
    "a.grid()\n",
    "a.set_xlabel(\"Instrument magnitude\")\n",
    "a.set_ylabel(\"Catalog magnitude\")\n",
    "a.set_aspect(\"equal\")\n",
    "a.set_ylim((12, 20))"
   ]
  },
  {
   "cell_type": "code",
   "execution_count": null,
   "id": "9bd220f3-9851-4cf0-b58a-29936e48d9b9",
   "metadata": {},
   "outputs": [],
   "source": [
    "# Selection from magnitude range\n",
    "mag_min, mag_max = 13, 18\n",
    "cond = (cat_mag_r > mag_min) & (cat_mag_r < mag_max) & (~cat_mag_r.mask) & (~np.isnan(ins_mag_r)) & (ins_mag_r < 99)\n",
    "\n",
    "# Create two mock arrays for linear regression\n",
    "X = ins_mag_r[cond].reshape(-1, 1)\n",
    "y = cat_mag_r[cond].reshape(-1, 1)\n",
    "\n",
    "\n",
    "# Simple linear regression\n",
    "linear = linear_model.LinearRegression()\n",
    "linear.fit(X, y)\n",
    "\n",
    "\n",
    "# sigma clipping pour choisir le threshold\n",
    "from scipy import stats\n",
    "\n",
    "MAD = stats.median_abs_deviation(X - y)\n",
    "_, _, sig = sigma_clipped_stats(X - y)\n",
    "\n",
    "print(MAD, sig)\n",
    "\n",
    "# RANSAC linear regressions\n",
    "ransac = linear_model.RANSACRegressor(residual_threshold=3 * MAD[0])\n",
    "# ransac = linear_model.RANSACRegressor()\n",
    "ransac.fit(X, y)\n",
    "\n",
    "# Results\n",
    "print(\"Photometric calibration:\")\n",
    "print(f\"  Linear Slope: {linear.coef_[0][0]:.3f}\")\n",
    "print(f\"  Linear ZP   : {linear.intercept_[0]:.3f}\\n\")\n",
    "print(f\"  RANSAC Slope: {ransac.estimator_.coef_[0][0]:.3f}\")\n",
    "print(f\"  RANSAC ZP   : {ransac.estimator_.intercept_[0]:.3f}\")\n",
    "\n",
    "# Plotting regression\n",
    "# Outliers and Valid points\n",
    "inlier_mask = ransac.inlier_mask_\n",
    "outlier_mask = np.logical_not(inlier_mask)\n",
    "\n",
    "# Linear regressions (simple and RANSAC)\n",
    "line_X = np.arange(X.min(), X.max() + 1)[:, np.newaxis]\n",
    "line_y_simple = linear.predict(line_X)\n",
    "line_y_ransac = ransac.predict(line_X)\n",
    "\n",
    "fig, ax = plt.subplots(1, 2, figsize=(15, 5))\n",
    "\n",
    "# Plot data\n",
    "ax[0].scatter(X[inlier_mask], y[inlier_mask], color=\"yellowgreen\", marker=\".\", label=\"Inliers\")\n",
    "ax[0].scatter(X[outlier_mask], y[outlier_mask], color=\"gray\", marker=\".\", label=\"Outliers\")\n",
    "\n",
    "# Plot regressions\n",
    "ax[0].plot(line_X, line_y_simple, color=\"cornflowerblue\", label=\"Linear regressor\")\n",
    "ax[0].plot(line_X, line_y_ransac, color=\"navy\", label=\"RANSAC regressor\")\n",
    "\n",
    "# Axes...\n",
    "ax[0].legend(loc=\"lower right\")\n",
    "# ax[0].set_ylim([10,18])\n",
    "ax[0].set_xlabel(\"Instrument magnitude\")\n",
    "ax[0].set_ylabel(\"Catalog magnitude\")\n",
    "ax[0].set_aspect(\"equal\")\n",
    "\n",
    "_, zp_median, zp_sigma = sigma_clipped_stats(y - X, sigma=3)\n",
    "ax[1].scatter(y[inlier_mask], y[inlier_mask] - X[inlier_mask], color=\"yellowgreen\", marker=\".\", label=\"Inliers\")\n",
    "ax[1].scatter(y[outlier_mask], y[outlier_mask] - X[outlier_mask], color=\"gray\", marker=\".\", label=\"Outliers\")\n",
    "ax[1].set_xlabel(\"Catalog magnitude\")\n",
    "\n",
    "ax[1].axhline(zp_median, label=\"Median\")\n",
    "ax[1].axhline(zp_median + zp_sigma, linestyle=\"--\", label=\"Standard deviation\")\n",
    "ax[1].axhline(zp_median - zp_sigma, linestyle=\"--\")\n",
    "print(f\"  sigma  ZP   : {zp_sigma:.3f}\")\n",
    "\n",
    "ax[1].set_ylabel(\"Instrument - Catalog magnitude\")\n",
    "ax[1].legend(loc=\"best\")"
   ]
  },
  {
   "cell_type": "code",
   "execution_count": null,
   "id": "82eabfa2-4144-431d-aad8-3bf52ad9c024",
   "metadata": {},
   "outputs": [],
   "source": [
    "# Compute calibrated mag\n",
    "cat_tab_r[\"AB_MAG\"] = 99.0\n",
    "\n",
    "# Positive values\n",
    "if not use_sextractor:\n",
    "    positive = np.where(cat_tab_r[\"aper_sum_bkgsub\"] > 0)\n",
    "    cat_tab_r[\"AB_MAG\"][positive] = ransac.predict((-2.5 * np.log10(cat_tab_r[positive][\"aper_sum_bkgsub\"] / exptime)).data.reshape(-1, 1)).flatten()\n",
    "else:\n",
    "    positive = np.where(cat_tab_r[\"FLUX_AUTO\"] > 0)\n",
    "    cat_tab_r[\"AB_MAG\"][positive] = ransac.predict(cat_tab_r[positive][\"MAG_AUTO\"].data.reshape(-1, 1)).flatten()\n",
    "cat_tab_r"
   ]
  },
  {
   "cell_type": "markdown",
   "id": "edcb598c-8c2b-4f34-a445-c8d6d95315a2",
   "metadata": {},
   "source": [
    "## Cross-match R et G"
   ]
  },
  {
   "cell_type": "code",
   "execution_count": null,
   "id": "f7d5c3ab-6a23-4acc-9b02-9ddc861f628d",
   "metadata": {},
   "outputs": [],
   "source": [
    "xm_id, xm_ang_distance, _ = source_coords_r.match_to_catalog_sky(source_coords_g, nthneighbor=1)\n",
    "if manual_stack:\n",
    "    print(hdu.header.get(\"PIXSCALX\") * fwhm)\n",
    "    max_sep = hdu.header.get(\"PIXSCALX\") * fwhm * u.arcsec\n",
    "else:\n",
    "    max_sep = 2.5 * u.arcsec\n",
    "sep_constraint = xm_ang_distance < max_sep\n",
    "coord_matches = source_coords_r[sep_constraint]\n",
    "catalog_matches = cat_tab_g[xm_id[sep_constraint]]\n",
    "coord_catalog_matches = source_coords_g[xm_id[sep_constraint]]"
   ]
  },
  {
   "cell_type": "code",
   "execution_count": null,
   "id": "b2f12af0-5da0-47bb-b7f6-d9b905d77949",
   "metadata": {},
   "outputs": [],
   "source": [
    "g_cat = catalog_matches\n",
    "r_cat = cat_tab_r[sep_constraint]\n",
    "\n",
    "sel = np.logical_and(g_cat[\"AB_MAG\"] < 99.0, r_cat[\"AB_MAG\"] < 99.0)\n",
    "plt.scatter(g_cat[sel][\"AB_MAG\"] - r_cat[sel][\"AB_MAG\"], g_cat[sel][\"AB_MAG\"], marker=\".\")"
   ]
  },
  {
   "cell_type": "markdown",
   "id": "ff6e3f0d-d47a-4fc7-982f-cbee8d0b6e1e",
   "metadata": {},
   "source": [
    "On a ici un mélange d'étoiles et de galaxies. Il faut construire le catalogue de galaxies pour la suite."
   ]
  },
  {
   "cell_type": "code",
   "execution_count": null,
   "id": "78cb8898-4ac7-4e0b-99d0-bead7bbad6f8",
   "metadata": {},
   "outputs": [],
   "source": [
    "plt.scatter(g_cat[\"CLASS_STAR\"], g_cat[\"ELONGATION\"], marker=\".\")\n",
    "plt.scatter(r_cat[\"CLASS_STAR\"], r_cat[\"ELONGATION\"], marker=\"x\", alpha=0.5)\n",
    "plt.ylim(0.0, 5.0)\n",
    "plt.xlabel(\"CLASS_STAR\")\n",
    "plt.ylabel(\"ELONGATION\")\n",
    "plt.grid()"
   ]
  },
  {
   "cell_type": "code",
   "execution_count": null,
   "id": "df35ae72-8832-4897-bbdb-894e7f27327a",
   "metadata": {},
   "outputs": [],
   "source": [
    "plt.hist(g_cat[\"CLASS_STAR\"], bins=50, alpha=0.5)\n",
    "plt.hist(r_cat[\"CLASS_STAR\"], bins=50, alpha=0.5)\n",
    "plt.xlabel(\"CLASS_STAR\")"
   ]
  },
  {
   "cell_type": "code",
   "execution_count": null,
   "id": "4dff5247-cf28-45ee-b849-c5516c7432fe",
   "metadata": {},
   "outputs": [],
   "source": [
    "plt.hist(g_cat[\"ELONGATION\"], range=(1, 5), bins=50, alpha=0.5)\n",
    "plt.hist(r_cat[\"ELONGATION\"], range=(1, 5), bins=50, alpha=0.5)\n",
    "plt.xlabel(\"ELONGATION\")"
   ]
  },
  {
   "cell_type": "code",
   "execution_count": null,
   "id": "98c7d391-0f7b-49e6-8e7a-0868beb31950",
   "metadata": {},
   "outputs": [],
   "source": [
    "joined_cat = g_cat.copy()"
   ]
  },
  {
   "cell_type": "code",
   "execution_count": null,
   "id": "fc0c2d47-4a18-4977-8aaf-cb9802f2584c",
   "metadata": {},
   "outputs": [],
   "source": [
    "joined_cat.columns"
   ]
  },
  {
   "cell_type": "code",
   "execution_count": null,
   "id": "b9599c55-6809-4913-86fc-60cee2771d07",
   "metadata": {},
   "outputs": [],
   "source": [
    "joined_cat.rename_column(\"FLUX_AUTO\", \"FLUX_AUTO_G\")\n",
    "joined_cat.rename_column(\"FLUXERR_AUTO\", \"FLUXERR_AUTO_G\")\n",
    "joined_cat.rename_column(\"MAG_AUTO\", \"MAG_AUTO_G\")\n",
    "joined_cat.rename_column(\"MAGERR_AUTO\", \"MAGERR_AUTO_G\")\n",
    "joined_cat.rename_column(\"AB_MAG\", \"AB_MAG_G\")"
   ]
  },
  {
   "cell_type": "code",
   "execution_count": null,
   "id": "e24735f4-3dc5-43aa-8885-eb0912ea26d1",
   "metadata": {},
   "outputs": [],
   "source": [
    "joined_cat[\"FLUX_AUTO_R\"] = r_cat[\"FLUX_AUTO\"]\n",
    "joined_cat[\"FLUXERR_AUTO_R\"] = r_cat[\"FLUXERR_AUTO\"]\n",
    "joined_cat[\"MAG_AUTO_R\"] = r_cat[\"MAG_AUTO\"]\n",
    "joined_cat[\"MAGERR_AUTO_R\"] = r_cat[\"MAGERR_AUTO\"]"
   ]
  },
  {
   "cell_type": "code",
   "execution_count": null,
   "id": "0abd65f9-cabf-4a58-9a49-e7e2bdf8ad12",
   "metadata": {},
   "outputs": [],
   "source": [
    "joined_cat[\"AB_MAG_R\"] = r_cat[\"AB_MAG\"]"
   ]
  },
  {
   "cell_type": "code",
   "execution_count": null,
   "id": "02767e8d-bd61-4a3f-ab4b-d83a20624bb7",
   "metadata": {},
   "outputs": [],
   "source": [
    "joined_cat"
   ]
  },
  {
   "cell_type": "code",
   "execution_count": null,
   "id": "158ad4f6-e9f0-48b4-9c86-39f8b01ac011",
   "metadata": {},
   "outputs": [],
   "source": [
    "sel_gal = np.logical_and(joined_cat[\"CLASS_STAR\"] <= 0.6, joined_cat[\"ELONGATION\"] > 1.15)\n",
    "gal_cat = joined_cat[sel_gal]\n",
    "sel = np.logical_and(gal_cat[\"AB_MAG_G\"] < 99.0, gal_cat[\"AB_MAG_R\"] < 99.0)\n",
    "gal_cat = gal_cat[sel]"
   ]
  },
  {
   "cell_type": "code",
   "execution_count": null,
   "id": "2d11552a-f898-48c9-846b-2f3001d55bc0",
   "metadata": {},
   "outputs": [],
   "source": [
    "gal_cat"
   ]
  },
  {
   "cell_type": "code",
   "execution_count": null,
   "id": "819d9bd1-1625-42ef-92d0-0b3aa3240c78",
   "metadata": {},
   "outputs": [],
   "source": [
    "plt.scatter(gal_cat[\"AB_MAG_G\"] - gal_cat[\"AB_MAG_R\"], gal_cat[\"AB_MAG_G\"])\n",
    "plt.xlabel(\"G-R\")\n",
    "plt.ylabel(\"G\")"
   ]
  },
  {
   "cell_type": "code",
   "execution_count": null,
   "id": "abd0eb20-d339-476c-9819-c171e1a0b715",
   "metadata": {},
   "outputs": [],
   "source": [
    "plt.hist(gal_cat[\"AB_MAG_G\"] - gal_cat[\"AB_MAG_R\"])\n",
    "plt.xlabel(\"G-R\")"
   ]
  },
  {
   "cell_type": "code",
   "execution_count": null,
   "id": "be041924-2264-47c0-971a-288da5039a09",
   "metadata": {},
   "outputs": [],
   "source": [
    "cat_name = f\"galaxies_{dirchoice}_G_R_{'DEDARK'if dedark else 'RED'}_np{combtype}.fits\" if manual_stack else f\"galaxies_{dirchoice}_G_R_{'DEDARK'if dedark else 'RED'}_SW_{combtype}_{center_type}.fits\"\n",
    "gal_cat.write(cat_name, format=\"fits\", overwrite=True)"
   ]
  },
  {
   "cell_type": "code",
   "execution_count": null,
   "id": "39571a63-f479-4cc3-b3e5-16003913ad00",
   "metadata": {},
   "outputs": [],
   "source": [
    "gimage = f\"coadd_{dirchoice}_SDSSgp_{'DEDARK'if dedark else 'RED'}_np{combtype}.fits\" if manual_stack else f\"coadd_{dirchoice}_SDSSgp_{'DEDARK'if dedark else 'RED'}_SW_{combtype}_{center_type}.fits\"\n",
    "with fits.open(gimage) as stack_gp:\n",
    "    hdr = stack_gp[0].header\n",
    "    data = stack_gp[0].data\n",
    "mean, med, sigma = sigma_clipped_stats(data, sigma=3)\n",
    "plt.imshow(data, cmap=\"gray\", vmin=med - 5 * sigma, vmax=med + 5 * sigma)\n",
    "plt.colorbar()\n",
    "plt.scatter(gal_cat[\"xcentroid\"], gal_cat[\"ycentroid\"], color=\"y\", alpha=0.3)"
   ]
  },
  {
   "cell_type": "code",
   "execution_count": null,
   "id": "eabdb10d-595d-4a18-9e9d-dc7fbc9b84b3",
   "metadata": {},
   "outputs": [],
   "source": []
  }
 ],
 "metadata": {
  "kernelspec": {
   "display_name": "Python 3 (ipykernel)",
   "language": "python",
   "name": "python3"
  },
  "language_info": {
   "codemirror_mode": {
    "name": "ipython",
    "version": 3
   },
   "file_extension": ".py",
   "mimetype": "text/x-python",
   "name": "python",
   "nbconvert_exporter": "python",
   "pygments_lexer": "ipython3",
   "version": "3.11.9"
  }
 },
 "nbformat": 4,
 "nbformat_minor": 5
}
