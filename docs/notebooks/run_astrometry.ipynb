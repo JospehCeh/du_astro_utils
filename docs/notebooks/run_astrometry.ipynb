{
 "cells": [
  {
   "cell_type": "markdown",
   "id": "20ea8b7a-7328-4d47-8c31-d12373880abe",
   "metadata": {},
   "source": [
    "# Run astrometry.net\n",
    "Try to run astrometry.net on an image from a notebook."
   ]
  },
  {
   "cell_type": "code",
   "execution_count": null,
   "id": "054605a0-0742-43de-ba11-3cf759430237",
   "metadata": {},
   "outputs": [],
   "source": [
    "import os\n",
    "from du_astro_utils import calibration, photometry, utils\n",
    "from astropy.io import fits\n",
    "from astropy.table import Table\n",
    "import sys"
   ]
  },
  {
   "cell_type": "code",
   "execution_count": null,
   "id": "f78f26fd-0227-42dc-8636-4526c66913c5",
   "metadata": {},
   "outputs": [],
   "source": [
    "target_type = \"exoplanet\"\n",
    "if target_type == \"asteroid\":\n",
    "    data_dir = os.path.join(utils.C2PU_DATA_DIR, utils.DIR_PHOTOM, utils.DIR_ASTER)\n",
    "elif target_type == \"exoplanet\":\n",
    "    data_dir = os.path.join(utils.C2PU_DATA_DIR, utils.DIR_PHOTOM, utils.DIR_EXPLTS)\n",
    "os.listdir(data_dir)"
   ]
  },
  {
   "cell_type": "code",
   "execution_count": null,
   "id": "99f0f08a-ef3f-4e1a-94af-b8f364b8a3d3",
   "metadata": {},
   "outputs": [],
   "source": [
    "for ddir in os.listdir(data_dir):\n",
    "    subdata_dir = os.path.join(data_dir, ddir)\n",
    "    if os.path.isdir(subdata_dir):\n",
    "        list_fits = [im for im in sorted(os.listdir(subdata_dir)) if \".fits\" in im]\n",
    "        list_fits = sorted(list_fits)\n",
    "        print(subdata_dir, len(list_fits))"
   ]
  },
  {
   "cell_type": "code",
   "execution_count": null,
   "id": "292e1c7a-0b24-428d-a25b-f99b41fc11fb",
   "metadata": {
    "tags": []
   },
   "outputs": [],
   "source": [
    "achoice = os.listdir(data_dir)[0]\n",
    "aligned = False\n",
    "subdata_dir = os.path.join(data_dir, achoice)\n",
    "if aligned:\n",
    "    subdata_dir = os.path.join(subdata_dir, \"aligned\")\n",
    "list_fits = [im for im in sorted(os.listdir(subdata_dir)) if \".fits\" in im]\n",
    "list_fits = sorted(list_fits)\n",
    "list_fits"
   ]
  },
  {
   "cell_type": "code",
   "execution_count": null,
   "id": "430c1c49-55ea-4f70-9243-1e211177b5bf",
   "metadata": {
    "tags": []
   },
   "outputs": [],
   "source": [
    "loc = 0\n",
    "scimage = list_fits[loc]\n",
    "fits_sci_image = os.path.join(subdata_dir, scimage)\n",
    "fits_sci_image = os.path.abspath(fits_sci_image)\n",
    "if os.path.isfile(fits_sci_image):\n",
    "    # Get image directory, failename and extension\n",
    "    sc_im_dir = os.path.abspath(os.path.dirname(fits_sci_image))\n",
    "    sc_im_name, sc_im_ext = os.path.splitext(os.path.basename(fits_sci_image))\n",
    "\n",
    "    bias_dir, darks_dir, flats_dir = utils.get_calib_dirs_photometry(fits_sci_image)\n",
    "\n",
    "    # Get information from FITS header\n",
    "    sc_date, sc_scope, sc_cam, sc_filter, sc_expos, sc_x, sc_y = calibration.get_infos_from_image(fits_sci_image, verbose=False)\n",
    "\n",
    "    # Run calibration\n",
    "    dico_calib = calibration.reduce_sci_image(fits_sci_image, darks_dir, flats_dir, path_to_bias_dir=\"\", use_bias=False, override_date_check=True, max_days=7, speedup=True, verbose=True)\n",
    "\n",
    "    # Analysis\n",
    "    red_sci_image = dico_calib[\"path\"]\n",
    "red_sci_image"
   ]
  },
  {
   "cell_type": "code",
   "execution_count": null,
   "id": "d1391bab-5861-4261-a043-04cffc77f8dc",
   "metadata": {
    "tags": []
   },
   "outputs": [],
   "source": [
    "with fits.open(red_sci_image) as hdul:\n",
    "    hdu = hdul[0]\n",
    "    print(hdu.header)\n",
    "    hdu_data = hdu.data"
   ]
  },
  {
   "cell_type": "code",
   "execution_count": null,
   "id": "cd58c978-3497-4f26-8c84-fbff2696fd4e",
   "metadata": {},
   "outputs": [],
   "source": [
    "from astropy.stats import sigma_clipped_stats\n",
    "\n",
    "mean, med, sig = sigma_clipped_stats(hdu_data)\n",
    "mean, med, sig"
   ]
  },
  {
   "cell_type": "code",
   "execution_count": null,
   "id": "6cba47e3-409e-418e-8803-1c32af2df8ad",
   "metadata": {},
   "outputs": [],
   "source": [
    "import matplotlib.pyplot as plt\n",
    "from astropy.visualization import astropy_mpl_style\n",
    "\n",
    "plt.imshow(hdu_data, vmin=med - 5 * sig, vmax=med + 5 * sig)\n",
    "plt.colorbar()"
   ]
  },
  {
   "cell_type": "code",
   "execution_count": null,
   "id": "366f301c-b0e2-47d2-b102-a2b4c2d8245d",
   "metadata": {},
   "outputs": [],
   "source": [
    "im_dir = os.path.abspath(os.path.dirname(red_sci_image))\n",
    "im_name, im_ext = os.path.splitext(os.path.basename(red_sci_image))"
   ]
  },
  {
   "cell_type": "code",
   "execution_count": null,
   "id": "a725d2c2-4630-4d74-98c6-5b8353ff07ab",
   "metadata": {},
   "outputs": [],
   "source": [
    "import numpy as np\n",
    "\n",
    "new_data = np.flip(hdu_data, axis=1)\n",
    "with fits.open(red_sci_image) as hdul:\n",
    "    hdu = hdul[0]\n",
    "    hdu.data = new_data\n",
    "    transp_im = os.path.join(im_dir, f\"{im_name}_transpose{im_ext}\")\n",
    "    hdu.writeto(transp_im)"
   ]
  },
  {
   "cell_type": "code",
   "execution_count": null,
   "id": "2fd9df0d-7bdd-4a71-ab7c-a4be32a48ec0",
   "metadata": {},
   "outputs": [],
   "source": [
    "out_dir = os.path.join(im_dir, \"solved_astrometry\")\n",
    "\n",
    "solve_cmd = f\"solve-field --batch --out tmp_solve --downsample 2 --no-plots -D {out_dir} {transp_im} --overwrite\"\n",
    "solve_cmd"
   ]
  },
  {
   "cell_type": "code",
   "execution_count": null,
   "id": "3a6f8d68-66e6-4d42-a7c9-3869984a314c",
   "metadata": {
    "tags": []
   },
   "outputs": [],
   "source": [
    "os.system(solve_cmd)"
   ]
  },
  {
   "cell_type": "code",
   "execution_count": null,
   "id": "70952aef-a46c-4846-a754-a46041ae5e1e",
   "metadata": {},
   "outputs": [],
   "source": [
    "os.system(\"ls ${ARCHIVESC2PU}/index5200_astrometry\")"
   ]
  },
  {
   "cell_type": "code",
   "execution_count": null,
   "id": "d3012b7e-06c9-4f6d-bce4-4c4dd060a41c",
   "metadata": {},
   "outputs": [],
   "source": [
    "cat_tab = Table.read(os.path.join(out_dir, f\"{im_name}.new\"))"
   ]
  },
  {
   "cell_type": "code",
   "execution_count": null,
   "id": "37092225-c739-4be3-aca4-7541784ade05",
   "metadata": {},
   "outputs": [],
   "source": [
    "cat_tab"
   ]
  },
  {
   "cell_type": "code",
   "execution_count": null,
   "id": "91b85770-fb8f-4f51-9a45-1c7a02e06186",
   "metadata": {},
   "outputs": [],
   "source": [
    "fwhm_est"
   ]
  },
  {
   "cell_type": "markdown",
   "id": "ae2b89f1-60ca-48ba-bc23-865d152daf32",
   "metadata": {},
   "source": [
    "SEXTRACTOR has been run and compatibility ensured with the fwhm function in the photometry module."
   ]
  },
  {
   "cell_type": "code",
   "execution_count": null,
   "id": "792672b9-b799-446c-b77e-6d0a6b9eeaaf",
   "metadata": {},
   "outputs": [],
   "source": []
  }
 ],
 "metadata": {
  "kernelspec": {
   "display_name": "Python 3 (ipykernel)",
   "language": "python",
   "name": "python3"
  },
  "language_info": {
   "codemirror_mode": {
    "name": "ipython",
    "version": 3
   },
   "file_extension": ".py",
   "mimetype": "text/x-python",
   "name": "python",
   "nbconvert_exporter": "python",
   "pygments_lexer": "ipython3",
   "version": "3.9.12"
  }
 },
 "nbformat": 4,
 "nbformat_minor": 5
}
