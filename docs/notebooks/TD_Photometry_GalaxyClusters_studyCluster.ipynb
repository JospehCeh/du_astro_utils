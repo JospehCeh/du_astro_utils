{
 "cells": [
  {
   "cell_type": "code",
   "execution_count": null,
   "id": "9202a7e7-dbd6-4d0f-816c-74e559a31c0d",
   "metadata": {},
   "outputs": [],
   "source": [
    "import os\n",
    "from du_astro_utils import calibration, photometry, utils\n",
    "import matplotlib.pyplot as plt\n",
    "import numpy as np\n",
    "from astropy.io import fits\n",
    "from astropy.table import Table, vstack\n",
    "from astropy.stats import sigma_clipped_stats\n",
    "from scipy.ndimage import median_filter\n",
    "from astropy.time import Time\n",
    "from astropy.wcs import WCS\n",
    "from astropy.wcs.utils import skycoord_to_pixel\n",
    "from astropy.coordinates import Angle, SkyCoord\n",
    "import astropy.units as u"
   ]
  },
  {
   "cell_type": "markdown",
   "id": "41306973-5c0c-49f9-bba8-0d355d9a91f2",
   "metadata": {},
   "source": [
    "## Load galaxies catalogue"
   ]
  },
  {
   "cell_type": "code",
   "execution_count": null,
   "id": "ea10cbc5-12d4-444c-a1cd-418cbca2d0fc",
   "metadata": {},
   "outputs": [],
   "source": [
    "data_dir = os.path.join(utils.C2PU_RES_DIR, utils.DIR_PHOTOM, utils.DIR_GALCLUST)"
   ]
  },
  {
   "cell_type": "code",
   "execution_count": null,
   "id": "4d0b4843-52ad-47bf-aed9-30bd8fe4cab5",
   "metadata": {},
   "outputs": [],
   "source": [
    "reduced = False\n",
    "aligned = False\n",
    "for ddir in os.listdir(data_dir):\n",
    "    subdata_dir = os.path.join(data_dir, ddir)\n",
    "    if reduced:\n",
    "        subdata_dir = os.path.join(subdata_dir, \"REDUCED\")\n",
    "    if aligned:\n",
    "        subdata_dir = os.path.join(subdata_dir, \"aligned\")\n",
    "    if os.path.isdir(subdata_dir):\n",
    "        list_fits = [im for im in sorted(os.listdir(subdata_dir)) if \".fits\" in im]\n",
    "        list_fits = sorted(list_fits)\n",
    "        print(subdata_dir, len(list_fits))"
   ]
  },
  {
   "cell_type": "code",
   "execution_count": null,
   "id": "1ba35118-faa9-4f74-a1d1-f05012e2f4e2",
   "metadata": {},
   "outputs": [],
   "source": [
    "dirchoice = os.listdir(data_dir)[0]"
   ]
  },
  {
   "cell_type": "code",
   "execution_count": null,
   "id": "e8199473-8fae-4ac2-a869-9a181c6cf533",
   "metadata": {},
   "outputs": [],
   "source": [
    "gal_cat = Table.read(f\"galaxies_{dirchoice}_G_R_RED.fits\", format=\"fits\")"
   ]
  },
  {
   "cell_type": "code",
   "execution_count": null,
   "id": "2d11552a-f898-48c9-846b-2f3001d55bc0",
   "metadata": {},
   "outputs": [],
   "source": [
    "gal_cat"
   ]
  },
  {
   "cell_type": "code",
   "execution_count": null,
   "id": "819d9bd1-1625-42ef-92d0-0b3aa3240c78",
   "metadata": {},
   "outputs": [],
   "source": [
    "plt.scatter(gal_cat[\"AB_MAG_G\"] - gal_cat[\"AB_MAG_R\"], gal_cat[\"AB_MAG_G\"])"
   ]
  },
  {
   "cell_type": "code",
   "execution_count": null,
   "id": "abd0eb20-d339-476c-9819-c171e1a0b715",
   "metadata": {},
   "outputs": [],
   "source": [
    "plt.hist(gal_cat[\"AB_MAG_G\"] - gal_cat[\"AB_MAG_R\"])"
   ]
  },
  {
   "cell_type": "markdown",
   "id": "284f5fa1-fd89-45d3-b61e-39ff054aabc8",
   "metadata": {},
   "source": [
    "## Answer questions"
   ]
  },
  {
   "cell_type": "code",
   "execution_count": null,
   "id": "640ad03c-0173-4bdf-82d5-5bc6fd570037",
   "metadata": {},
   "outputs": [],
   "source": [
    "gal_df = gal_cat.to_pandas()"
   ]
  },
  {
   "cell_type": "code",
   "execution_count": null,
   "id": "927d3302-cc71-4755-8f3f-1488acd75310",
   "metadata": {},
   "outputs": [],
   "source": [
    "gal_df"
   ]
  },
  {
   "cell_type": "code",
   "execution_count": null,
   "id": "0bfed81b-9983-46ed-875e-b2245f3ef4ca",
   "metadata": {},
   "outputs": [],
   "source": [
    "with fits.open(f\"coadd_{dirchoice}_SDSSgp_RED.fits\") as stack_gp:\n",
    "    hdr_stack = stack_gp[0].header\n",
    "    data = stack_gp[0].data\n",
    "    wcs = WCS(header=hdr_stack)"
   ]
  },
  {
   "cell_type": "code",
   "execution_count": null,
   "id": "6e23adc2-97ec-410f-a831-8c5a722a5ada",
   "metadata": {},
   "outputs": [],
   "source": [
    "hdr_stack.keys"
   ]
  },
  {
   "cell_type": "code",
   "execution_count": null,
   "id": "a265d18b-7b71-467f-82c3-9a750a334d5d",
   "metadata": {},
   "outputs": [],
   "source": [
    "from astropy.coordinates.name_resolve import NameResolveError\n",
    "\n",
    "target = hdr_stack.get(\"OBJECT\")\n",
    "try:\n",
    "    target_coords = SkyCoord.from_name(target)\n",
    "except NameResolveError:\n",
    "    target = (\" \".join(target.split(\"-\"))).upper()\n",
    "    print(target)\n",
    "    target_coords = SkyCoord.from_name(target)\n",
    "target_coords"
   ]
  },
  {
   "cell_type": "code",
   "execution_count": null,
   "id": "ab049016-22e3-4a68-bb5a-5ddee855927f",
   "metadata": {},
   "outputs": [],
   "source": [
    "target_x, target_y = skycoord_to_pixel(target_coords, wcs=wcs)"
   ]
  },
  {
   "cell_type": "code",
   "execution_count": null,
   "id": "39571a63-f479-4cc3-b3e5-16003913ad00",
   "metadata": {},
   "outputs": [],
   "source": [
    "mean, med, sigma = sigma_clipped_stats(data, sigma=3)\n",
    "plt.imshow(data, cmap=\"gray\", vmin=med - 3 * sigma, vmax=med + 5 * sigma)\n",
    "plt.colorbar()\n",
    "plt.scatter(gal_cat[\"xcentroid\"], gal_cat[\"ycentroid\"], color=\"y\", alpha=0.6)\n",
    "plt.scatter(target_x, target_y, color=\"r\", alpha=0.6, s=64)\n",
    "plt.scatter(data.shape[1] // 2, data.shape[0] // 2, color=\"g\", alpha=0.6)"
   ]
  },
  {
   "cell_type": "code",
   "execution_count": null,
   "id": "6976abde-2497-4b6b-8016-caf08892defe",
   "metadata": {},
   "outputs": [],
   "source": [
    "clus_centr_coords = SkyCoord.from_pixel(data.shape[1] // 2, data.shape[0] // 2, wcs=wcs)\n",
    "clus_centr_coords"
   ]
  },
  {
   "cell_type": "code",
   "execution_count": null,
   "id": "13730968-5535-4f30-9c7d-b36f117b9755",
   "metadata": {},
   "outputs": [],
   "source": [
    "gal_df.sort_values(\"AB_MAG_G\", ascending=True, inplace=True)"
   ]
  },
  {
   "cell_type": "code",
   "execution_count": null,
   "id": "b7de937b-312e-42fc-860f-3c6a7a92aa9d",
   "metadata": {},
   "outputs": [],
   "source": [
    "gal_df"
   ]
  },
  {
   "cell_type": "code",
   "execution_count": null,
   "id": "8e216bda-8c79-4a8e-9db7-36ed82129115",
   "metadata": {},
   "outputs": [],
   "source": [
    "m3 = gal_df[\"AB_MAG_G\"][2]\n",
    "sel_rich = np.logical_and(gal_df[\"AB_MAG_G\"] >= m3, gal_df[\"AB_MAG_G\"] <= m3 + 2)\n",
    "richness = len(gal_df[sel_rich]) / len(gal_df)"
   ]
  },
  {
   "cell_type": "code",
   "execution_count": null,
   "id": "8b72854e-5708-41d9-9c5a-d159eb18e626",
   "metadata": {},
   "outputs": [],
   "source": [
    "richness"
   ]
  },
  {
   "cell_type": "code",
   "execution_count": null,
   "id": "df261d26-ae2e-4193-b172-41813f3c4701",
   "metadata": {},
   "outputs": [],
   "source": [
    "gals_coords = SkyCoord(ra=gal_df[\"ALPHA_J2000\"], dec=gal_df[\"DELTA_J2000\"], unit=u.deg)"
   ]
  },
  {
   "cell_type": "code",
   "execution_count": null,
   "id": "1e12a7d6-aa45-423a-bcc6-bf6ef2368ebd",
   "metadata": {},
   "outputs": [],
   "source": [
    "dist_to_target = gals_coords.separation(target_coords)"
   ]
  },
  {
   "cell_type": "code",
   "execution_count": null,
   "id": "e1ca4178-63ae-4a27-9e58-f37b6bbb219f",
   "metadata": {},
   "outputs": [],
   "source": [
    "plt.hist(dist_to_target)"
   ]
  },
  {
   "cell_type": "code",
   "execution_count": null,
   "id": "dcd713fd-33d6-4bba-b26a-1d9f102b475d",
   "metadata": {},
   "outputs": [],
   "source": []
  }
 ],
 "metadata": {
  "kernelspec": {
   "display_name": "Python - DUAO",
   "language": "python",
   "name": "duao"
  },
  "language_info": {
   "codemirror_mode": {
    "name": "ipython",
    "version": 3
   },
   "file_extension": ".py",
   "mimetype": "text/x-python",
   "name": "python",
   "nbconvert_exporter": "python",
   "pygments_lexer": "ipython3",
   "version": "3.11.9"
  }
 },
 "nbformat": 4,
 "nbformat_minor": 5
}
