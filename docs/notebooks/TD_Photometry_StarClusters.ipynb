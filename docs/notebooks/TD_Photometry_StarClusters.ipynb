{
 "cells": [
  {
   "cell_type": "code",
   "execution_count": null,
   "id": "d14e2d24",
   "metadata": {},
   "outputs": [],
   "source": [
    "import os\n",
    "from du_astro_utils import calibration, photometry, utils\n",
    "import matplotlib.pyplot as plt\n",
    "import numpy as np\n",
    "from astropy.io import fits\n",
    "from astropy.stats import sigma_clipped_stats\n",
    "from scipy.ndimage import median_filter"
   ]
  },
  {
   "cell_type": "markdown",
   "id": "5a3a2b95-c44d-4667-acbe-99dee85037cf",
   "metadata": {},
   "source": [
    "## Stacking images"
   ]
  },
  {
   "cell_type": "code",
   "execution_count": null,
   "id": "59513ff1",
   "metadata": {
    "tags": []
   },
   "outputs": [],
   "source": [
    "data_dir = os.path.join(utils.C2PU_RES_DIR, utils.DIR_PHOTOM, utils.DIR_CLUSTERS)"
   ]
  },
  {
   "cell_type": "code",
   "execution_count": null,
   "id": "68d38b79-31b0-42d5-a965-f25cbc835ad3",
   "metadata": {},
   "outputs": [],
   "source": [
    "reduced = True\n",
    "aligned = True\n",
    "for ddir in os.listdir(data_dir):\n",
    "    subdata_dir = os.path.join(data_dir, ddir)\n",
    "    if reduced:\n",
    "        subdata_dir = os.path.join(subdata_dir, \"REDUCED\")\n",
    "    if aligned:\n",
    "        subdata_dir = os.path.join(subdata_dir, \"aligned\")\n",
    "    if os.path.isdir(subdata_dir):\n",
    "        list_fits = [im for im in sorted(os.listdir(subdata_dir)) if \".fits\" in im]\n",
    "        list_fits = sorted(list_fits)\n",
    "        print(subdata_dir, len(list_fits))"
   ]
  },
  {
   "cell_type": "code",
   "execution_count": null,
   "id": "07bbb9b4-73a9-443c-a3d7-7af307abb100",
   "metadata": {},
   "outputs": [],
   "source": [
    "subdata_dir = os.path.join(data_dir, os.listdir(data_dir)[0])\n",
    "if reduced:\n",
    "    subdata_dir = os.path.join(subdata_dir, \"REDUCED\")\n",
    "if aligned:\n",
    "    subdata_dir = os.path.join(subdata_dir, \"aligned\")\n",
    "if os.path.isdir(subdata_dir):\n",
    "    list_fits = [im for im in sorted(os.listdir(subdata_dir)) if \".fits\" in im]\n",
    "    list_fits = sorted(list_fits)"
   ]
  },
  {
   "cell_type": "code",
   "execution_count": null,
   "id": "c76d98b4-acd4-49de-b1f9-811958fed70d",
   "metadata": {},
   "outputs": [],
   "source": [
    "list_fits"
   ]
  },
  {
   "cell_type": "code",
   "execution_count": null,
   "id": "061d1b49-5465-4e7e-a2da-35eca3fdd976",
   "metadata": {},
   "outputs": [],
   "source": [
    "# !swarp $SCIMAGESC2PU/Photometry/Clusters/2021-10-06_OMICRON_F3p17_OPF_QHY600Ma_hyades/REDUCED/aligned/*SDSSi*.fits -c defaults.swarp -IMAGEOUT_NAME coadd_2021-10-06_OMICRON_F3p17_OPF_QHY600Ma_hyades_SDSSip.fits -CENTER_TYPE ALL"
   ]
  },
  {
   "cell_type": "code",
   "execution_count": null,
   "id": "99f5a8d4-3df8-4172-8e11-7c4a351ee9d6",
   "metadata": {},
   "outputs": [],
   "source": [
    "from tqdm import tqdm\n",
    "\n",
    "SDSSi_imgs = [os.path.join(subdata_dir, im) for im in list_fits if \"SDSSi\" in im]\n",
    "with fits.open(SDSSi_imgs[0]) as hdul:\n",
    "    ref_hdu_i = hdul[0].copy()\n",
    "    SDSSi_stack = np.empty((len(SDSSi_imgs), *hdul[0].data.shape))\n",
    "for loc, fits_img in enumerate(tqdm(SDSSi_imgs)):\n",
    "    with fits.open(fits_img) as hdul:\n",
    "        img_data = hdul[0].data\n",
    "    SDSSi_stack[loc, :, :] = img_data\n",
    "    # mean, med, sigma = sigma_clipped_stats(img_data, sigma=3)\n",
    "    # plt.imshow(img_data, cmap='gray', vmin=med-5*sigma, vmax=med+5*sigma)\n",
    "    # plt.colorbar()\n",
    "    # plt.show()"
   ]
  },
  {
   "cell_type": "code",
   "execution_count": null,
   "id": "af9a6e87-34f4-44aa-a985-38c0addd30cf",
   "metadata": {},
   "outputs": [],
   "source": [
    "coadd_i = np.mean(SDSSi_stack, axis=0)\n",
    "mean, med, sigma = sigma_clipped_stats(coadd_i, sigma=3)\n",
    "\n",
    "plt.imshow(coadd_i, cmap=\"gray\", vmin=med - 5 * sigma, vmax=med + 5 * sigma)\n",
    "plt.colorbar()"
   ]
  },
  {
   "cell_type": "code",
   "execution_count": null,
   "id": "e5914163-1b28-48d6-8e1a-3c9c639ab0ee",
   "metadata": {},
   "outputs": [],
   "source": [
    "ref_hdu_i.data = coadd_i\n",
    "# ref_hdu_i.writeto(f'coadd_{os.listdir(data_dir)[0]}_SDSSip.fits', overwrite=True)"
   ]
  },
  {
   "cell_type": "code",
   "execution_count": null,
   "id": "d913c5a9-5619-4bc0-aa58-7ea0eacbf726",
   "metadata": {},
   "outputs": [],
   "source": [
    "with fits.open(\"coadd_2021-10-06_OMICRON_F3p17_OPF_QHY600Ma_hyades_SDSSip.fits\") as stack_ip:\n",
    "    hdr = stack_ip[0].header\n",
    "    data = stack_ip[0].data\n",
    "mean, med, sigma = sigma_clipped_stats(data, sigma=3)\n",
    "plt.imshow(data, cmap=\"gray\", vmin=med - 5 * sigma, vmax=med + 5 * sigma)\n",
    "plt.colorbar()"
   ]
  },
  {
   "cell_type": "markdown",
   "id": "d848778a-e370-4b56-bdcc-824c217329bf",
   "metadata": {},
   "source": [
    "__If not done, plate-solve within AIJ.__"
   ]
  },
  {
   "cell_type": "code",
   "execution_count": null,
   "id": "d0430713-1804-4eb8-be3e-84b24d778606",
   "metadata": {},
   "outputs": [],
   "source": [
    "SDSSg_imgs = [os.path.join(subdata_dir, im) for im in list_fits if \"SDSSg\" in im]\n",
    "\n",
    "with fits.open(SDSSg_imgs[0]) as hdul:\n",
    "    ref_hdu_g = hdul[0].copy()\n",
    "    SDSSg_stack = np.empty((len(SDSSg_imgs), *hdul[0].data.shape))\n",
    "\n",
    "for loc, fits_img in enumerate(tqdm(SDSSg_imgs)):\n",
    "    with fits.open(fits_img) as hdul:\n",
    "        img_data = hdul[0].data\n",
    "    SDSSg_stack[loc, :, :] = img_data\n",
    "\n",
    "coadd_g = np.mean(SDSSg_stack, axis=0)\n",
    "ref_hdu_g.data = coadd_g\n",
    "# ref_hdu_g.writeto(f'coadd_{os.listdir(data_dir)[0]}_SDSSgp.fits', overwrite=True)"
   ]
  },
  {
   "cell_type": "code",
   "execution_count": null,
   "id": "31430ea9-ade1-49e2-bf6b-e3e078296394",
   "metadata": {},
   "outputs": [],
   "source": [
    "SDSSr_imgs = [os.path.join(subdata_dir, im) for im in list_fits if \"SDSSr\" in im]\n",
    "\n",
    "with fits.open(SDSSr_imgs[0]) as hdul:\n",
    "    ref_hdu_r = hdul[0].copy()\n",
    "    SDSSr_stack = np.empty((len(SDSSr_imgs), *hdul[0].data.shape))\n",
    "\n",
    "for loc, fits_img in enumerate(tqdm(SDSSr_imgs)):\n",
    "    with fits.open(fits_img) as hdul:\n",
    "        img_data = hdul[0].data\n",
    "    SDSSr_stack[loc, :, :] = img_data\n",
    "\n",
    "coadd_r = np.mean(SDSSr_stack, axis=0)\n",
    "ref_hdu_r.data = coadd_r\n",
    "# ref_hdu_r.writeto(f'coadd_{os.listdir(data_dir)[0]}_SDSSrp.fits', overwrite=True)"
   ]
  },
  {
   "cell_type": "markdown",
   "id": "5db10b68-d79c-48d1-829b-07d0704f9b93",
   "metadata": {},
   "source": [
    "## References in PANSTARRS"
   ]
  },
  {
   "cell_type": "code",
   "execution_count": null,
   "id": "c03b8f7a-5114-42bd-82cd-ffe9a0effb8d",
   "metadata": {},
   "outputs": [],
   "source": [
    "from du_astro_utils import query_panstarrs"
   ]
  },
  {
   "cell_type": "code",
   "execution_count": null,
   "id": "d5c340d4-5102-48fa-8150-045ced2828c1",
   "metadata": {},
   "outputs": [],
   "source": [
    "ref_ps = query_panstarrs(f\"coadd_{os.listdir(data_dir)[0]}_SDSSgp.fits\")"
   ]
  },
  {
   "cell_type": "code",
   "execution_count": null,
   "id": "bbdaa117-a8b5-42df-bce5-607fd50f3e57",
   "metadata": {},
   "outputs": [],
   "source": [
    "ref_ps"
   ]
  },
  {
   "cell_type": "code",
   "execution_count": null,
   "id": "86904257-3f3c-4f8a-8a1d-ae41b4077d53",
   "metadata": {},
   "outputs": [],
   "source": [
    "from astropy.wcs import WCS\n",
    "from astropy.wcs.utils import skycoord_to_pixel\n",
    "from astropy.coordinates import Angle, SkyCoord\n",
    "\n",
    "coord_panstarrs = SkyCoord(ref_ps[\"RAJ2000\"], ref_ps[\"DEJ2000\"])"
   ]
  },
  {
   "cell_type": "markdown",
   "id": "32e5ee46",
   "metadata": {},
   "source": [
    "## Photometry"
   ]
  },
  {
   "cell_type": "code",
   "execution_count": null,
   "id": "41b4a1d9-450e-40dc-a75c-b5c4758b7f73",
   "metadata": {},
   "outputs": [],
   "source": [
    "from astropy.table import Table, vstack\n",
    "\n",
    "from astropy.time import Time\n",
    "import warnings\n",
    "from astropy.utils.exceptions import AstropyWarning\n",
    "from astropy.coordinates.name_resolve import NameResolveError\n",
    "\n",
    "use_sextractor = True\n",
    "\n",
    "red_sci_image = f\"coadd_{os.listdir(data_dir)[0]}_SDSSgp.fits\"\n",
    "im_dir = os.path.abspath(os.path.dirname(red_sci_image))\n",
    "im_name, im_ext = os.path.splitext(os.path.basename(red_sci_image))\n",
    "with fits.open(red_sci_image) as hdul:\n",
    "    hdu = hdul[0]\n",
    "    wcs = WCS(hdu.header)\n",
    "    epoch = Time(hdu.header.get(\"DATE-OBS\"), format=\"isot\")\n",
    "    if use_sextractor:\n",
    "        sex_cmd = f\"source-extractor -c default.sex {red_sci_image} -CATALOG_NAME tmp_sources.cat -CATALOG_TYPE FITS_1.0 -VERBOSE_TYPE QUIET\"\n",
    "        os.system(sex_cmd)\n",
    "        cat_tab = Table.read(\"tmp_sources.cat\")\n",
    "        cat_tab.rename_column(\"X_IMAGE\", \"xcentroid\")\n",
    "        cat_tab.rename_column(\"Y_IMAGE\", \"ycentroid\")\n",
    "        _, fwhm, _ = sigma_clipped_stats(cat_tab[\"FWHM_IMAGE\"], sigma=3)\n",
    "        source_coords = SkyCoord(ra=cat_tab[\"ALPHA_J2000\"], dec=cat_tab[\"DELTA_J2000\"], unit=\"deg\", obstime=epoch)\n",
    "    else:\n",
    "        sources = photometry.detect_sources(red_sci_image, detection_fwhm=10, verbose=False)\n",
    "        try:\n",
    "            fwhm = photometry.get_fwhm(red_sci_image, sources)\n",
    "        except RuntimeError:\n",
    "            fwhm = 10\n",
    "        cat_tab = photometry.apert_photometry(red_sci_image, sources, fwhm)\n",
    "        source_coords = SkyCoord.from_pixel(cat_tab[\"xcenter\"], cat_tab[\"xcenter\"], wcs)"
   ]
  },
  {
   "cell_type": "code",
   "execution_count": null,
   "id": "61bc20f9-cced-46c3-a172-4bf99b2621c4",
   "metadata": {},
   "outputs": [],
   "source": [
    "cat_tab"
   ]
  },
  {
   "cell_type": "code",
   "execution_count": null,
   "id": "621fdf6a-aea5-45af-b406-c8eb964d8db0",
   "metadata": {},
   "outputs": [],
   "source": [
    "import astropy.units as u\n",
    "\n",
    "xm_id, xm_ang_distance, _ = source_coords.match_to_catalog_sky(coord_panstarrs, nthneighbor=1)\n",
    "print(hdu.header.get(\"PIXSCALX\") * fwhm)\n",
    "max_sep = hdu.header.get(\"PIXSCALX\") * fwhm * u.arcsec\n",
    "sep_constraint = xm_ang_distance < max_sep\n",
    "coord_matches = source_coords[sep_constraint]\n",
    "catalog_matches = ref_ps[xm_id[sep_constraint]]\n",
    "coord_catalog_matches = coord_panstarrs[xm_id[sep_constraint]]"
   ]
  },
  {
   "cell_type": "code",
   "execution_count": null,
   "id": "408bba3a-4b6f-4ac2-9197-e2cae9841754",
   "metadata": {},
   "outputs": [],
   "source": [
    "# Compute instrumental magnitude\n",
    "if not use_sextractor:\n",
    "    exptime = hdu.header.get(\"EXPTIME\")\n",
    "    ins_mag = -2.5 * np.log10(cat_tab[sep_constraint][\"aper_sum_bkgsub\"] / exptime)\n",
    "    cat_mag = ref_ps[\"gmag\"][xm_id[sep_constraint]]\n",
    "\n",
    "    ins_err = ins_mag - -2.5 * np.log10((cat_tab[sep_constraint][\"aper_sum_bkgsub\"] + cat_tab[sep_constraint][\"noise\"]) / exptime)\n",
    "    cat_err = ref_ps[\"e_gmag\"][xm_id[sep_constraint]]\n",
    "\n",
    "    cat_tab[\"ins_mag\"] = 0\n",
    "    cat_tab[\"ins_mag\"][sep_constraint] = ins_mag\n",
    "else:\n",
    "    cat_mag = ref_ps[\"gmag\"][xm_id[sep_constraint]]\n",
    "    cat_err = ref_ps[\"e_gmag\"][xm_id[sep_constraint]]\n",
    "    ins_mag = cat_tab[sep_constraint][\"MAG_AUTO\"]\n",
    "    ins_err = cat_tab[sep_constraint][\"MAGERR_AUTO\"]"
   ]
  },
  {
   "cell_type": "code",
   "execution_count": null,
   "id": "9460de79-c23f-412b-8bbe-e398796a6b62",
   "metadata": {},
   "outputs": [],
   "source": [
    "plt.scatter(ins_mag, cat_mag)"
   ]
  },
  {
   "cell_type": "code",
   "execution_count": null,
   "id": "3819060c-bb10-4749-9951-0a56118015a4",
   "metadata": {},
   "outputs": [],
   "source": [
    "plt.scatter(cat_mag, ins_mag - cat_mag)"
   ]
  },
  {
   "cell_type": "code",
   "execution_count": null,
   "id": "e378d1cf-505d-410a-98c6-a510d163c4e9",
   "metadata": {},
   "outputs": [],
   "source": [
    "from sklearn import linear_model\n",
    "\n",
    "# Selection from magnitude range\n",
    "mag_min, mag_max = 12, 19\n",
    "cond = (cat_mag > mag_min) & (cat_mag < mag_max) & (~cat_mag.mask) & (~np.isnan(ins_mag))\n",
    "\n",
    "# Create two mock arrays for linear regression\n",
    "X = ins_mag[cond].reshape(-1, 1)\n",
    "y = cat_mag[cond].reshape(-1, 1)\n",
    "\n",
    "\n",
    "# Simple linear regression\n",
    "linear = linear_model.LinearRegression()\n",
    "linear.fit(X, y)\n",
    "\n",
    "\n",
    "# sigma clipping pour choisir le threshold\n",
    "from scipy import stats\n",
    "\n",
    "MAD = stats.median_abs_deviation(X - y)\n",
    "_, _, sig = sigma_clipped_stats(X - y)\n",
    "\n",
    "print(MAD, sig)\n",
    "\n",
    "# RANSAC linear regressions\n",
    "ransac = linear_model.RANSACRegressor(residual_threshold=3 * MAD[0])\n",
    "# ransac = linear_model.RANSACRegressor()\n",
    "ransac.fit(X, y)\n",
    "\n",
    "# Results\n",
    "print(\"Photometric calibration:\")\n",
    "print(f\"  Linear Slope: {linear.coef_[0][0]:.3f}\")\n",
    "print(f\"  Linear ZP   : {linear.intercept_[0]:.3f}\\n\")\n",
    "print(f\"  RANSAC Slope: {ransac.estimator_.coef_[0][0]:.3f}\")\n",
    "print(f\"  RANSAC ZP   : {ransac.estimator_.intercept_[0]:.3f}\")"
   ]
  },
  {
   "cell_type": "code",
   "execution_count": null,
   "id": "b8e34dcc-01f4-4f0d-9bb9-157710c7b9da",
   "metadata": {},
   "outputs": [],
   "source": [
    "# Plotting regression\n",
    "# Outliers and Valid points\n",
    "inlier_mask = ransac.inlier_mask_\n",
    "outlier_mask = np.logical_not(inlier_mask)\n",
    "\n",
    "# Linear regressions (simple and RANSAC)\n",
    "line_X = np.arange(X.min(), X.max() + 1)[:, np.newaxis]\n",
    "line_y_simple = linear.predict(line_X)\n",
    "line_y_ransac = ransac.predict(line_X)\n",
    "\n",
    "fig, ax = plt.subplots(1, 2, figsize=(15, 5))\n",
    "\n",
    "# Plot data\n",
    "ax[0].scatter(X[inlier_mask], y[inlier_mask], color=\"yellowgreen\", marker=\".\", label=\"Inliers\")\n",
    "ax[0].scatter(X[outlier_mask], y[outlier_mask], color=\"gray\", marker=\".\", label=\"Outliers\")\n",
    "\n",
    "# Plot regressions\n",
    "ax[0].plot(line_X, line_y_simple, color=\"cornflowerblue\", label=\"Linear regressor\")\n",
    "ax[0].plot(line_X, line_y_ransac, color=\"navy\", label=\"RANSAC regressor\")\n",
    "\n",
    "# Axes...\n",
    "ax[0].legend(loc=\"lower right\")\n",
    "# ax[0].set_ylim([10,18])\n",
    "ax[0].set_xlabel(\"Instrument magnitude\")\n",
    "ax[0].set_ylabel(\"Catalog magnitude\")\n",
    "ax[0].set_aspect(\"equal\")\n",
    "\n",
    "_, zp_median, zp_sigma = sigma_clipped_stats(y - X, sigma=3)\n",
    "ax[1].scatter(y[inlier_mask], y[inlier_mask] - X[inlier_mask], color=\"yellowgreen\", marker=\".\", label=\"Inliers\")\n",
    "ax[1].scatter(y[outlier_mask], y[outlier_mask] - X[outlier_mask], color=\"gray\", marker=\".\", label=\"Outliers\")\n",
    "ax[1].set_xlabel(\"Catalog magnitude\")\n",
    "\n",
    "ax[1].axhline(zp_median, label=\"Median\")\n",
    "ax[1].axhline(zp_median + zp_sigma, linestyle=\"--\", label=\"Standard deviation\")\n",
    "ax[1].axhline(zp_median - zp_sigma, linestyle=\"--\")\n",
    "print(f\"  sigma  ZP   : {zp_sigma:.3f}\")\n",
    "\n",
    "ax[1].set_ylabel(\"Instrument - Catalog magnitude\")\n",
    "ax[1].legend(loc=\"best\")"
   ]
  },
  {
   "cell_type": "code",
   "execution_count": null,
   "id": "d3cac16f-2572-4d38-aa1e-8e5eebccb9a6",
   "metadata": {},
   "outputs": [],
   "source": [
    "# Compute calibrated mag\n",
    "cat_tab[\"AB_MAG\"] = 0.0\n",
    "\n",
    "# Positive values\n",
    "if not use_sextractor:\n",
    "    positive = np.where(cat_tab[\"aper_sum_bkgsub\"] > 0)\n",
    "    cat_tab[\"AB_MAG\"][positive] = ransac.predict((-2.5 * np.log10(cat_tab[positive][\"aper_sum_bkgsub\"] / exptime)).data.reshape(-1, 1)).flatten()\n",
    "else:\n",
    "    positive = np.where(cat_tab[\"FLUX_AUTO\"] > 0)\n",
    "    cat_tab[\"AB_MAG\"][positive] = ransac.predict(cat_tab[positive][\"MAG_AUTO\"].data.reshape(-1, 1)).flatten()\n",
    "cat_tab"
   ]
  },
  {
   "cell_type": "code",
   "execution_count": null,
   "id": "db4a980b-a47d-41d3-8cbe-c11600eecd88",
   "metadata": {},
   "outputs": [],
   "source": [
    "write_res = False"
   ]
  },
  {
   "cell_type": "code",
   "execution_count": null,
   "id": "7a92734a-7873-442a-bce6-634f25acd4eb",
   "metadata": {},
   "outputs": [],
   "source": [
    "red_sci_image = f\"coadd_{os.listdir(data_dir)[0]}_SDSSrp.fits\"\n",
    "im_dir = os.path.abspath(os.path.dirname(red_sci_image))\n",
    "im_name, im_ext = os.path.splitext(os.path.basename(red_sci_image))\n",
    "with fits.open(red_sci_image) as hdul:\n",
    "    hdu = hdul[0]\n",
    "    wcs = WCS(hdu.header)\n",
    "    epoch = Time(hdu.header.get(\"DATE-OBS\"), format=\"isot\")\n",
    "    if use_sextractor:\n",
    "        sex_cmd = f\"source-extractor -c default.sex {red_sci_image} -CATALOG_NAME tmp_sources.cat -CATALOG_TYPE FITS_1.0 -GAIN 0.932 -VERBOSE_TYPE QUIET\"\n",
    "        os.system(sex_cmd)\n",
    "        catR_tab = Table.read(\"tmp_sources.cat\")\n",
    "        catR_tab.rename_column(\"X_IMAGE\", \"xcentroid\")\n",
    "        catR_tab.rename_column(\"Y_IMAGE\", \"ycentroid\")\n",
    "        _, fwhm, _ = sigma_clipped_stats(catR_tab[\"FWHM_IMAGE\"], sigma=3)\n",
    "        sourceR_coords = SkyCoord(ra=catR_tab[\"ALPHA_J2000\"], dec=catR_tab[\"DELTA_J2000\"], unit=\"deg\", obstime=epoch)\n",
    "    else:\n",
    "        sourcesR = photometry.detect_sources(red_sci_image, detection_fwhm=10, verbose=False)\n",
    "        try:\n",
    "            fwhm = photometry.get_fwhm(red_sci_image, sourcesR)\n",
    "        except RuntimeError:\n",
    "            fwhm = 10\n",
    "        catR_tab = photometry.apert_photometry(red_sci_image, sourcesR, fwhm)\n",
    "        sourceR_coords = SkyCoord.from_pixel(catR_tab[\"xcenter\"], cat_tab[\"xcenter\"], wcs)"
   ]
  },
  {
   "cell_type": "code",
   "execution_count": null,
   "id": "26ea744d-67d6-4368-8319-1e1d9da4ffa4",
   "metadata": {},
   "outputs": [],
   "source": [
    "xm_id, xm_ang_distance, _ = sourceR_coords.match_to_catalog_sky(coord_panstarrs, nthneighbor=1)\n",
    "print(hdu.header.get(\"PIXSCALX\") * fwhm)\n",
    "max_sep = hdu.header.get(\"PIXSCALX\") * fwhm * u.arcsec\n",
    "sep_constraint = xm_ang_distance < max_sep\n",
    "coord_matches = sourceR_coords[sep_constraint]\n",
    "catalog_matches = ref_ps[xm_id[sep_constraint]]\n",
    "coord_catalog_matches = coord_panstarrs[xm_id[sep_constraint]]"
   ]
  },
  {
   "cell_type": "code",
   "execution_count": null,
   "id": "36336707-22c4-453c-b2ba-1920b851ec13",
   "metadata": {},
   "outputs": [],
   "source": [
    "# Compute instrumental magnitude\n",
    "if not use_sextractor:\n",
    "    exptime = hdu.header.get(\"EXPTIME\")\n",
    "    ins_mag = -2.5 * np.log10(catR_tab[sep_constraint][\"aper_sum_bkgsub\"] / exptime)\n",
    "    cat_mag = ref_ps[\"rmag\"][xm_id[sep_constraint]]\n",
    "\n",
    "    ins_err = ins_mag - -2.5 * np.log10((catR_tab[sep_constraint][\"aper_sum_bkgsub\"] + catR_tab[sep_constraint][\"noise\"]) / exptime)\n",
    "    cat_err = ref_ps[\"e_rmag\"][xm_id[sep_constraint]]\n",
    "\n",
    "    catR_tab[\"ins_mag\"] = 0\n",
    "    catR_tab[\"ins_mag\"][sep_constraint] = ins_mag\n",
    "else:\n",
    "    cat_mag = ref_ps[\"rmag\"][xm_id[sep_constraint]]\n",
    "    cat_err = ref_ps[\"e_rmag\"][xm_id[sep_constraint]]\n",
    "    ins_mag = catR_tab[sep_constraint][\"MAG_AUTO\"]\n",
    "    ins_err = catR_tab[sep_constraint][\"MAGERR_AUTO\"]\n",
    "plt.scatter(ins_mag, cat_mag)\n",
    "plt.xlim(-20, 5)"
   ]
  },
  {
   "cell_type": "code",
   "execution_count": null,
   "id": "07035ab7-963e-49ff-a609-d4f242f01b0d",
   "metadata": {},
   "outputs": [],
   "source": [
    "# Selection from magnitude range\n",
    "mag_min, mag_max = 12, 19\n",
    "cond = (cat_mag > mag_min) & (cat_mag < mag_max) & (~cat_mag.mask) & (~np.isnan(ins_mag))\n",
    "\n",
    "# Create two mock arrays for linear regression\n",
    "X = ins_mag[cond].reshape(-1, 1)\n",
    "y = cat_mag[cond].reshape(-1, 1)\n",
    "\n",
    "\n",
    "# Simple linear regression\n",
    "linear = linear_model.LinearRegression()\n",
    "linear.fit(X, y)\n",
    "\n",
    "\n",
    "# sigma clipping pour choisir le threshold\n",
    "from scipy import stats\n",
    "\n",
    "MAD = stats.median_abs_deviation(X - y)\n",
    "_, _, sig = sigma_clipped_stats(X - y)\n",
    "\n",
    "print(MAD, sig)\n",
    "\n",
    "# RANSAC linear regressions\n",
    "ransac = linear_model.RANSACRegressor(residual_threshold=3 * MAD[0])\n",
    "# ransac = linear_model.RANSACRegressor()\n",
    "ransac.fit(X, y)\n",
    "\n",
    "# Results\n",
    "print(\"Photometric calibration:\")\n",
    "print(f\"  Linear Slope: {linear.coef_[0][0]:.3f}\")\n",
    "print(f\"  Linear ZP   : {linear.intercept_[0]:.3f}\\n\")\n",
    "print(f\"  RANSAC Slope: {ransac.estimator_.coef_[0][0]:.3f}\")\n",
    "print(f\"  RANSAC ZP   : {ransac.estimator_.intercept_[0]:.3f}\")"
   ]
  },
  {
   "cell_type": "code",
   "execution_count": null,
   "id": "0da7c185-7cab-494a-b800-bc3df217948d",
   "metadata": {},
   "outputs": [],
   "source": [
    "# Plotting regression\n",
    "# Outliers and Valid points\n",
    "inlier_mask = ransac.inlier_mask_\n",
    "outlier_mask = np.logical_not(inlier_mask)\n",
    "\n",
    "# Linear regressions (simple and RANSAC)\n",
    "line_X = np.arange(X.min(), X.max() + 1)[:, np.newaxis]\n",
    "line_y_simple = linear.predict(line_X)\n",
    "line_y_ransac = ransac.predict(line_X)\n",
    "\n",
    "fig, ax = plt.subplots(1, 2, figsize=(15, 5))\n",
    "\n",
    "# Plot data\n",
    "ax[0].scatter(X[inlier_mask], y[inlier_mask], color=\"yellowgreen\", marker=\".\", label=\"Inliers\")\n",
    "ax[0].scatter(X[outlier_mask], y[outlier_mask], color=\"gray\", marker=\".\", label=\"Outliers\")\n",
    "\n",
    "# Plot regressions\n",
    "ax[0].plot(line_X, line_y_simple, color=\"cornflowerblue\", label=\"Linear regressor\")\n",
    "ax[0].plot(line_X, line_y_ransac, color=\"navy\", label=\"RANSAC regressor\")\n",
    "\n",
    "# Axes...\n",
    "ax[0].legend(loc=\"lower right\")\n",
    "# ax[0].set_ylim([10,18])\n",
    "ax[0].set_xlabel(\"Instrument magnitude\")\n",
    "ax[0].set_ylabel(\"Catalog magnitude\")\n",
    "ax[0].set_aspect(\"equal\")\n",
    "\n",
    "_, zp_median, zp_sigma = sigma_clipped_stats(y - X, sigma=3)\n",
    "ax[1].scatter(y[inlier_mask], y[inlier_mask] - X[inlier_mask], color=\"yellowgreen\", marker=\".\", label=\"Inliers\")\n",
    "ax[1].scatter(y[outlier_mask], y[outlier_mask] - X[outlier_mask], color=\"gray\", marker=\".\", label=\"Outliers\")\n",
    "ax[1].set_xlabel(\"Catalog magnitude\")\n",
    "\n",
    "ax[1].axhline(zp_median, label=\"Median\")\n",
    "ax[1].axhline(zp_median + zp_sigma, linestyle=\"--\", label=\"Standard deviation\")\n",
    "ax[1].axhline(zp_median - zp_sigma, linestyle=\"--\")\n",
    "print(f\"  sigma  ZP   : {zp_sigma:.3f}\")\n",
    "\n",
    "ax[1].set_ylabel(\"Instrument - Catalog magnitude\")\n",
    "ax[1].legend(loc=\"best\")"
   ]
  },
  {
   "cell_type": "code",
   "execution_count": null,
   "id": "e1805c48-79cc-4194-834b-dfda2c69539d",
   "metadata": {},
   "outputs": [],
   "source": [
    "# Compute calibrated mag\n",
    "catR_tab[\"AB_MAG\"] = 0.0\n",
    "\n",
    "# Positive values\n",
    "if not use_sextractor:\n",
    "    positive = np.where(catR_tab[\"aper_sum_bkgsub\"] > 0)\n",
    "    catR_tab[\"AB_MAG\"][positive] = ransac.predict((-2.5 * np.log10(catR_tab[positive][\"aper_sum_bkgsub\"] / exptime)).data.reshape(-1, 1)).flatten()\n",
    "else:\n",
    "    positive = np.where(cat_tab[\"FLUX_AUTO\"] > 0)\n",
    "    catR_tab[\"AB_MAG\"][positive] = ransac.predict(catR_tab[positive][\"MAG_AUTO\"].data.reshape(-1, 1)).flatten()\n",
    "catR_tab"
   ]
  },
  {
   "cell_type": "code",
   "execution_count": null,
   "id": "1d4d0569-f412-4f99-8506-c7414696ebfa",
   "metadata": {},
   "outputs": [],
   "source": [
    "len(catR_tab[catR_tab[\"AB_MAG\"] > 0])"
   ]
  },
  {
   "cell_type": "markdown",
   "id": "edcb598c-8c2b-4f34-a445-c8d6d95315a2",
   "metadata": {},
   "source": [
    "## HR diagram"
   ]
  },
  {
   "cell_type": "code",
   "execution_count": null,
   "id": "f7d5c3ab-6a23-4acc-9b02-9ddc861f628d",
   "metadata": {},
   "outputs": [],
   "source": [
    "xm_id, xm_ang_distance, _ = sourceR_coords.match_to_catalog_sky(source_coords, nthneighbor=1)\n",
    "print(hdu.header.get(\"PIXSCALX\") * fwhm)\n",
    "max_sep = hdu.header.get(\"PIXSCALX\") * fwhm * u.arcsec\n",
    "sep_constraint = xm_ang_distance < max_sep\n",
    "coord_matches = sourceR_coords[sep_constraint]\n",
    "catalog_matches = cat_tab[xm_id[sep_constraint]]\n",
    "coord_catalog_matches = source_coords[xm_id[sep_constraint]]"
   ]
  },
  {
   "cell_type": "code",
   "execution_count": null,
   "id": "b2f12af0-5da0-47bb-b7f6-d9b905d77949",
   "metadata": {},
   "outputs": [],
   "source": [
    "g_cat = catalog_matches\n",
    "r_cat = catR_tab[sep_constraint]\n",
    "\n",
    "sel1 = np.logical_and(g_cat[\"AB_MAG\"] > 0.0, r_cat[\"AB_MAG\"] > 0.0)\n",
    "sel2 = np.logical_and(g_cat[\"AB_MAG\"] < 99.0, r_cat[\"AB_MAG\"] < 99.0)\n",
    "sel = np.logical_and(sel1, sel2)\n",
    "plt.scatter(g_cat[sel][\"AB_MAG\"] - r_cat[sel][\"AB_MAG\"], g_cat[sel][\"AB_MAG\"], marker=\".\")"
   ]
  },
  {
   "cell_type": "code",
   "execution_count": null,
   "id": "9849f5ca-6a42-452c-b454-0ca905d5ddb2",
   "metadata": {},
   "outputs": [],
   "source": [
    "import pandas as pd\n",
    "\n",
    "iso_SDSS = pd.read_csv(\"TD_8_AmasStellaires/isochrones/output_SDSSugriz_0.1Gyr-10Gyr.dat\", header=0, comment=\"#\", delimiter=\"\\s+\", skipinitialspace=True, skipfooter=1)"
   ]
  },
  {
   "cell_type": "code",
   "execution_count": null,
   "id": "b399e011-c26e-447e-98d4-2f6fbf1b5ee4",
   "metadata": {},
   "outputs": [],
   "source": [
    "iso_SDSS.columns"
   ]
  },
  {
   "cell_type": "code",
   "execution_count": null,
   "id": "f6a8cdc7-2db3-4960-98c4-6fa7aac5f828",
   "metadata": {},
   "outputs": [],
   "source": [
    "g_cat = catalog_matches\n",
    "r_cat = catR_tab[sep_constraint]\n",
    "\n",
    "sel1 = np.logical_and(g_cat[\"AB_MAG\"] > 0.0, r_cat[\"AB_MAG\"] > 0.0)\n",
    "sel2 = np.logical_and(g_cat[\"AB_MAG\"] < 99.0, r_cat[\"AB_MAG\"] < 99.0)\n",
    "sel = np.logical_and(sel1, sel2)\n",
    "plt.scatter(g_cat[sel][\"AB_MAG\"] - r_cat[sel][\"AB_MAG\"], g_cat[sel][\"AB_MAG\"], marker=\".\")"
   ]
  },
  {
   "cell_type": "code",
   "execution_count": null,
   "id": "4de4f8d4-5a20-444f-930b-e2dc31bee9f5",
   "metadata": {},
   "outputs": [],
   "source": [
    "import seaborn as sns\n",
    "\n",
    "iso_SDSS[\"g-r\"] = iso_SDSS[\"gmag\"] - iso_SDSS[\"rmag\"]\n",
    "sns.scatterplot(data=iso_SDSS, x=\"g-r\", y=\"gmag\", hue=\"logAge\")"
   ]
  },
  {
   "cell_type": "code",
   "execution_count": null,
   "id": "93392cad-fbca-4b57-bf20-69438c9d180f",
   "metadata": {},
   "outputs": [],
   "source": [
    "f, a = plt.subplots(1, 1)\n",
    "sns.scatterplot(data=iso_SDSS, x=\"g-r\", y=\"gmag\", hue=\"logAge\", ax=a)\n",
    "a.scatter(g_cat[sel][\"AB_MAG\"] - r_cat[sel][\"AB_MAG\"], g_cat[sel][\"AB_MAG\"], marker=\".\", label=\"Hyades\")"
   ]
  },
  {
   "cell_type": "code",
   "execution_count": null,
   "id": "c972030b-0adb-4785-a819-afc6676f2fe8",
   "metadata": {},
   "outputs": [],
   "source": []
  }
 ],
 "metadata": {
  "kernelspec": {
   "display_name": "Python - DUAO",
   "language": "python",
   "name": "duao"
  },
  "language_info": {
   "codemirror_mode": {
    "name": "ipython",
    "version": 3
   },
   "file_extension": ".py",
   "mimetype": "text/x-python",
   "name": "python",
   "nbconvert_exporter": "python",
   "pygments_lexer": "ipython3",
   "version": "3.11.9"
  }
 },
 "nbformat": 4,
 "nbformat_minor": 5
}
