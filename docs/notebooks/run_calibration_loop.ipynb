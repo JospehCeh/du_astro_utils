{
 "cells": [
  {
   "cell_type": "markdown",
   "id": "6fc74dd2-7acd-421c-b164-14019a6c5a08",
   "metadata": {},
   "source": [
    "# Notebook pour calibrer les images d'un dossier"
   ]
  },
  {
   "cell_type": "code",
   "execution_count": null,
   "id": "a9f7595c-b0df-4691-8c93-43f6dcc0d8c0",
   "metadata": {},
   "outputs": [],
   "source": [
    "import os, time\n",
    "from du_astro_utils import calibration, photometry, utils\n",
    "import matplotlib.pyplot as plt\n",
    "import numpy as np\n",
    "from astropy.io import fits\n",
    "from astropy.table import Table\n",
    "from astropy.stats import sigma_clipped_stats\n",
    "from astropy.timeseries import TimeSeries\n",
    "from scipy.ndimage import median_filter\n",
    "from tqdm import tqdm\n",
    "\n",
    "import warnings\n",
    "from astropy.utils.exceptions import AstropyWarning\n",
    "\n",
    "warnings.simplefilter(\"ignore\", category=AstropyWarning)"
   ]
  },
  {
   "cell_type": "code",
   "execution_count": null,
   "id": "5d72ef22-4d13-4a20-a010-6af926e7cff6",
   "metadata": {},
   "outputs": [],
   "source": [
    "target_type = \"asteroid\"\n",
    "if target_type == \"asteroid\":\n",
    "    data_dir = os.path.join(utils.C2PU_DATA_DIR, utils.DIR_PHOTOM, utils.DIR_ASTER)\n",
    "elif target_type == \"exoplanet\":\n",
    "    data_dir = os.path.join(utils.C2PU_DATA_DIR, utils.DIR_PHOTOM, utils.DIR_EXPLTS)\n",
    "elif target_type == \"variable_star\":\n",
    "    data_dir = os.path.join(utils.C2PU_DATA_DIR, utils.DIR_PHOTOM, utils.DIR_VARSTARS)\n",
    "os.listdir(data_dir)"
   ]
  },
  {
   "cell_type": "code",
   "execution_count": null,
   "id": "97497a40-f272-4de5-a9ca-e78e8585629a",
   "metadata": {},
   "outputs": [],
   "source": [
    "for ddir in os.listdir(data_dir):\n",
    "    subdata_dir = os.path.join(data_dir, ddir)\n",
    "    if os.path.isdir(subdata_dir):\n",
    "        list_fits = [im for im in sorted(os.listdir(subdata_dir)) if \".fits\" in im]\n",
    "        list_fits = sorted(list_fits)\n",
    "        print(subdata_dir, len(list_fits))"
   ]
  },
  {
   "cell_type": "code",
   "execution_count": null,
   "id": "f5b7b8ce-ccac-45d2-b0e4-a01031fc0640",
   "metadata": {},
   "outputs": [],
   "source": [
    "achoice = os.listdir(data_dir)[2]\n",
    "reduced = False\n",
    "aligned = False\n",
    "subdata_dir = os.path.join(data_dir, achoice)\n",
    "if reduced:\n",
    "    subdata_dir = os.path.join(subdata_dir, \"REDUCED\")\n",
    "if aligned:\n",
    "    subdata_dir = os.path.join(subdata_dir, \"aligned\")\n",
    "list_fits = [im for im in sorted(os.listdir(subdata_dir)) if \".fits\" in im]\n",
    "list_fits = sorted(list_fits)"
   ]
  },
  {
   "cell_type": "code",
   "execution_count": null,
   "id": "fb19e395-0b93-4cf4-bba4-3087e470d815",
   "metadata": {
    "tags": []
   },
   "outputs": [],
   "source": [
    "list_fits"
   ]
  },
  {
   "cell_type": "code",
   "execution_count": null,
   "id": "064d121e-a3bc-4391-ba60-ac21af5e9a4c",
   "metadata": {
    "tags": []
   },
   "outputs": [],
   "source": [
    "rerun = False\n",
    "test_mode = False  # Only runs on a few images, prints the tables at each step and does not write files.\n",
    "dict_of_dict = {}\n",
    "\n",
    "if test_mode:\n",
    "    list_fits = list_fits[:10]\n",
    "for loc, scimage in enumerate(tqdm(list_fits)):\n",
    "    fits_sci_image = os.path.join(subdata_dir, scimage)\n",
    "    fits_sci_image = os.path.abspath(fits_sci_image)\n",
    "    if os.path.isfile(fits_sci_image):\n",
    "        # Get image directory, failename and extension\n",
    "        sc_im_dir = os.path.abspath(os.path.dirname(fits_sci_image))\n",
    "        sc_im_name, sc_im_ext = os.path.splitext(os.path.basename(fits_sci_image))\n",
    "\n",
    "        bias_dir, darks_dir, flats_dir = utils.get_calib_dirs_photometry(fits_sci_image)\n",
    "\n",
    "        # Get information from FITS header\n",
    "        sc_date, sc_scope, sc_cam, sc_filter, sc_expos, sc_x, sc_y = calibration.get_infos_from_image(fits_sci_image, verbose=False)\n",
    "        # print(sc_date, sc_scope, sc_cam, sc_filter, sc_expos, sc_x, sc_y)\n",
    "\n",
    "        # Run calibration\n",
    "        dico_calib = calibration.reduce_sci_image(fits_sci_image, darks_dir, flats_dir, path_to_bias_dir=\"\", use_bias=False, override_date_check=True, max_days=7, speedup=test_mode, overwrite=rerun, verbose=test_mode, write_tmp=test_mode, overwrite_calibs=False)\n",
    "        dict_of_dict.update({sc_im_name: dico_calib})"
   ]
  },
  {
   "cell_type": "markdown",
   "id": "278b2567-66f9-4667-832a-a3897bde0a1a",
   "metadata": {},
   "source": [
    "Calibration terminée !"
   ]
  },
  {
   "cell_type": "code",
   "execution_count": null,
   "id": "f6d1cb95-7cc7-4867-866a-9b96cd3603c8",
   "metadata": {},
   "outputs": [],
   "source": [
    "target_type = \"asteroid\"\n",
    "if target_type == \"asteroid\":\n",
    "    data_dir = os.path.join(utils.C2PU_DATA_DIR, utils.DIR_PHOTOM, utils.DIR_ASTER)\n",
    "elif target_type == \"exoplanet\":\n",
    "    data_dir = os.path.join(utils.C2PU_DATA_DIR, utils.DIR_PHOTOM, utils.DIR_EXPLTS)\n",
    "elif target_type == \"variable_star\":\n",
    "    data_dir = os.path.join(utils.C2PU_DATA_DIR, utils.DIR_PHOTOM, utils.DIR_VARSTARS)\n",
    "# os.listdir(data_dir)\n",
    "\n",
    "for ddir in os.listdir(data_dir):\n",
    "    subdata_dir = os.path.join(data_dir, ddir)\n",
    "    if os.path.isdir(subdata_dir):\n",
    "        list_fits = [im for im in sorted(os.listdir(subdata_dir)) if \".fits\" in im]\n",
    "        list_fits = sorted(list_fits)\n",
    "        print(subdata_dir, len(list_fits))\n",
    "\n",
    "achoice = os.listdir(data_dir)[1]\n",
    "reduced = False\n",
    "aligned = False\n",
    "subdata_dir = os.path.join(data_dir, achoice)\n",
    "if reduced:\n",
    "    subdata_dir = os.path.join(subdata_dir, \"REDUCED\")\n",
    "if aligned:\n",
    "    subdata_dir = os.path.join(subdata_dir, \"aligned\")\n",
    "list_fits = [im for im in sorted(os.listdir(subdata_dir)) if \".fits\" in im]\n",
    "list_fits = sorted(list_fits)\n",
    "\n",
    "rerun = False\n",
    "test_mode = False  # Only runs on a few images, prints the tables at each step and does not write files.\n",
    "dict_of_dict = {}\n",
    "\n",
    "if rerun or test_mode:\n",
    "    if test_mode:\n",
    "        list_fits = list_fits[:10]\n",
    "    for loc, scimage in enumerate(tqdm(list_fits)):\n",
    "        fits_sci_image = os.path.join(subdata_dir, scimage)\n",
    "        fits_sci_image = os.path.abspath(fits_sci_image)\n",
    "        if os.path.isfile(fits_sci_image):\n",
    "            # Get image directory, failename and extension\n",
    "            sc_im_dir = os.path.abspath(os.path.dirname(fits_sci_image))\n",
    "            sc_im_name, sc_im_ext = os.path.splitext(os.path.basename(fits_sci_image))\n",
    "\n",
    "            bias_dir, darks_dir, flats_dir = utils.get_calib_dirs_photometry(fits_sci_image)\n",
    "\n",
    "            # Get information from FITS header\n",
    "            sc_date, sc_scope, sc_cam, sc_filter, sc_expos, sc_x, sc_y = calibration.get_infos_from_image(fits_sci_image, verbose=False)\n",
    "            # print(sc_date, sc_scope, sc_cam, sc_filter, sc_expos, sc_x, sc_y)\n",
    "\n",
    "            # Run calibration\n",
    "            dico_calib = calibration.reduce_sci_image(fits_sci_image, darks_dir, flats_dir, path_to_bias_dir=\"\", use_bias=False, override_date_check=True, max_days=7, speedup=test_mode, overwrite=rerun, verbose=test_mode, write_tmp=test_mode, overwrite_calibs=False)\n",
    "            dict_of_dict.update({sc_im_name: dico_calib})"
   ]
  },
  {
   "cell_type": "code",
   "execution_count": null,
   "id": "55651faa-07a2-42da-98b4-13423de2cd52",
   "metadata": {},
   "outputs": [],
   "source": [
    "target_type = \"variable_star\"\n",
    "if target_type == \"asteroid\":\n",
    "    data_dir = os.path.join(utils.C2PU_DATA_DIR, utils.DIR_PHOTOM, utils.DIR_ASTER)\n",
    "elif target_type == \"exoplanet\":\n",
    "    data_dir = os.path.join(utils.C2PU_DATA_DIR, utils.DIR_PHOTOM, utils.DIR_EXPLTS)\n",
    "elif target_type == \"variable_star\":\n",
    "    data_dir = os.path.join(utils.C2PU_DATA_DIR, utils.DIR_PHOTOM, utils.DIR_VARSTARS)\n",
    "# os.listdir(data_dir)\n",
    "\n",
    "for ddir in os.listdir(data_dir):\n",
    "    subdata_dir = os.path.join(data_dir, ddir)\n",
    "    if os.path.isdir(subdata_dir):\n",
    "        list_fits = [im for im in sorted(os.listdir(subdata_dir)) if \".fits\" in im]\n",
    "        list_fits = sorted(list_fits)\n",
    "        print(subdata_dir, len(list_fits))\n",
    "\n",
    "achoice = os.listdir(data_dir)[6]\n",
    "reduced = False\n",
    "aligned = False\n",
    "subdata_dir = os.path.join(data_dir, achoice)\n",
    "if reduced:\n",
    "    subdata_dir = os.path.join(subdata_dir, \"REDUCED\")\n",
    "if aligned:\n",
    "    subdata_dir = os.path.join(subdata_dir, \"aligned\")\n",
    "list_fits = [im for im in sorted(os.listdir(subdata_dir)) if \".fits\" in im]\n",
    "list_fits = sorted(list_fits)\n",
    "\n",
    "rerun = True\n",
    "test_mode = False  # Only runs on a few images, prints the tables at each step and does not write files.\n",
    "dict_of_dict = {}\n",
    "\n",
    "if rerun or test_mode:\n",
    "    if test_mode:\n",
    "        list_fits = list_fits[:10]\n",
    "    for loc, scimage in enumerate(tqdm(list_fits)):\n",
    "        fits_sci_image = os.path.join(subdata_dir, scimage)\n",
    "        fits_sci_image = os.path.abspath(fits_sci_image)\n",
    "        if os.path.isfile(fits_sci_image):\n",
    "            # Get image directory, failename and extension\n",
    "            sc_im_dir = os.path.abspath(os.path.dirname(fits_sci_image))\n",
    "            sc_im_name, sc_im_ext = os.path.splitext(os.path.basename(fits_sci_image))\n",
    "\n",
    "            bias_dir, darks_dir, flats_dir = utils.get_calib_dirs_photometry(fits_sci_image)\n",
    "\n",
    "            # Get information from FITS header\n",
    "            sc_date, sc_scope, sc_cam, sc_filter, sc_expos, sc_x, sc_y = calibration.get_infos_from_image(fits_sci_image, verbose=False)\n",
    "            # print(sc_date, sc_scope, sc_cam, sc_filter, sc_expos, sc_x, sc_y)\n",
    "\n",
    "            # Run calibration\n",
    "            dico_calib = calibration.reduce_sci_image(fits_sci_image, darks_dir, flats_dir, path_to_bias_dir=\"\", use_bias=False, override_date_check=True, max_days=7, speedup=test_mode, overwrite=rerun, verbose=test_mode, write_tmp=test_mode, overwrite_calibs=False)\n",
    "            dict_of_dict.update({sc_im_name: dico_calib})"
   ]
  },
  {
   "cell_type": "code",
   "execution_count": null,
   "id": "0d44e714-bba9-4c60-8acb-9bed7e562dc8",
   "metadata": {},
   "outputs": [],
   "source": []
  }
 ],
 "metadata": {
  "kernelspec": {
   "display_name": "Python - DUAO",
   "language": "python",
   "name": "duao"
  },
  "language_info": {
   "codemirror_mode": {
    "name": "ipython",
    "version": 3
   },
   "file_extension": ".py",
   "mimetype": "text/x-python",
   "name": "python",
   "nbconvert_exporter": "python",
   "pygments_lexer": "ipython3",
   "version": "3.11.9"
  }
 },
 "nbformat": 4,
 "nbformat_minor": 5
}
