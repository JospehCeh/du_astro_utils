{
 "cells": [
  {
   "cell_type": "code",
   "execution_count": null,
   "id": "d14e2d24",
   "metadata": {},
   "outputs": [],
   "source": [
    "import os\n",
    "from du_astro_utils import calibration, photometry, utils\n",
    "import matplotlib.pyplot as plt\n",
    "import numpy as np\n",
    "from astropy.io import fits\n",
    "from astropy.stats import sigma_clipped_stats\n",
    "from scipy.ndimage import median_filter"
   ]
  },
  {
   "cell_type": "code",
   "execution_count": null,
   "id": "59513ff1",
   "metadata": {
    "tags": []
   },
   "outputs": [],
   "source": [
    "asteroids_dir = os.path.join(utils.C2PU_DATA_DIR, utils.DIR_PHOTOM, utils.DIR_ASTER)\n",
    "asteroids_dir = os.path.join(asteroids_dir, os.listdir(asteroids_dir)[0])\n",
    "sorted(os.listdir(asteroids_dir))"
   ]
  },
  {
   "cell_type": "code",
   "execution_count": null,
   "id": "ac26c26e",
   "metadata": {},
   "outputs": [],
   "source": [
    "list_fits = [im for im in sorted(os.listdir(asteroids_dir)) if \".fits\" in im]\n",
    "fits_sci_image = os.path.join(asteroids_dir, list_fits[0])\n",
    "fits_sci_image = os.path.abspath(fits_sci_image)\n",
    "os.path.isfile(fits_sci_image)"
   ]
  },
  {
   "cell_type": "code",
   "execution_count": null,
   "id": "8e9b3d31",
   "metadata": {},
   "outputs": [],
   "source": [
    "calibration.get_infos_from_image(fits_sci_image)"
   ]
  },
  {
   "cell_type": "code",
   "execution_count": null,
   "id": "b775709d",
   "metadata": {},
   "outputs": [],
   "source": [
    "bias_dir, darks_dir, flats_dir = utils.get_calib_dirs_photometry(fits_sci_image)\n",
    "print(bias_dir, darks_dir, flats_dir)"
   ]
  },
  {
   "cell_type": "code",
   "execution_count": null,
   "id": "473db1b1",
   "metadata": {},
   "outputs": [],
   "source": [
    "# Get image directory, failename and extension\n",
    "sc_im_dir = os.path.abspath(os.path.dirname(fits_sci_image))\n",
    "sc_im_name, sc_im_ext = os.path.splitext(os.path.basename(fits_sci_image))\n",
    "print(sc_im_dir, sc_im_name, sc_im_ext)"
   ]
  },
  {
   "cell_type": "code",
   "execution_count": null,
   "id": "21263441",
   "metadata": {},
   "outputs": [],
   "source": [
    "# Get information from FITS header\n",
    "sc_date, sc_scope, sc_cam, sc_filter, sc_expos, sc_x, sc_y = calibration.get_infos_from_image(fits_sci_image)"
   ]
  },
  {
   "cell_type": "code",
   "execution_count": null,
   "id": "dbd847ba",
   "metadata": {
    "tags": []
   },
   "outputs": [],
   "source": [
    "bias_list = calibration.load_bias_frames(bias_dir, sc_date, sc_cam, sc_x, sc_y, override_date_check=False, max_days=40)\n",
    "print(bias_list)\n",
    "MASTER_BIAS = calibration.master_bias(bias_list)"
   ]
  },
  {
   "cell_type": "code",
   "execution_count": null,
   "id": "d2173fa5",
   "metadata": {},
   "outputs": [],
   "source": [
    "bkg_mean, bkg_median, bkg_sigma = sigma_clipped_stats(MASTER_BIAS[\"data\"], sigma=3.0)\n",
    "\n",
    "plt.imshow(MASTER_BIAS[\"data\"], cmap=\"gray\", vmin=bkg_median - 5 * bkg_sigma, vmax=bkg_median + 5 * bkg_sigma)\n",
    "plt.colorbar()"
   ]
  },
  {
   "cell_type": "code",
   "execution_count": null,
   "id": "495a693f",
   "metadata": {
    "tags": []
   },
   "outputs": [],
   "source": [
    "# Master dark\n",
    "# TBD: check if there is already one that works\n",
    "darks_list = calibration.load_dark_frames(darks_dir, sc_date, sc_cam, sc_expos, sc_x, sc_y)"
   ]
  },
  {
   "cell_type": "code",
   "execution_count": null,
   "id": "b89a1d02",
   "metadata": {},
   "outputs": [],
   "source": [
    "MASTER_DARK, HOT_PIXELS = calibration.master_dark(darks_list, master_bias=MASTER_BIAS[\"path\"])"
   ]
  },
  {
   "cell_type": "code",
   "execution_count": null,
   "id": "be4dde1d",
   "metadata": {},
   "outputs": [],
   "source": [
    "bkg_mean, bkg_median, bkg_sigma = sigma_clipped_stats(MASTER_DARK[\"data\"], sigma=3.0)\n",
    "\n",
    "plt.imshow(MASTER_DARK[\"data\"], cmap=\"gray\", vmin=bkg_median - 5 * bkg_sigma, vmax=bkg_median + 5 * bkg_sigma)\n",
    "plt.colorbar()"
   ]
  },
  {
   "cell_type": "code",
   "execution_count": null,
   "id": "a7a7cab4-70c4-4f88-9370-4dfb604cbb6a",
   "metadata": {
    "tags": []
   },
   "outputs": [],
   "source": [
    "# Master flat\n",
    "# TBD: check if there is already one that works\n",
    "flats_list = calibration.load_flat_frames(flats_dir, sc_date, sc_cam, sc_filter, sc_x, sc_y, override_date_check=True)\n",
    "print(flats_list)"
   ]
  },
  {
   "cell_type": "code",
   "execution_count": null,
   "id": "2285f76f-7854-452f-b290-d8b571bd9818",
   "metadata": {
    "tags": []
   },
   "outputs": [],
   "source": [
    "MASTER_FLAT, DEAD_PIXELS = calibration.master_flat(flats_list)"
   ]
  },
  {
   "cell_type": "code",
   "execution_count": null,
   "id": "20ff3d69",
   "metadata": {},
   "outputs": [],
   "source": [
    "bkg_mean, bkg_median, bkg_sigma = sigma_clipped_stats(MASTER_FLAT[\"data\"], sigma=3.0)\n",
    "\n",
    "plt.imshow(MASTER_FLAT[\"data\"], cmap=\"gray\", vmin=bkg_median - 5 * bkg_sigma, vmax=bkg_median + 5 * bkg_sigma)\n",
    "plt.colorbar()"
   ]
  },
  {
   "cell_type": "code",
   "execution_count": null,
   "id": "c316d179",
   "metadata": {},
   "outputs": [],
   "source": [
    "additive_corr = MASTER_DARK[\"data\"] + MASTER_BIAS[\"data\"]\n",
    "with fits.open(fits_sci_image) as hdul:\n",
    "    sc_data = hdul[0].data\n",
    "\n",
    "try:\n",
    "    RED_SCIENCE = (sc_data - additive_corr) / MASTER_FLAT[\"data\"]\n",
    "except ValueError:\n",
    "    RED_SCIENCE = (np.transpose(sc_data) - additive_corr) / MASTER_FLAT[\"data\"]\n",
    "\n",
    "# Clean bad pixels\n",
    "# smoothed = median_filter(RED_SCIENCE, size=(5,5))\n",
    "\n",
    "# Hot pixels\n",
    "# try:\n",
    "#    hot_pixel = np.where( HOT_PIXELS[\"data\"]==1 )\n",
    "#    RED_SCIENCE[hot_pixel] = smoothed[hot_pixel]\n",
    "# except:\n",
    "#    print('Cannot clean hot pixels')\n",
    "\n",
    "# Dead pixels\n",
    "# try:\n",
    "#    dead_pixel = np.where( DEAD_PIXELS[\"data\"]==1 )\n",
    "#    RED_SCIENCE[dead_pixel] = smoothed[dead_pixel]\n",
    "# except:\n",
    "#    print('Cannot clean dead pixels')"
   ]
  },
  {
   "cell_type": "code",
   "execution_count": null,
   "id": "55700570",
   "metadata": {},
   "outputs": [],
   "source": [
    "bkg_mean, bkg_median, bkg_sigma = sigma_clipped_stats(sc_data, sigma=3.0)\n",
    "\n",
    "plt.imshow(sc_data, cmap=\"gray\", vmin=bkg_median - 5 * bkg_sigma, vmax=bkg_median + 5 * bkg_sigma)\n",
    "plt.colorbar()"
   ]
  },
  {
   "cell_type": "code",
   "execution_count": null,
   "id": "2c689a77",
   "metadata": {},
   "outputs": [],
   "source": [
    "bkg_mean, bkg_median, bkg_sigma = sigma_clipped_stats(RED_SCIENCE, sigma=3.0)\n",
    "\n",
    "plt.imshow(RED_SCIENCE, cmap=\"gray\", vmin=bkg_median - 5 * bkg_sigma, vmax=bkg_median + 5 * bkg_sigma)\n",
    "plt.colorbar()"
   ]
  },
  {
   "cell_type": "markdown",
   "id": "32e5ee46",
   "metadata": {},
   "source": [
    "# Photometry"
   ]
  },
  {
   "cell_type": "code",
   "execution_count": null,
   "id": "e2544097-e3e8-4ec3-a4ac-380f5972369f",
   "metadata": {},
   "outputs": [],
   "source": [
    "target_type = \"variable_star\"\n",
    "if target_type == \"asteroid\":\n",
    "    data_dir = os.path.join(utils.C2PU_RES_DIR, utils.DIR_PHOTOM, utils.DIR_ASTER)\n",
    "elif target_type == \"exoplanet\":\n",
    "    data_dir = os.path.join(utils.C2PU_RES_DIR, utils.DIR_PHOTOM, utils.DIR_EXPLTS)\n",
    "elif target_type == \"variable_star\":\n",
    "    data_dir = os.path.join(utils.C2PU_RES_DIR, utils.DIR_PHOTOM, utils.DIR_VARSTARS)\n",
    "os.listdir(data_dir)"
   ]
  },
  {
   "cell_type": "code",
   "execution_count": null,
   "id": "68d38b79-31b0-42d5-a965-f25cbc835ad3",
   "metadata": {},
   "outputs": [],
   "source": [
    "for ddir in os.listdir(data_dir):\n",
    "    subdata_dir = os.path.join(data_dir, ddir)\n",
    "    if os.path.isdir(subdata_dir):\n",
    "        list_fits = [im for im in sorted(os.listdir(subdata_dir)) if \".fits\" in im]\n",
    "        list_fits = sorted(list_fits)\n",
    "        print(subdata_dir, len(list_fits))"
   ]
  },
  {
   "cell_type": "code",
   "execution_count": null,
   "id": "ecb248e2-0a92-4476-84e2-9721ee365cda",
   "metadata": {},
   "outputs": [],
   "source": [
    "achoice = os.listdir(data_dir)[1]\n",
    "reduced = True\n",
    "aligned = True\n",
    "subdata_dir = os.path.join(data_dir, achoice)\n",
    "if reduced:\n",
    "    subdata_dir = os.path.join(subdata_dir, \"REDUCED\")\n",
    "if aligned:\n",
    "    subdata_dir = os.path.join(subdata_dir, \"aligned\")\n",
    "list_fits = [im for im in sorted(os.listdir(subdata_dir)) if \".fits\" in os.path.splitext(im)[-1]]\n",
    "list_fits = sorted(list_fits)"
   ]
  },
  {
   "cell_type": "code",
   "execution_count": null,
   "id": "ea776cff-3a33-4b2a-82bd-b200085a366e",
   "metadata": {},
   "outputs": [],
   "source": [
    "list_fits"
   ]
  },
  {
   "cell_type": "code",
   "execution_count": null,
   "id": "95004cb4-6391-40fd-a2a2-1d3e1ea8df4a",
   "metadata": {},
   "outputs": [],
   "source": [
    "rerun = False\n",
    "use_calib = False\n",
    "use_sextractor = False\n",
    "test_mode = False  # Only runs on a few images, prints the tables at each step and does not write files.\n",
    "sex_photom = False\n",
    "write_res = True\n",
    "\n",
    "if rerun or test_mode:\n",
    "    from tqdm import tqdm\n",
    "    from astropy.timeseries import TimeSeries\n",
    "    from astropy.table import Table, vstack\n",
    "    from astropy.wcs import WCS\n",
    "    from astropy.wcs.utils import skycoord_to_pixel\n",
    "    from astropy.coordinates import Angle, SkyCoord\n",
    "    from astropy.time import Time\n",
    "\n",
    "    import warnings\n",
    "    from astropy.utils.exceptions import AstropyWarning\n",
    "    from astropy.coordinates.name_resolve import NameResolveError\n",
    "\n",
    "    warnings.simplefilter(\"ignore\", category=AstropyWarning)\n",
    "\n",
    "    import logging\n",
    "\n",
    "    logger = logging.getLogger()\n",
    "    logger.setLevel(logging.CRITICAL)\n",
    "\n",
    "    if test_mode:\n",
    "        list_fits = list_fits[:10]\n",
    "    for loc, scimage in enumerate(tqdm(list_fits)):\n",
    "        fits_sci_image = os.path.join(subdata_dir, scimage)\n",
    "        fits_sci_image = os.path.abspath(fits_sci_image)\n",
    "        if os.path.isfile(fits_sci_image):\n",
    "            # Get image directory, failename and extension\n",
    "            sc_im_dir = os.path.abspath(os.path.dirname(fits_sci_image))\n",
    "            sc_im_name, sc_im_ext = os.path.splitext(os.path.basename(fits_sci_image))\n",
    "\n",
    "            if use_calib:\n",
    "                bias_dir, darks_dir, flats_dir = utils.get_calib_dirs_photometry(fits_sci_image)\n",
    "\n",
    "                # Get information from FITS header\n",
    "                sc_date, sc_scope, sc_cam, sc_filter, sc_expos, sc_x, sc_y = calibration.get_infos_from_image(fits_sci_image, verbose=False)\n",
    "                # print(sc_date, sc_scope, sc_cam, sc_filter, sc_expos, sc_x, sc_y)\n",
    "\n",
    "                # Run calibration\n",
    "                dico_calib = calibration.reduce_sci_image(fits_sci_image, darks_dir, flats_dir, path_to_bias_dir=\"\", use_bias=False, override_date_check=True, max_days=7, speedup=True, verbose=False, write_tmp=True)\n",
    "                red_sci_image = dico_calib[\"path\"]\n",
    "            else:\n",
    "                red_sci_image = fits_sci_image\n",
    "\n",
    "            # Analysis\n",
    "            # hdu = fits.open(red_sci_image)[0]\n",
    "            im_dir = os.path.abspath(os.path.dirname(red_sci_image))\n",
    "            im_name, im_ext = os.path.splitext(os.path.basename(red_sci_image))\n",
    "            with fits.open(red_sci_image) as hdul:\n",
    "                hdu = hdul[0]\n",
    "                wcs = WCS(hdu.header)\n",
    "                epoch = Time(hdu.header.get(\"DATE-OBS\"), format=\"isot\")\n",
    "\n",
    "                # Get the target position\n",
    "                target = hdu.header.get(\"OBJECT\")\n",
    "                if not target_type == \"asteroid\":\n",
    "                    try:\n",
    "                        target_coords = SkyCoord.from_name(target)\n",
    "                    except NameResolveError:\n",
    "                        target = target.split(\"-\")[-1]  # Quick fix for the case '330-Adalberta' and similar.\n",
    "                        target_coords = SkyCoord.from_name(target)\n",
    "                    target_x, target_y = skycoord_to_pixel(target_coords, wcs=wcs)\n",
    "                    if test_mode:\n",
    "                        print(target_x, target_y)\n",
    "            if loc == 0 or test_mode or sex_photom:\n",
    "                if use_sextractor:\n",
    "                    sex_cmd = f\"source-extractor -c default.sex {red_sci_image} -CATALOG_NAME tmp_sources.cat -CATALOG_TYPE FITS_1.0 -GAIN 0.932 -VERBOSE_TYPE QUIET\"\n",
    "                    os.system(sex_cmd)\n",
    "                    cat_tab = Table.read(\"tmp_sources.cat\")\n",
    "                    cat_tab.rename_column(\"X_IMAGE\", \"xcentroid\")\n",
    "                    cat_tab.rename_column(\"Y_IMAGE\", \"ycentroid\")\n",
    "                    _, fwhm, _ = sigma_clipped_stats(cat_tab[\"FWHM_IMAGE\"])\n",
    "                    sex_coords = SkyCoord(ra=cat_tab[\"ALPHA_J2000\"], dec=cat_tab[\"DELTA_J2000\"], unit=\"deg\", obstime=epoch)\n",
    "                    # dist_to_target = np.power(cat_tab[\"xcentroid\"]-target_x, 2) + np.power(cat_tab[\"ycentroid\"]-target_y, 2)\n",
    "                    dist_to_target = sex_coords.separation(target_coords)\n",
    "                    id_target = np.nanargmin(dist_to_target)\n",
    "                    if loc == 0:\n",
    "                        refs_ids = np.argsort(np.abs(cat_tab[\"FLUX_AUTO\"] - cat_tab[id_target][\"FLUX_AUTO\"]))[1:6]\n",
    "                        ref_coords = SkyCoord(ra=cat_tab[refs_ids][\"ALPHA_J2000\"], dec=cat_tab[refs_ids][\"DELTA_J2000\"], unit=\"deg\", obstime=epoch)\n",
    "                    else:\n",
    "                        refs_ids = np.array([np.nanargmin(sex_coords.separation(refradec)) for refradec in ref_coords]).flatten()\n",
    "\n",
    "                    if sex_photom and not (target_type == \"asteroid\"):\n",
    "                        if test_mode:\n",
    "                            print(id_target, dist_to_target[id_target])\n",
    "                        # if np.sqrt(dist_to_target[id_target]) < 2*fwhm :\n",
    "                        sex_target_table = cat_tab[id_target]\n",
    "                        sex_ref_table = cat_tab[refs_ids]\n",
    "                        sex_target_ts = TimeSeries(time=[epoch], data=sex_target_table)\n",
    "                        for i, val in enumerate(sex_ref_table[\"FLUX_AUTO\"]):\n",
    "                            sex_target_ts.add_column(val, name=f\"FLUX_REF{i+1}\")\n",
    "                        if test_mode:\n",
    "                            print(sex_target_ts)\n",
    "                        if loc == 0:\n",
    "                            concat_sex = sex_target_ts\n",
    "                        else:\n",
    "                            try:\n",
    "                                concat_sex = vstack([concat_sex, sex_target_ts])\n",
    "                            except ValueError:\n",
    "                                pass\n",
    "                else:\n",
    "                    try:\n",
    "                        sources = photometry.detect_sources(red_sci_image, detection_fwhm=10, verbose=False)\n",
    "                        fwhm = photometry.get_fwhm(red_sci_image, sources)\n",
    "                    except RuntimeError:\n",
    "                        fwhm = 10\n",
    "            if target_type == \"asteroid\":\n",
    "                phot_target_table = photometry.query_named_sso_photometry(red_sci_image, fwhm, verbose=False)\n",
    "            elif test_mode or not (sex_photom):\n",
    "                phot_target_table = photometry.apert_photometry_target(red_sci_image, fwhm, verbose=False)\n",
    "                ref_target_table = photometry.apert_photometry(red_sci_image, cat_tab[refs_ids], fwhm)\n",
    "                for i, (ap, bgsub) in enumerate(zip(ref_target_table[\"aperture_sum\"], ref_target_table[\"aper_sum_bkgsub\"])):\n",
    "                    phot_target_table.add_column(ap, name=f\"aperture_sum_REF{i+1}\")\n",
    "                    phot_target_table.add_column(bgsub, name=f\"aper_sum_bkgsub_REF{i+1}\")\n",
    "            if loc == 0:\n",
    "                concat_ts = phot_target_table\n",
    "            else:\n",
    "                try:\n",
    "                    concat_ts = vstack([concat_ts, phot_target_table])\n",
    "                except ValueError:\n",
    "                    pass\n",
    "    if not (test_mode) and sex_photom:\n",
    "        concat_ts = concat_sex\n",
    "\n",
    "    if write_res and not (test_mode):\n",
    "        try:\n",
    "            if use_calib:\n",
    "                if aligned:\n",
    "                    concat_ts.write(f\"{subdata_dir.split('-')[-1].split('/')[0]}_aligned_CAL.fits\", format=\"fits\", overwrite=True)\n",
    "                else:\n",
    "                    concat_ts.write(f\"{subdata_dir.split('-')[-1]}_CAL.fits\", format=\"fits\", overwrite=True)\n",
    "            else:\n",
    "                if aligned:\n",
    "                    concat_ts.write(f\"{subdata_dir.split('-')[-1].split('/')[0]}_aligned.fits\", format=\"fits\", overwrite=True)\n",
    "                else:\n",
    "                    concat_ts.write(f\"{subdata_dir.split('-')[-1]}.fits\", format=\"fits\", overwrite=True)\n",
    "        except OSError:\n",
    "            time.sleep(5)\n",
    "            if use_calib:\n",
    "                if aligned:\n",
    "                    concat_ts.write(f\"{subdata_dir.split('-')[-1].split('/')[0]}_aligned_CAL.fits\", format=\"fits\", overwrite=True)\n",
    "                else:\n",
    "                    concat_ts.write(f\"{subdata_dir.split('-')[-1]}_CAL.fits\", format=\"fits\", overwrite=True)\n",
    "            else:\n",
    "                if aligned:\n",
    "                    concat_ts.write(f\"{subdata_dir.split('-')[-1].split('/')[0]}_aligned.fits\", format=\"fits\", overwrite=True)\n",
    "                else:\n",
    "                    concat_ts.write(f\"{subdata_dir.split('-')[-1]}.fits\", format=\"fits\", overwrite=True)\n",
    "    elif test_mode:\n",
    "        concat_ts.pprint_all()\n",
    "        concat_sex.pprint_all()\n",
    "        # plt.errorbar(phot_target_table[\"Epoch\"], phot_target_table[\"aper_sum_bkgsub\"], yerr=phot_target_table[\"noise\"])\n",
    "else:\n",
    "    if use_calib:\n",
    "        if aligned:\n",
    "            concat_ts = Table.read(f\"{subdata_dir.split('-')[-1].split('/')[0]}_aligned_CAL.fits\", format=\"fits\")\n",
    "        else:\n",
    "            concat_ts = Table.read(f\"{subdata_dir.split('-')[-1]}_CAL.fits\", format=\"fits\")\n",
    "    else:\n",
    "        if aligned:\n",
    "            concat_ts = Table.read(f\"{subdata_dir.split('-')[-1].split('/')[0]}_aligned.fits\", format=\"fits\")\n",
    "        else:\n",
    "            concat_ts = Table.read(f\"{subdata_dir.split('-')[-1]}.fits\", format=\"fits\")"
   ]
  },
  {
   "cell_type": "code",
   "execution_count": null,
   "id": "bed91792-5bd8-4e36-adee-2d400365a721",
   "metadata": {},
   "outputs": [],
   "source": [
    "from astropy.stats import sigma_clipped_stats\n",
    "\n",
    "\n",
    "def detrend_fun(x, a, b, c, d):\n",
    "    return a * x**3 + b * x**2 + c * x + d\n",
    "\n",
    "\n",
    "from scipy.optimize import curve_fit\n",
    "\n",
    "if sex_photom:\n",
    "    mean, med, sig = sigma_clipped_stats(concat_ts[\"FLUX_AUTO\"])\n",
    "\n",
    "    sel = np.logical_and(concat_ts[\"FLUX_AUTO\"] > med - 7 * sig, concat_ts[\"FLUX_AUTO\"] < med + 7 * sig)\n",
    "    plt.errorbar(concat_ts[sel].time.mjd, concat_ts[sel][\"FLUX_AUTO\"] / med.value, yerr=concat_ts[sel][\"FLUXERR_AUTO\"] / med.value, fmt=\".\", c=\"k\")\n",
    "    for i in range(1, 6):\n",
    "        mean, med, sig = sigma_clipped_stats(concat_ts[f\"FLUX_REF{i}\"])\n",
    "        sel = np.logical_and(concat_ts[f\"FLUX_REF{i}\"] > med - 7 * sig, concat_ts[f\"FLUX_REF{i}\"] < med + 7 * sig)\n",
    "        plt.scatter(concat_ts[sel].time.datetime64, concat_ts[sel][f\"FLUX_REF{i}\"] / med, marker=\"+\", s=2)\n",
    "        plt.ylim(0.8, 1.2)\n",
    "    detrend_coeffs = curve_fit(detrend_fun, concat_ts[sel].time.mjd, concat_ts[sel][\"FLUX_AUTO\"], sigma=concat_ts[sel][\"FLUXERR_AUTO\"])[0]\n",
    "    plt.plot(concat_ts[sel].time.mjd, detrend_fun(concat_ts[sel].time.mjd, *detrend_coeffs) / med.value)\n",
    "else:\n",
    "    mean, med, sig = sigma_clipped_stats(concat_ts[\"aper_sum_bkgsub\"])\n",
    "    sel = np.logical_and(concat_ts[\"aper_sum_bkgsub\"] > med - 3 * sig, concat_ts[\"aper_sum_bkgsub\"] < med + 3 * sig)\n",
    "    plt.scatter(concat_ts[sel].time.mjd, concat_ts[sel][\"aper_sum_bkgsub\"] / med)\n",
    "    plt.tick_params(axis=\"x\", labelrotation=90)\n",
    "    detrend_coeffs = curve_fit(detrend_fun, concat_ts[sel].time.mjd, concat_ts[sel][\"aper_sum_bkgsub\"].value)[0]\n",
    "    plt.plot(concat_ts[sel].time.mjd, detrend_fun(concat_ts[sel].time.mjd, *detrend_coeffs) / med)"
   ]
  },
  {
   "cell_type": "code",
   "execution_count": null,
   "id": "351013f7-b20d-472a-bd5f-e8174cc11ad0",
   "metadata": {},
   "outputs": [],
   "source": [
    "detrend = detrend_fun(concat_ts[sel].time.mjd, *detrend_coeffs)\n",
    "plt.errorbar(concat_ts[sel].time.mjd, concat_ts[sel][\"aper_sum_bkgsub\"] / detrend, yerr=concat_ts[sel][\"noise\"] / detrend, fmt=\".\")"
   ]
  },
  {
   "cell_type": "code",
   "execution_count": null,
   "id": "bc02f29e-f3e9-44ee-a072-c35e76a62f65",
   "metadata": {},
   "outputs": [],
   "source": [
    "def sin_to_fit(t, A, nu, phi, C):\n",
    "    return A * np.sin(nu * t + phi) + C\n",
    "\n",
    "\n",
    "signal = concat_ts[sel][\"aper_sum_bkgsub\"] / detrend\n",
    "noise = concat_ts[sel][\"noise\"] / detrend\n",
    "\n",
    "\n",
    "sin_coeffs = curve_fit(sin_to_fit, concat_ts[sel].time.mjd, signal, sigma=noise)[0]\n",
    "plt.errorbar(concat_ts[sel].time.mjd, signal, yerr=noise, fmt=\".\")\n",
    "plt.plot(concat_ts[sel].time.mjd, sin_to_fit(concat_ts[sel].time.mjd, *sin_coeffs))"
   ]
  },
  {
   "cell_type": "code",
   "execution_count": null,
   "id": "72a60d75-0e89-4e69-aec3-f11bda27b297",
   "metadata": {},
   "outputs": [],
   "source": [
    "def d_sur_dt(t, val):\n",
    "    return np.diff(val) / np.diff(t)\n",
    "\n",
    "\n",
    "plt.plot(concat_ts[sel].time.mjd[:-1], d_sur_dt(concat_ts[sel].time.mjd, signal))"
   ]
  },
  {
   "cell_type": "code",
   "execution_count": null,
   "id": "c3db97e2-d8dd-4d72-b875-f29496fb61e4",
   "metadata": {},
   "outputs": [],
   "source": [
    "mean = np.mean(signal)\n",
    "sig = np.std(signal)\n",
    "plt.errorbar(concat_ts[sel].time.mjd, signal, yerr=noise, fmt=\".\")\n",
    "plt.axhline(mean)\n",
    "plt.fill_between(concat_ts[sel].time.mjd, mean - sig, mean + sig, alpha=0.5)"
   ]
  },
  {
   "cell_type": "code",
   "execution_count": null,
   "id": "1d332a91-55c3-4bea-b107-ba6467edcf02",
   "metadata": {},
   "outputs": [],
   "source": [
    "t_cut = np.logical_and(concat_ts[sel].time.mjd - 5.9493e4 > 0.037, concat_ts[sel].time.mjd - 5.9493e4 < 0.082)\n",
    "plt.errorbar(concat_ts[sel].time.mjd[t_cut], signal[t_cut], yerr=noise[t_cut], fmt=\".\")"
   ]
  },
  {
   "cell_type": "code",
   "execution_count": null,
   "id": "21c82f45-749c-401d-9d15-1961bc5afb45",
   "metadata": {},
   "outputs": [],
   "source": [
    "time = concat_ts[sel].time.mjd - 5.9494e4\n",
    "t_cut = np.logical_and(time > 0.037, time < 0.082)\n",
    "vmax, vmin = np.max(signal[t_cut]), np.min(signal[t_cut])\n",
    "vmoy = np.mean(signal[t_cut])\n",
    "\n",
    "\n",
    "def sin_to_fit(t, nu, phi):\n",
    "    return vmoy + np.sin((2 * np.pi / nu) * t + phi) * 0.5 * (vmax - vmin)\n",
    "\n",
    "\n",
    "sin_coeffs = curve_fit(sin_to_fit, time[t_cut], signal[t_cut], sigma=noise[t_cut])[0]\n",
    "plt.errorbar(time[t_cut], signal[t_cut], yerr=noise[t_cut], fmt=\".\")\n",
    "plt.plot(time[t_cut], sin_to_fit(time[t_cut], *sin_coeffs))"
   ]
  },
  {
   "cell_type": "code",
   "execution_count": null,
   "id": "0baec37f-fcb3-44f5-8192-60a3d3086ee1",
   "metadata": {},
   "outputs": [],
   "source": [
    "2 * sin_coeffs[0] * 24"
   ]
  },
  {
   "cell_type": "code",
   "execution_count": null,
   "id": "31ed210d-31e7-4295-a79f-be3b34932adf",
   "metadata": {},
   "outputs": [],
   "source": [
    "3.56 / 24 / 2"
   ]
  },
  {
   "cell_type": "code",
   "execution_count": null,
   "id": "7a92734a-7873-442a-bce6-634f25acd4eb",
   "metadata": {},
   "outputs": [],
   "source": []
  }
 ],
 "metadata": {
  "kernelspec": {
   "display_name": "Python - DUAO",
   "language": "python",
   "name": "duao"
  },
  "language_info": {
   "codemirror_mode": {
    "name": "ipython",
    "version": 3
   },
   "file_extension": ".py",
   "mimetype": "text/x-python",
   "name": "python",
   "nbconvert_exporter": "python",
   "pygments_lexer": "ipython3",
   "version": "3.11.9"
  }
 },
 "nbformat": 4,
 "nbformat_minor": 5
}
