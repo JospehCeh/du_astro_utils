{
 "cells": [
  {
   "cell_type": "code",
   "execution_count": null,
   "id": "4124f6d8-922d-43d0-8c32-06e8f98a0aec",
   "metadata": {},
   "outputs": [],
   "source": [
    "import numpy as np\n",
    "import matplotlib.pyplot as plt\n",
    "\n",
    "plt.rcParams[\"text.usetex\"] = True"
   ]
  },
  {
   "cell_type": "code",
   "execution_count": null,
   "id": "7fd0e66c-d1ee-4a1d-97aa-91d15af45605",
   "metadata": {},
   "outputs": [],
   "source": [
    "gal_id, gmag, gerr, rmag, rerr, imag, ierr, zmag, zerr, _, zs = np.loadtxt(\"UGC9412_GRIZ_LPin.in\", unpack=True)"
   ]
  },
  {
   "cell_type": "code",
   "execution_count": null,
   "id": "a4e3d278-5c9d-4560-983c-777e420f151b",
   "metadata": {},
   "outputs": [],
   "source": [
    "grcol = gmag - rmag\n",
    "grerr = np.sqrt(gerr**2 + rerr**2)"
   ]
  },
  {
   "cell_type": "code",
   "execution_count": null,
   "id": "a31ee389-f3bf-4ea2-8062-a58d2edf1923",
   "metadata": {},
   "outputs": [],
   "source": [
    "ricol = rmag - imag\n",
    "rierr = np.sqrt(rerr**2 + ierr**2)"
   ]
  },
  {
   "cell_type": "code",
   "execution_count": null,
   "id": "542f73ea-4414-45e7-a50d-67f0b2e9739b",
   "metadata": {},
   "outputs": [],
   "source": [
    "izcol = imag - zmag\n",
    "izerr = np.sqrt(zerr**2 + zerr**2)"
   ]
  },
  {
   "cell_type": "code",
   "execution_count": null,
   "id": "2a42f744-5193-4b50-aecd-be9d2aa4b046",
   "metadata": {},
   "outputs": [],
   "source": [
    "ref_z = 0.0311981\n",
    "ref_mags = np.array([14.130, 13.688, 13.463, 13.297])\n",
    "ref_cols = np.array([m1 - m2 for (m1, m2) in zip(ref_mags[:-1], ref_mags[1:])])"
   ]
  },
  {
   "cell_type": "code",
   "execution_count": null,
   "id": "7841b0b8-7fb3-4254-a2e4-a89c519a604c",
   "metadata": {},
   "outputs": [],
   "source": [
    "import os"
   ]
  },
  {
   "cell_type": "code",
   "execution_count": null,
   "id": "3a999f5d-5fe1-46d4-9d55-ebb79abba683",
   "metadata": {},
   "outputs": [],
   "source": [
    "filt_dir = os.path.abspath(\"Filters\")\n",
    "sed_dir = os.path.abspath(\"SEDs\")"
   ]
  },
  {
   "cell_type": "code",
   "execution_count": null,
   "id": "13068896-dc97-492c-94b3-8a5fd97503bc",
   "metadata": {},
   "outputs": [],
   "source": [
    "from sedpy import observate"
   ]
  },
  {
   "cell_type": "code",
   "execution_count": null,
   "id": "c3340283-53d8-4307-ace6-e816e1ed191c",
   "metadata": {},
   "outputs": [],
   "source": [
    "observate.list_available_filters()"
   ]
  },
  {
   "cell_type": "code",
   "execution_count": null,
   "id": "43ca3a74-5535-4795-8b2d-eecfcf33f4fd",
   "metadata": {},
   "outputs": [],
   "source": [
    "filt_list_sdssp = observate.load_filters([\"sdss_gp\", \"sdss_rp\", \"sdss_ip\", \"sdss_zp\"], directory=filt_dir)"
   ]
  },
  {
   "cell_type": "code",
   "execution_count": null,
   "id": "a788762c-988f-4e25-bc1b-0e3ed5530d55",
   "metadata": {},
   "outputs": [],
   "source": [
    "filt_list_sdss0 = observate.load_filters([\"sdss_g0\", \"sdss_r0\", \"sdss_i0\", \"sdss_z0\"])"
   ]
  },
  {
   "cell_type": "code",
   "execution_count": null,
   "id": "4f6ae9ea-5460-4d13-b821-ddf563b4a508",
   "metadata": {},
   "outputs": [],
   "source": [
    "for filt, f0 in zip(filt_list_sdssp, filt_list_sdss0):\n",
    "    plt.fill_between(filt.wavelength, filt.transmission, label=filt.name, alpha=0.5)\n",
    "    plt.plot(f0.wavelength, f0.transmission, label=f0.name)\n",
    "plt.legend()\n",
    "plt.xlabel(\"Longueur d'onde $\\mathrm{[\\AA]}$\")\n",
    "plt.ylabel(\"Transmission du filtre\")"
   ]
  },
  {
   "cell_type": "code",
   "execution_count": null,
   "id": "2b2bda97-edbc-466c-b861-651bacbc1042",
   "metadata": {},
   "outputs": [],
   "source": [
    "SED_list = os.path.join(sed_dir, \"CWW_KINNEY\", \"CWW_MOD.list\")\n",
    "os.path.isfile(SED_list)"
   ]
  },
  {
   "cell_type": "code",
   "execution_count": null,
   "id": "4125720d-b67d-4125-8bb6-c7ea777f8870",
   "metadata": {},
   "outputs": [],
   "source": [
    "rpfilt = filt_list_sdssp[1]\n",
    "f, a = plt.subplots(1, 1)\n",
    "for filt in filt_list_sdssp:\n",
    "    a.fill_between(filt.wavelength, filt.transmission, label=filt.name, alpha=0.5)\n",
    "a.set_xlabel(\"Longueur d'onde $\\mathrm{[\\AA]}$\")\n",
    "a.set_ylabel(\"Transmission SDSS\")\n",
    "abis = a.twinx()\n",
    "with open(SED_list, \"r\") as sedin:\n",
    "    for ix, line in enumerate(sedin.readlines()):\n",
    "        sed = line.split(\" \")[0]\n",
    "        fsed = os.path.join(sed_dir, sed)\n",
    "        sed_fn = os.path.basename(fsed)\n",
    "        wl, flux = np.loadtxt(fsed, unpack=True)\n",
    "        sed_rmag = rpfilt.ab_mag(wl, flux)\n",
    "        sed_fact = np.power(10, -0.4 * np.median(rmag)) / np.power(10, -0.4 * sed_rmag)\n",
    "        name = \"-\".join(sed_fn.split(\"_\")[0:2])\n",
    "        sed_rmag_scale = rpfilt.ab_mag(wl, flux * sed_fact)\n",
    "        # print(sed_rmag_scale)\n",
    "        abis.semilogy(wl, flux * sed_fact + ix * 0.25e-14, label=name)\n",
    "abis.set_ylabel(\"Densité spectrale de flux $\\mathrm{[erg.cm^{-2}.s^{-1}.\\AA^{-1}]}$\")\n",
    "abis.set_xlim(3500, 11100)\n",
    "abis.set_ylim(3e-15, 2e-13)\n",
    "f.legend(loc=\"lower left\", bbox_to_anchor=(1.05, 0.0))"
   ]
  },
  {
   "cell_type": "code",
   "execution_count": null,
   "id": "fac3e427-62c2-47f4-a57c-c9cfa7218662",
   "metadata": {},
   "outputs": [],
   "source": [
    "def col_sed_at_z(z, sed_wl_rest, sed_fl, filters_list):\n",
    "    wl_obs = (1 + z) * sed_wl_rest\n",
    "    obs_mags = observate.getSED(wl_obs, sed_fl, filterlist=filters_list)\n",
    "    obs_cols = np.array([m1 - m2 for (m1, m2) in zip(obs_mags[:-1], obs_mags[1:])])\n",
    "    return obs_cols"
   ]
  },
  {
   "cell_type": "code",
   "execution_count": null,
   "id": "92028af3-bf63-429f-a170-81fe8b47dcb4",
   "metadata": {},
   "outputs": [],
   "source": [
    "cols_ugc9412 = np.column_stack([grcol, ricol, izcol])\n",
    "colserr_ugc9412 = np.column_stack([grerr, rierr, izerr])\n",
    "cols_ugc9412.shape"
   ]
  },
  {
   "cell_type": "code",
   "execution_count": null,
   "id": "6d6dbaea-d329-4ed4-ba9f-a823ae935f63",
   "metadata": {},
   "outputs": [],
   "source": [
    "rpfilt = filt_list_sdssp[1]\n",
    "f, a = plt.subplots(1, 1)\n",
    "wlmeans = np.array([filt.wave_effective for filt in filt_list_sdssp])\n",
    "xcols = np.array([0.5 * (w1 + w2) for (w1, w2) in zip(wlmeans[:-1], wlmeans[1:])])\n",
    "for i, idgal in enumerate(gal_id):\n",
    "    a.errorbar(xcols, cols_ugc9412[i, :], yerr=colserr_ugc9412[i, :], marker=\"x\", label=f\"UGC 9412 - {idgal:.0f}\")\n",
    "with open(SED_list, \"r\") as sedin:\n",
    "    for line in sedin.readlines():\n",
    "        sed = line.split(\" \")[0]\n",
    "        fsed = os.path.join(sed_dir, sed)\n",
    "        sed_fn = os.path.basename(fsed)\n",
    "        wl, flux = np.loadtxt(fsed, unpack=True)\n",
    "        sed_rmag = rpfilt.ab_mag(wl, flux)\n",
    "        sed_fact = np.power(10, -0.4 * np.median(rmag)) / np.power(10, -0.4 * sed_rmag)\n",
    "        name = \"-\".join(sed_fn.split(\"_\")[0:2])\n",
    "        sed_rmag_scale = rpfilt.ab_mag(wl, flux * sed_fact)\n",
    "        sed_cols = col_sed_at_z(zs[0], wl, flux * sed_fact, filt_list_sdssp)\n",
    "        a.scatter(xcols, sed_cols, label=name, s=25)\n",
    "a.scatter(xcols, ref_cols, marker=\"s\", edgecolor=\"k\", facecolor=\"none\", label=\"Référence\", s=81)\n",
    "a.set_ylabel(\"Indices de couleur $[\\mathrm{AB\\ mags}]$\")\n",
    "a.set_xlabel(\"Longueur d'onde $0.5 \\\\times \\left( \\lambda_{mean}^{filtre\\ j} + \\lambda_{mean}^{filtre\\ j+1} \\\\right)\\ \\mathrm{[\\AA]}$\")\n",
    "a.legend(loc=\"lower left\", bbox_to_anchor=(1.01, 0.0))\n",
    "a.grid()"
   ]
  },
  {
   "cell_type": "code",
   "execution_count": null,
   "id": "84cd700b-73b8-4cc6-a999-45d464070b30",
   "metadata": {},
   "outputs": [],
   "source": [
    "from collections import namedtuple\n",
    "import astropy.units as u\n",
    "\n",
    "Template = namedtuple(\"Template\", [\"name\", \"wavelength\", \"flux_cgs\"])\n",
    "U_FL = u.def_unit(\"erg . cm^{-2} . s^{-1} . AA^{-1}\", u.erg / (u.cm**2 * u.s * u.AA))"
   ]
  },
  {
   "cell_type": "code",
   "execution_count": null,
   "id": "2dbe5d89-83ed-473e-ac64-f37ecd72c3da",
   "metadata": {},
   "outputs": [],
   "source": [
    "templates_list = []\n",
    "with open(SED_list, \"r\") as sedin:\n",
    "    for line in sedin.readlines():\n",
    "        sed = line.split(\" \")[0]\n",
    "        fsed = os.path.join(sed_dir, sed)\n",
    "        sed_fn = os.path.basename(fsed)\n",
    "        wl, flux = np.loadtxt(fsed, unpack=True)\n",
    "        sed_rmag = rpfilt.ab_mag(wl, flux)\n",
    "        sed_fact = np.power(10, -0.4 * np.median(rmag)) / np.power(10, -0.4 * sed_rmag)\n",
    "        sedname = \"-\".join(sed_fn.split(\"_\")[0:2])\n",
    "        sed_rmag_scale = rpfilt.ab_mag(wl, flux * sed_fact)\n",
    "        templates_list.append(Template(name=sedname, wavelength=wl * u.AA, flux_cgs=flux * sed_fact * U_FL))"
   ]
  },
  {
   "cell_type": "code",
   "execution_count": null,
   "id": "ab201e54-4644-43a5-96de-3a26372e5817",
   "metadata": {},
   "outputs": [],
   "source": [
    "def chi2(cols, cols_err, template, redz, filter_list):\n",
    "    sed_cols = col_sed_at_z(redz, template.wavelength.value, template.flux_cgs.value, filter_list)\n",
    "    terms = np.power((sed_cols - cols) / cols_err, 2)\n",
    "    # print(terms.shape)\n",
    "    return np.sum(np.power((sed_cols - cols) / cols_err, 2)) / len(cols)"
   ]
  },
  {
   "cell_type": "code",
   "execution_count": null,
   "id": "93366580-a222-4fcb-a1bc-d2b572ce961f",
   "metadata": {},
   "outputs": [],
   "source": [
    "z_grid = np.arange(0.0, 0.05, 0.0001)"
   ]
  },
  {
   "cell_type": "code",
   "execution_count": null,
   "id": "8ff8f14f-9d14-4cfc-bcfd-049ee1a9ad66",
   "metadata": {},
   "outputs": [],
   "source": [
    "all_chisq = []\n",
    "for templ in templates_list:\n",
    "    chisq = []\n",
    "    for ztest in z_grid:\n",
    "        chival = chi2(cols_ugc9412, colserr_ugc9412, templ, ztest, filt_list_sdssp)\n",
    "        chisq.append(chival)\n",
    "    all_chisq.append(np.array(chisq) / 100000)\n",
    "print(np.min(all_chisq))\n",
    "exp = np.exp(-0.5 * np.array(all_chisq))\n",
    "marg_dist = np.sum(exp, axis=0) / exp.shape[0]\n",
    "norm = np.trapezoid(marg_dist, x=z_grid)\n",
    "pdz = exp / norm\n",
    "for i, templ in enumerate(templates_list):\n",
    "    plt.plot(z_grid, pdz[i, :], label=templ.name)\n",
    "plt.axvline(zs[0], color=\"k\", label=f\"$z_s={ref_z:.4f}$\")\n",
    "plt.xlabel(\"Redshift $z$\")\n",
    "plt.ylabel(\"$P(z|\\mathrm{modele})$\")\n",
    "plt.legend()"
   ]
  },
  {
   "cell_type": "code",
   "execution_count": null,
   "id": "b44adbec-b044-4730-94d5-9181c14a2206",
   "metadata": {},
   "outputs": [],
   "source": [
    "plt.plot(z_grid, marg_dist / norm)\n",
    "plt.axvline(zs[0], color=\"k\", label=f\"$z_s={ref_z:.4f}$\")\n",
    "plt.xlabel(\"Redshift $z$\")\n",
    "plt.ylabel(\"Fonction densité de probabilité\")\n",
    "plt.legend()"
   ]
  },
  {
   "cell_type": "code",
   "execution_count": null,
   "id": "925f8bab-d69f-4fe9-a3d6-27b420954fa5",
   "metadata": {},
   "outputs": [],
   "source": [
    "z_grid = np.arange(0.0, 1.0, 0.0001)\n",
    "all_chisq = []\n",
    "for templ in templates_list:\n",
    "    chisq = []\n",
    "    for ztest in z_grid:\n",
    "        chisq.append(chi2(cols_ugc9412, colserr_ugc9412, templ, ztest, filt_list_sdssp))\n",
    "    all_chisq.append(np.array(chisq) / 100000)\n",
    "print(np.min(all_chisq))\n",
    "exp = np.exp(-0.5 * np.array(all_chisq))\n",
    "marg_dist = np.sum(exp, axis=0) / exp.shape[0]\n",
    "norm = np.trapezoid(marg_dist, x=z_grid)\n",
    "pdz = exp / norm\n",
    "for i, templ in enumerate(templates_list):\n",
    "    plt.plot(z_grid, pdz[i, :], label=templ.name)\n",
    "plt.axvline(zs[0], color=\"k\", label=f\"$z_s={ref_z:.4f}$\")\n",
    "plt.xlabel(\"Redshift $z$\")\n",
    "plt.ylabel(\"$P(z|\\mathrm{SED})$\")\n",
    "plt.legend(loc=\"lower right\")\n",
    "plt.grid()"
   ]
  },
  {
   "cell_type": "code",
   "execution_count": null,
   "id": "6582e132-186a-4bae-9b7a-1b0a6eb09a01",
   "metadata": {},
   "outputs": [],
   "source": [
    "plt.plot(z_grid, marg_dist / norm)\n",
    "plt.axvline(zs[0], color=\"k\", label=f\"$z_s={ref_z:.4f}$\")\n",
    "plt.xlabel(\"Redshift $z$\")\n",
    "plt.ylabel(\"Fonction densité de probabilité\")\n",
    "plt.legend()\n",
    "plt.grid()"
   ]
  },
  {
   "cell_type": "code",
   "execution_count": null,
   "id": "e6ca475d-71ec-4d0f-b786-cc0ee3da1626",
   "metadata": {},
   "outputs": [],
   "source": [
    "z_grid = np.arange(0.0, 1.0, 0.001)\n",
    "all_exps = []\n",
    "for templ in templates_list:\n",
    "    all_chisq = []\n",
    "    for it, mn in enumerate(gal_id):\n",
    "        chisq = []\n",
    "        for ztest in z_grid:\n",
    "            chisq.append(chi2(cols_ugc9412[it], colserr_ugc9412[it], templ, ztest, filt_list_sdssp))\n",
    "        all_chisq.append(np.array(chisq) / 100000)\n",
    "    exp = np.exp(-0.5 * np.array(all_chisq))\n",
    "    all_exps.append(exp)\n",
    "\n",
    "all_exps = np.array(all_exps)\n",
    "# print(all_exps.shape)\n",
    "marg_templ = np.sum(all_exps, axis=0) / all_exps.shape[0]\n",
    "# print(marg_templ.shape)\n",
    "marg_dist = np.sum(marg_templ, axis=0) / marg_templ.shape[0]\n",
    "# print(marg_dist.shape)\n",
    "norm = np.trapezoid(marg_dist, x=z_grid)\n",
    "pdz = all_exps / norm\n",
    "# print(pdz.shape)\n",
    "for i, templ in enumerate(templates_list):\n",
    "    pdz_mean = np.mean(pdz[i, :, :], axis=0)\n",
    "    # print(pdz_mean.shape)\n",
    "    pdz_std = np.std(all_exps[i, :, :], axis=0)\n",
    "    plt.plot(z_grid, pdz_mean, label=templ.name)\n",
    "    plt.fill_between(z_grid, pdz_mean - pdz_std, pdz_mean + pdz_std, alpha=0.2)\n",
    "plt.axvline(zs[0], color=\"k\", label=f\"$z_s={ref_z:.4f}$\")\n",
    "plt.xlabel(\"Redshift $z$\")\n",
    "plt.ylabel(\"$p\\left( z|\\mathrm{SED} \\\\right)$\")\n",
    "plt.legend(loc=\"lower right\")\n",
    "plt.grid()\n",
    "plt.show()\n",
    "\n",
    "\n",
    "marg_mean = np.mean(marg_templ, axis=0) / norm\n",
    "marg_std = np.std(marg_templ, axis=0) / norm\n",
    "plt.plot(z_grid, marg_mean)\n",
    "plt.fill_between(z_grid, marg_mean - marg_std, marg_mean + marg_std, alpha=0.2)\n",
    "plt.axvline(zs[0], color=\"k\", label=f\"$z_s={ref_z:.4f}$\")\n",
    "plt.xlabel(\"Redshift $z$\")\n",
    "plt.ylabel(\"Fonction densité de probabilité $p(z)$\")\n",
    "plt.legend(loc=\"lower right\")\n",
    "plt.grid()\n",
    "plt.show()"
   ]
  },
  {
   "cell_type": "code",
   "execution_count": null,
   "id": "0f39c63c-2122-4af4-a4f2-45f524a3a0ea",
   "metadata": {},
   "outputs": [],
   "source": [
    "z_grid = np.arange(0.0, 0.2, 0.0001)\n",
    "all_exps = []\n",
    "for templ in templates_list[1:3] + templates_list[6:]:\n",
    "    all_chisq = []\n",
    "    for it, mn in enumerate(gal_id):\n",
    "        chisq = []\n",
    "        for ztest in z_grid:\n",
    "            chisq.append(chi2(cols_ugc9412[it], colserr_ugc9412[it], templ, ztest, filt_list_sdssp))\n",
    "        all_chisq.append(np.array(chisq) / 100000)\n",
    "    exp = np.exp(-0.5 * np.array(all_chisq))\n",
    "    all_exps.append(exp)\n",
    "\n",
    "all_exps = np.array(all_exps)\n",
    "# print(all_exps.shape)\n",
    "marg_templ = np.sum(all_exps, axis=0) / all_exps.shape[0]\n",
    "# print(marg_templ.shape)\n",
    "marg_dist = np.sum(marg_templ, axis=0) / marg_templ.shape[0]\n",
    "# print(marg_dist.shape)\n",
    "norm = np.trapezoid(marg_dist, x=z_grid)\n",
    "pdz = all_exps / norm\n",
    "# print(pdz.shape)\n",
    "for i, templ in enumerate(templates_list[1:3] + templates_list[6:]):\n",
    "    pdz_mean = np.mean(pdz[i, :, :], axis=0)\n",
    "    # print(pdz_mean.shape)\n",
    "    pdz_std = np.std(all_exps[i, :, :], axis=0)\n",
    "    plt.plot(z_grid, pdz_mean, label=templ.name)\n",
    "    plt.fill_between(z_grid, pdz_mean - pdz_std, pdz_mean + pdz_std, alpha=0.2)\n",
    "plt.axvline(zs[0], color=\"k\", label=f\"$z_s={ref_z:.4f}$\")\n",
    "plt.xlabel(\"Redshift $z$\")\n",
    "plt.ylabel(\"$p\\left( z|\\mathrm{SED} \\\\right)$\")\n",
    "plt.legend(loc=\"lower right\")\n",
    "plt.grid()\n",
    "plt.show()\n",
    "\n",
    "marg_mean = np.mean(marg_templ, axis=0) / norm\n",
    "marg_std = np.std(marg_templ, axis=0) / norm\n",
    "zp = z_grid[np.argmax(marg_mean)]\n",
    "print(f\"$z_p={zp:.4f}$\")\n",
    "\n",
    "plt.plot(z_grid, marg_mean, label=\"Distribution marginalisée\", lw=4)\n",
    "# plt.fill_between(z_grid, marg_mean-marg_std, marg_mean+marg_std, alpha=0.2)\n",
    "all_zp = []\n",
    "for it, mn in enumerate(gal_id):\n",
    "    plt.plot(z_grid, marg_templ[it, :] / norm, label=f\"UGC 9412 - {mn:.0f}\")\n",
    "    all_zp.append(z_grid[np.argmax(marg_templ[it, :] / norm)])\n",
    "print(f\"z_p moyen = {np.mean(all_zp):.4f}, +/- {np.std(all_zp):.4f}\")\n",
    "# plt.plot(z_grid, marg_dist/norm)\n",
    "plt.axvline(zs[0], color=\"k\", ls=\"-\", label=f\"$z_s={ref_z:.4f}$\")\n",
    "plt.axvline(zp, color=\"k\", ls=\":\", lw=3, label=f\"$z_p={zp:.4f}$\")\n",
    "plt.xlabel(\"Redshift $z$\")\n",
    "plt.ylabel(\"Fonction densité de probabilité $p(z)$\")\n",
    "plt.legend(loc=\"lower right\")\n",
    "plt.grid()\n",
    "plt.show()"
   ]
  },
  {
   "cell_type": "code",
   "execution_count": null,
   "id": "b646cc18-697e-460a-a308-261e9c161dc9",
   "metadata": {},
   "outputs": [],
   "source": [
    "biais = (zp - ref_z) / (1 + ref_z)\n",
    "print(0.85 * ref_z, biais, 1.15 * ref_z)"
   ]
  },
  {
   "cell_type": "code",
   "execution_count": null,
   "id": "e4deeda3-f618-43ad-ab3f-c0f449fcc4e1",
   "metadata": {},
   "outputs": [],
   "source": [
    "zp = np.trapezoid(marg_mean * z_grid, x=z_grid)\n",
    "print(f\"$z_p={zp:.4f}$\")"
   ]
  },
  {
   "cell_type": "code",
   "execution_count": null,
   "id": "85d0c20e-4944-44ad-b788-eedde0dbd059",
   "metadata": {},
   "outputs": [],
   "source": [
    "z_grid = np.arange(0.0, 0.05, 0.0001)\n",
    "all_chisq = []\n",
    "for templ in templates_list:\n",
    "    chisq = []\n",
    "    for ztest in z_grid:\n",
    "        chisq.append(chi2(ref_cols, colserr_ugc9412, templ, ztest, filt_list_sdssp))\n",
    "    all_chisq.append(np.array(chisq) / 100000)\n",
    "print(np.min(all_chisq))\n",
    "exp = np.exp(-0.5 * np.array(all_chisq))\n",
    "marg_dist = np.sum(exp, axis=0) / exp.shape[0]\n",
    "norm = np.trapezoid(marg_dist, x=z_grid)\n",
    "pdz = exp / norm\n",
    "for i, templ in enumerate(templates_list):\n",
    "    plt.plot(z_grid, pdz[i, :], label=templ.name)\n",
    "plt.axvline(ref_z, color=\"k\", label=f\"$z_s={ref_z:.4f}$\")\n",
    "plt.xlabel(\"Redshift $z$\")\n",
    "plt.ylabel(\"$P(z|\\mathrm{modele})$\")\n",
    "plt.legend()"
   ]
  },
  {
   "cell_type": "code",
   "execution_count": null,
   "id": "771b92ed-5a54-4b0a-903e-e661cbe79de9",
   "metadata": {},
   "outputs": [],
   "source": [
    "plt.plot(z_grid, marg_dist / norm)\n",
    "plt.axvline(ref_z, color=\"k\", label=f\"$z_s={ref_z:.4f}$\")\n",
    "plt.xlabel(\"Redshift $z$\")\n",
    "plt.ylabel(\"Fonction densité de probabilité\")\n",
    "plt.legend()"
   ]
  },
  {
   "cell_type": "code",
   "execution_count": null,
   "id": "d4821af1-8e1a-49d0-a1b4-a0262aac2dea",
   "metadata": {},
   "outputs": [],
   "source": [
    "from astroquery.simbad import Simbad\n",
    "\n",
    "simbad = Simbad()\n",
    "# simbad.add_votable_fields('measurements')\n",
    "simbad.add_votable_fields(\"z_value\")\n",
    "result = simbad.query_object(\"UGC 9412\")\n",
    "result"
   ]
  },
  {
   "cell_type": "code",
   "execution_count": null,
   "id": "7fe9edd4-c0a6-4a2e-b8d7-024ce7a54159",
   "metadata": {},
   "outputs": [],
   "source": [
    "simbad.list_votable_fields()"
   ]
  },
  {
   "cell_type": "code",
   "execution_count": null,
   "id": "14bac794-90e6-4a47-8a45-2a9f61a5087e",
   "metadata": {},
   "outputs": [],
   "source": [
    "tab63 = np.array([[6, 5, 4], [6, 5, 4], [6, 5, 4], [6, 5, 4], [6, 5, 4], [6, 5, 4]])\n",
    "tab63.shape"
   ]
  },
  {
   "cell_type": "code",
   "execution_count": null,
   "id": "fdc89ce5-fa37-4d99-af99-0e214f29aa9a",
   "metadata": {},
   "outputs": [],
   "source": [
    "tab3 = np.array([1, 2, 3])\n",
    "tab3.shape"
   ]
  },
  {
   "cell_type": "code",
   "execution_count": null,
   "id": "74ee22c2-7063-4f59-9d84-668accca90d7",
   "metadata": {},
   "outputs": [],
   "source": [
    "tab63 - tab3"
   ]
  },
  {
   "cell_type": "code",
   "execution_count": null,
   "id": "7cb09250-eb03-4169-8e5a-38c74fff5795",
   "metadata": {},
   "outputs": [],
   "source": [
    "tab36 = np.transpose(tab63)\n",
    "tab36.shape"
   ]
  },
  {
   "cell_type": "markdown",
   "id": "8de78775-fdef-424b-a8d3-371a13d935cf",
   "metadata": {},
   "source": [
    "## Spectre"
   ]
  },
  {
   "cell_type": "code",
   "execution_count": null,
   "id": "1db607b0-4355-4f46-83d4-ad365ae1af9c",
   "metadata": {},
   "outputs": [],
   "source": [
    "spec_file = \"UGC_9412_wlc.fits\"  #'UGC_9412_wlc_cont.fits' #"
   ]
  },
  {
   "cell_type": "code",
   "execution_count": null,
   "id": "653ea96b-93e8-4305-88ea-b9c26db541f7",
   "metadata": {},
   "outputs": [],
   "source": [
    "from astropy.io import fits\n",
    "\n",
    "with fits.open(spec_file) as hdul:\n",
    "    hdu = hdul[0]\n",
    "    header = hdu.header\n",
    "    data = hdu.data\n",
    "header"
   ]
  },
  {
   "cell_type": "code",
   "execution_count": null,
   "id": "bd692b9e-aa76-428d-ae00-69478bb82cb4",
   "metadata": {},
   "outputs": [],
   "source": [
    "print(data.shape)"
   ]
  },
  {
   "cell_type": "code",
   "execution_count": null,
   "id": "9ede61dd-8838-4da8-ba78-f513c2a1150b",
   "metadata": {},
   "outputs": [],
   "source": [
    "wls = np.array([header[\"CRVAL1\"] + i * header[\"CDELT1\"] for i in range(len(data))])\n",
    "print(len(wls))"
   ]
  },
  {
   "cell_type": "code",
   "execution_count": null,
   "id": "91249815-c16d-405e-bddd-f3dc19b36dae",
   "metadata": {},
   "outputs": [],
   "source": [
    "plt.plot(wls, data)"
   ]
  },
  {
   "cell_type": "code",
   "execution_count": null,
   "id": "5b6d3c18-2824-4725-abe3-8036ce45db9b",
   "metadata": {},
   "outputs": [],
   "source": [
    "f, a = plt.subplots(1, 1)\n",
    "for filt in filt_list_sdssp:\n",
    "    a.fill_between(filt.wavelength, filt.transmission, label=filt.name, alpha=0.5)\n",
    "a.set_xlabel(\"Longueur d'onde $\\mathrm{[\\AA]}$\")\n",
    "a.set_ylabel(\"Transmission SDSS\")\n",
    "abis = a.twinx()\n",
    "for i, templ in enumerate(templates_list[1:3] + templates_list[6:]):\n",
    "    abis.plot(templ.wavelength, templ.flux_cgs, label=templ.name)\n",
    "spec_rmag = rpfilt.ab_mag(wls, data)\n",
    "spec_fact = np.power(10, -0.4 * np.median(rmag)) / np.power(10, -0.4 * spec_rmag)\n",
    "ref_sed = data * spec_fact\n",
    "abis.plot(wls / (1 + ref_z), ref_sed, label=\"UGC 9412\")\n",
    "abis.set_ylabel(\"Densité spectrale de flux $\\mathrm{[erg.cm^{-2}.s^{-1}.\\AA^{-1}]}$\")\n",
    "abis.set_xlim(3500, 11100)\n",
    "# abis.set_ylim(3e-15, 2e-13)\n",
    "f.legend(loc=\"lower left\", bbox_to_anchor=(1.05, 0.0))"
   ]
  },
  {
   "cell_type": "code",
   "execution_count": null,
   "id": "b54fae27-e9f2-4312-8e70-1c817d822954",
   "metadata": {},
   "outputs": [],
   "source": [
    "gpfilt = filt_list_sdssp[0]\n",
    "rpfilt = filt_list_sdssp[1]\n",
    "ipfilt = filt_list_sdssp[2]\n",
    "\n",
    "spec_gmag = gpfilt.ab_mag(wls, data)\n",
    "spec_fact_g = np.power(10, -0.4 * np.median(gmag)) / np.power(10, -0.4 * spec_gmag)\n",
    "\n",
    "spec_rmag = rpfilt.ab_mag(wls, data)\n",
    "spec_fact_r = np.power(10, -0.4 * np.median(rmag)) / np.power(10, -0.4 * spec_rmag)\n",
    "\n",
    "spec_imag = ipfilt.ab_mag(wls, data)\n",
    "spec_fact_i = np.power(10, -0.4 * np.median(imag)) / np.power(10, -0.4 * spec_imag)\n",
    "\n",
    "\n",
    "def calib_fun(lamb, a, b, c):\n",
    "    return a * np.power(lamb, 2) + b * lamb + c\n",
    "\n",
    "\n",
    "lambref = wlmeans[:3]\n",
    "calib_vals = np.array([spec_fact_g, spec_fact_r, spec_fact_i])\n",
    "\n",
    "from scipy.optimize import curve_fit\n",
    "\n",
    "popt, pcov = curve_fit(calib_fun, lambref, calib_vals)\n",
    "\n",
    "f, a = plt.subplots(1, 1)\n",
    "a.plot(wls, data, c=\"tab:orange\", label=\"Spectre UGC 9412\\n Crédit : Emmanuel Valentin\")\n",
    "abis = a.twinx()\n",
    "abis.plot(wls, calib_fun(wls, *popt), label=\"Polynôme du second degré de\\n calibration en intensité\")\n",
    "abis.scatter(lambref, calib_vals, marker=\"x\", label=\"Points d'étalonnage sur\\n la photométrie gp, rp, ip\")\n",
    "a.set_xlabel(\"Longueur d'onde $\\mathrm{[\\AA]}$\")\n",
    "a.set_ylabel(\"Spectre brut $\\mathrm{[ADU]}$\")\n",
    "abis.set_ylabel(\"Fonction de calibration $\\mathrm{[erg.cm^{-2}.s^{-1}.\\AA^{-1}.ADU^{-1}]}$\")\n",
    "f.legend(loc=\"upper left\")"
   ]
  },
  {
   "cell_type": "code",
   "execution_count": null,
   "id": "efcfe0c7-1741-486e-80a9-2748dc0efdfe",
   "metadata": {},
   "outputs": [],
   "source": [
    "f, a = plt.subplots(1, 1)\n",
    "for filt in filt_list_sdssp:\n",
    "    a.fill_between(filt.wavelength, filt.transmission, label=filt.name, alpha=0.5)\n",
    "a.set_xlabel(\"Longueur d'onde $\\mathrm{[\\AA]}$\")\n",
    "a.set_ylabel(\"Transmission SDSS\")\n",
    "abis = a.twinx()\n",
    "for i, templ in enumerate(templates_list[1:3] + templates_list[6:]):\n",
    "    abis.plot(templ.wavelength, templ.flux_cgs, label=templ.name, lw=1, alpha=0.7)\n",
    "\n",
    "ref_sed = data * calib_fun(wls, *popt)\n",
    "abis.plot(wls / (1 + ref_z), ref_sed, c=\"k\", lw=1.3, label=\"UGC 9412 à $z=0$\", alpha=0.8)\n",
    "abis.plot(wls, ref_sed, c=\"gray\", ls=\":\", lw=1.3, label=\"UGC 9412 - original\", alpha=0.7)\n",
    "abis.set_ylabel(\"Densité spectrale de flux $\\mathrm{[erg.cm^{-2}.s^{-1}.\\AA^{-1}]}$\")\n",
    "abis.set_xlim(3500, 9100)\n",
    "# abis.set_ylim(3e-15, 2e-13)\n",
    "abis.grid()\n",
    "f.legend(loc=\"lower left\", bbox_to_anchor=(0.97, 0.05))"
   ]
  },
  {
   "cell_type": "code",
   "execution_count": null,
   "id": "7122e4b4-c2cc-483d-a74b-b66fcab99312",
   "metadata": {},
   "outputs": [],
   "source": []
  }
 ],
 "metadata": {
  "kernelspec": {
   "display_name": "Python - DUAO",
   "language": "python",
   "name": "duao"
  },
  "language_info": {
   "codemirror_mode": {
    "name": "ipython",
    "version": 3
   },
   "file_extension": ".py",
   "mimetype": "text/x-python",
   "name": "python",
   "nbconvert_exporter": "python",
   "pygments_lexer": "ipython3",
   "version": "3.11.9"
  }
 },
 "nbformat": 4,
 "nbformat_minor": 5
}
