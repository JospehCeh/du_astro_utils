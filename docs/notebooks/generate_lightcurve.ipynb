{
 "cells": [
  {
   "cell_type": "markdown",
   "id": "6fc74dd2-7acd-421c-b164-14019a6c5a08",
   "metadata": {},
   "source": [
    "# Notebook pour créer des courbes de lumière\n",
    "En utilisant les fonctions de calibration et de photmétrie disponibles, on va créer simplement une courbe de lumière à partir des images d'un dossier (correspondant à une cible)."
   ]
  },
  {
   "cell_type": "code",
   "execution_count": null,
   "id": "a9f7595c-b0df-4691-8c93-43f6dcc0d8c0",
   "metadata": {},
   "outputs": [],
   "source": [
    "import os, time\n",
    "from du_astro_utils import calibration, photometry, utils\n",
    "import matplotlib.pyplot as plt\n",
    "import numpy as np\n",
    "from astropy.io import fits\n",
    "from astropy.table import Table\n",
    "from astropy.stats import sigma_clipped_stats\n",
    "from astropy.timeseries import TimeSeries\n",
    "from scipy.ndimage import median_filter"
   ]
  },
  {
   "cell_type": "code",
   "execution_count": null,
   "id": "5d72ef22-4d13-4a20-a010-6af926e7cff6",
   "metadata": {},
   "outputs": [],
   "source": [
    "aster_dir = os.path.join(utils.C2PU_DATA_DIR, utils.DIR_PHOTOM, utils.DIR_ASTER)\n",
    "os.listdir(aster_dir)"
   ]
  },
  {
   "cell_type": "code",
   "execution_count": null,
   "id": "97497a40-f272-4de5-a9ca-e78e8585629a",
   "metadata": {},
   "outputs": [],
   "source": [
    "for adir in os.listdir(aster_dir):\n",
    "    asteroids_dir = os.path.join(aster_dir, adir)\n",
    "    if os.path.isdir(asteroids_dir):\n",
    "        list_fits = [im for im in sorted(os.listdir(asteroids_dir)) if \".fits\" in im]\n",
    "        list_fits = sorted(list_fits)\n",
    "        print(asteroids_dir, len(list_fits))"
   ]
  },
  {
   "cell_type": "code",
   "execution_count": null,
   "id": "f5b7b8ce-ccac-45d2-b0e4-a01031fc0640",
   "metadata": {},
   "outputs": [],
   "source": [
    "achoice = os.listdir(aster_dir)[0]\n",
    "aligned = False\n",
    "asteroids_dir = os.path.join(aster_dir, achoice)\n",
    "if aligned:\n",
    "    asteroids_dir = os.path.join(asteroids_dir, \"aligned\")\n",
    "list_fits = [im for im in sorted(os.listdir(asteroids_dir)) if \".fits\" in im]\n",
    "list_fits = sorted(list_fits)"
   ]
  },
  {
   "cell_type": "code",
   "execution_count": null,
   "id": "fb19e395-0b93-4cf4-bba4-3087e470d815",
   "metadata": {
    "tags": []
   },
   "outputs": [],
   "source": [
    "list_fits"
   ]
  },
  {
   "cell_type": "code",
   "execution_count": null,
   "id": "064d121e-a3bc-4391-ba60-ac21af5e9a4c",
   "metadata": {
    "tags": []
   },
   "outputs": [],
   "source": [
    "rerun = True\n",
    "use_calib = True\n",
    "use_sextractor = True\n",
    "\n",
    "if rerun:\n",
    "    from tqdm import tqdm\n",
    "    from astropy.timeseries import TimeSeries\n",
    "    from astropy.table import vstack\n",
    "\n",
    "    import warnings\n",
    "    from astropy.utils.exceptions import AstropyWarning\n",
    "\n",
    "    warnings.simplefilter(\"ignore\", category=AstropyWarning)\n",
    "\n",
    "    for loc, scimage in enumerate(tqdm(list_fits)):\n",
    "        fits_sci_image = os.path.join(asteroids_dir, scimage)\n",
    "        fits_sci_image = os.path.abspath(fits_sci_image)\n",
    "        if os.path.isfile(fits_sci_image):\n",
    "            # Get image directory, failename and extension\n",
    "            sc_im_dir = os.path.abspath(os.path.dirname(fits_sci_image))\n",
    "            sc_im_name, sc_im_ext = os.path.splitext(os.path.basename(fits_sci_image))\n",
    "\n",
    "            if use_calib:\n",
    "                bias_dir, darks_dir, flats_dir = utils.get_calib_dirs_photometry(fits_sci_image)\n",
    "\n",
    "                # Get information from FITS header\n",
    "                sc_date, sc_scope, sc_cam, sc_filter, sc_expos, sc_x, sc_y = calibration.get_infos_from_image(fits_sci_image, verbose=False)\n",
    "                # print(sc_date, sc_scope, sc_cam, sc_filter, sc_expos, sc_x, sc_y)\n",
    "\n",
    "                # Run calibration\n",
    "                dico_calib = calibration.reduce_sci_image(fits_sci_image, darks_dir, flats_dir, path_to_bias_dir=\"\", use_bias=False, override_date_check=True, max_days=7, speedup=True, verbose=False, write_tmp=True)\n",
    "                red_sci_image = dico_calib[\"path\"]\n",
    "            else:\n",
    "                red_sci_image = fits_sci_image\n",
    "\n",
    "            # Analysis\n",
    "            # hdu = fits.open(red_sci_image)[0]\n",
    "            im_dir = os.path.abspath(os.path.dirname(red_sci_image))\n",
    "            im_name, im_ext = os.path.splitext(os.path.basename(red_sci_image))\n",
    "            if loc == 0:\n",
    "                if use_sextractor:\n",
    "                    sex_cmd = f\"source-extractor -c default.sex {red_sci_image} -CATALOG_NAME tmp_sources.cat -CATALOG_TYPE FITS_1.0 -GAIN 0.932 -VERBOSE_TYPE QUIET\"\n",
    "                    os.system(sex_cmd)\n",
    "                    cat_tab = Table.read(\"tmp_sources.cat\")\n",
    "                    cat_tab.rename_column(\"X_IMAGE\", \"xcentroid\")\n",
    "                    cat_tab.rename_column(\"Y_IMAGE\", \"ycentroid\")\n",
    "                    fwhm, _, _ = sigma_clipped_stats(cat_tab[\"FWHM_IMAGE\"])\n",
    "                else:\n",
    "                    try:\n",
    "                        sources = photometry.detect_sources(red_sci_image, detection_fwhm=10, verbose=False)\n",
    "                        fwhm = photometry.get_fwhm(red_sci_image, sources)\n",
    "                    except RuntimeError:\n",
    "                        fwhm = 10\n",
    "            phot_target_table = photometry.query_named_sso_photometry(red_sci_image, fwhm, verbose=False)\n",
    "            # phot_target_table.pprint()\n",
    "\n",
    "            if loc == 0:\n",
    "                concat_ts = phot_target_table\n",
    "            else:\n",
    "                try:\n",
    "                    concat_ts = vstack([concat_ts, phot_target_table])\n",
    "                except ValueError:\n",
    "                    pass\n",
    "    try:\n",
    "        if use_calib:\n",
    "            if aligned:\n",
    "                concat_ts.write(f\"{asteroids_dir.split('-')[-1].split('/')[0]}_aligned_CAL.fits\", format=\"fits\", overwrite=True)\n",
    "            else:\n",
    "                concat_ts.write(f\"{asteroids_dir.split('-')[-1]}_CAL.fits\", format=\"fits\", overwrite=True)\n",
    "        else:\n",
    "            if aligned:\n",
    "                concat_ts.write(f\"{asteroids_dir.split('-')[-1].split('/')[0]}_aligned.fits\", format=\"fits\", overwrite=True)\n",
    "            else:\n",
    "                concat_ts.write(f\"{asteroids_dir.split('-')[-1]}.fits\", format=\"fits\", overwrite=True)\n",
    "    except OSError:\n",
    "        time.sleep(5)\n",
    "        if use_calib:\n",
    "            if aligned:\n",
    "                concat_ts.write(f\"{asteroids_dir.split('-')[-1].split('/')[0]}_aligned_CAL.fits\", format=\"fits\", overwrite=True)\n",
    "            else:\n",
    "                concat_ts.write(f\"{asteroids_dir.split('-')[-1]}_CAL.fits\", format=\"fits\", overwrite=True)\n",
    "        else:\n",
    "            if aligned:\n",
    "                concat_ts.write(f\"{asteroids_dir.split('-')[-1].split('/')[0]}_aligned.fits\", format=\"fits\", overwrite=True)\n",
    "            else:\n",
    "                concat_ts.write(f\"{asteroids_dir.split('-')[-1]}.fits\", format=\"fits\", overwrite=True)\n",
    "    # concat_ts.pprint()\n",
    "    # plt.errorbar(phot_target_table[\"Epoch\"], phot_target_table[\"aper_sum_bkgsub\"], yerr=phot_target_table[\"noise\"])\n",
    "else:\n",
    "    if use_calib:\n",
    "        if aligned:\n",
    "            concat_ts = Table.read(f\"{asteroids_dir.split('-')[-1].split('/')[0]}_aligned_CAL.fits\", format=\"fits\")\n",
    "        else:\n",
    "            concat_ts = Table.read(f\"{asteroids_dir.split('-')[-1]}_CAL.fits\", format=\"fits\")\n",
    "    else:\n",
    "        if aligned:\n",
    "            concat_ts = Table.read(f\"{asteroids_dir.split('-')[-1].split('/')[0]}_aligned.fits\", format=\"fits\")\n",
    "        else:\n",
    "            concat_ts = Table.read(f\"{asteroids_dir.split('-')[-1]}.fits\", format=\"fits\")"
   ]
  },
  {
   "cell_type": "code",
   "execution_count": null,
   "id": "7379b557-af36-4ee4-9671-8ac30195b727",
   "metadata": {},
   "outputs": [],
   "source": [
    "concat_ts"
   ]
  },
  {
   "cell_type": "code",
   "execution_count": null,
   "id": "63384b64-c0d4-405c-8e6d-bfd0ab42dc7b",
   "metadata": {},
   "outputs": [],
   "source": [
    "concat_ts[\"time\"].shape"
   ]
  },
  {
   "cell_type": "code",
   "execution_count": null,
   "id": "682cba39-234b-482c-a1ea-642c611a35a4",
   "metadata": {},
   "outputs": [],
   "source": [
    "#!pip install ipympl\n",
    "# %matplotlib widget\n",
    "sel = concat_ts[\"aper_sum_bkgsub\"] > 0\n",
    "concat_ts = concat_ts[sel]\n",
    "plt.scatter(concat_ts.time.datetime64, concat_ts[\"aper_sum_bkgsub\"])\n",
    "plt.tick_params(axis=\"x\", labelrotation=90)\n",
    "plt.ylim(-100, 6000)"
   ]
  },
  {
   "cell_type": "code",
   "execution_count": null,
   "id": "dd910a37-7f53-4f9e-9c87-1a6363c56970",
   "metadata": {},
   "outputs": [],
   "source": [
    "from astropy.stats import sigma_clipped_stats\n",
    "\n",
    "mean, med, sig = sigma_clipped_stats(concat_ts[\"aper_sum_bkgsub\"])\n",
    "# %matplotlib inline\n",
    "\n",
    "_sel = concat_ts[\"SNR\"] > 2\n",
    "plt.plot(concat_ts[_sel].time.datetime64, concat_ts[_sel][\"aper_sum_bkgsub\"])\n",
    "plt.tick_params(axis=\"x\", labelrotation=90)\n",
    "plt.ylim(-100, 6000)"
   ]
  },
  {
   "cell_type": "code",
   "execution_count": null,
   "id": "5dd98725-009f-463d-95e0-bfe499d7861d",
   "metadata": {},
   "outputs": [],
   "source": []
  }
 ],
 "metadata": {
  "kernelspec": {
   "display_name": "Python 3 (ipykernel)",
   "language": "python",
   "name": "python3"
  },
  "language_info": {
   "codemirror_mode": {
    "name": "ipython",
    "version": 3
   },
   "file_extension": ".py",
   "mimetype": "text/x-python",
   "name": "python",
   "nbconvert_exporter": "python",
   "pygments_lexer": "ipython3",
   "version": "3.9.12"
  }
 },
 "nbformat": 4,
 "nbformat_minor": 5
}
